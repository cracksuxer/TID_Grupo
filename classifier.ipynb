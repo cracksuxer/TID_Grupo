{
 "cells": [
  {
   "attachments": {},
   "cell_type": "markdown",
   "metadata": {},
   "source": [
    "#### Se usará la base de datos datos_credit_balanced_sin_correlación.csv"
   ]
  },
  {
   "cell_type": "code",
   "execution_count": 1,
   "metadata": {},
   "outputs": [],
   "source": [
    "import pandas as pd"
   ]
  },
  {
   "attachments": {},
   "cell_type": "markdown",
   "metadata": {},
   "source": [
    "#### Para aumentar la velocidad de lectura del banco de datos, se guardará el csv en formato pkl que es considerablemente más rápido. De ahora en adelante se importará desde ese tipo de archivo"
   ]
  },
  {
   "cell_type": "code",
   "execution_count": 2,
   "metadata": {},
   "outputs": [],
   "source": [
    "from rich.console import Console\n",
    "from rich import print\n",
    "import math\n",
    "console = Console()"
   ]
  },
  {
   "cell_type": "code",
   "execution_count": 3,
   "metadata": {},
   "outputs": [],
   "source": [
    "def convert_to_hours(time_diff):\n",
    "    \"\"\"\n",
    "    Rounds the given time differences (in seconds) to the nearest whole number of hours.\n",
    "    \"\"\"\n",
    "    if time_diff >= 86400:\n",
    "        time_diff = time_diff / 2\n",
    "    return int(math.floor(time_diff / 3600))"
   ]
  },
  {
   "attachments": {},
   "cell_type": "markdown",
   "metadata": {},
   "source": [
    "#### Clasificador K-NN"
   ]
  },
  {
   "cell_type": "code",
   "execution_count": 4,
   "metadata": {},
   "outputs": [],
   "source": [
    "unbalanced_data = pd.read_pickle(\"./pickled/creditcard_unbalanced.pkl\")\n",
    "balanced_data = pd.read_pickle(\"./pickled/creditcard_smotek.pkl\")"
   ]
  },
  {
   "attachments": {},
   "cell_type": "markdown",
   "metadata": {},
   "source": [
    "#### Definimos los atributos y la clase objetivo para separar los datos en entrenamiento y prueba"
   ]
  },
  {
   "cell_type": "code",
   "execution_count": 5,
   "metadata": {},
   "outputs": [],
   "source": [
    "FEATURES_PRE_B = balanced_data.drop('Class', axis=1)\n",
    "TARGET_PRE_B = balanced_data['Class']\n",
    "FEATURES_PRE_B = pd.get_dummies(FEATURES_PRE_B)\n",
    "\n",
    "FEATURES_PRE_UB = unbalanced_data.drop('Class', axis=1)\n",
    "TARGET_PRE_UB = unbalanced_data['Class']\n",
    "FEATURES_PRE_UB = pd.get_dummies(FEATURES_PRE_UB)"
   ]
  },
  {
   "cell_type": "code",
   "execution_count": 6,
   "metadata": {},
   "outputs": [],
   "source": [
    "from sklearn.model_selection import train_test_split\n",
    "\n",
    "FEATURES_TRAIN_PRE_B, FEATURES_TEST_PRE_B, TARGET_TRAIN_PRE_B, TARGET_TEST_PRE_B = train_test_split(FEATURES_PRE_B, TARGET_PRE_B, test_size=0.3, random_state=42)\n",
    "FEATURES_TRAIN_PRE_UB, FEATURES_TEST_PRE_UB, TARGET_TRAIN_PRE_UB, TARGET_TEST_PRE_UB = train_test_split(FEATURES_PRE_UB, TARGET_PRE_UB, test_size=0.3, random_state=42)"
   ]
  },
  {
   "cell_type": "code",
   "execution_count": 12,
   "metadata": {},
   "outputs": [],
   "source": [
    "# Testing to oversample and undersample the unbalanced training data\n",
    "from imblearn.combine import SMOTETomek\n",
    "\n",
    "smote_tomek = SMOTETomek(random_state=42)\n",
    "\n",
    "FEATURES_TRAIN_SMOTE_TOMEK, TARGET_TRAIN_SMOTE_TOMEK = smote_tomek.fit_resample(FEATURES_TRAIN_PRE_UB, TARGET_TRAIN_PRE_UB)"
   ]
  },
  {
   "cell_type": "code",
   "execution_count": 13,
   "metadata": {},
   "outputs": [
    {
     "data": {
      "text/html": [
       "<pre style=\"white-space:pre;overflow-x:auto;line-height:normal;font-family:Menlo,'DejaVu Sans Mono',consolas,'Courier New',monospace\"><span style=\"color: #008080; text-decoration-color: #008080; font-weight: bold\">0</span>    <span style=\"color: #008080; text-decoration-color: #008080; font-weight: bold\">198246</span>\n",
       "<span style=\"color: #008080; text-decoration-color: #008080; font-weight: bold\">1</span>    <span style=\"color: #008080; text-decoration-color: #008080; font-weight: bold\">198246</span>\n",
       "Name: Class, dtype: int64\n",
       "</pre>\n"
      ],
      "text/plain": [
       "\u001b[1;36m0\u001b[0m    \u001b[1;36m198246\u001b[0m\n",
       "\u001b[1;36m1\u001b[0m    \u001b[1;36m198246\u001b[0m\n",
       "Name: Class, dtype: int64\n"
      ]
     },
     "metadata": {},
     "output_type": "display_data"
    }
   ],
   "source": [
    "print(TARGET_TRAIN_SMOTE_TOMEK.value_counts())"
   ]
  },
  {
   "attachments": {},
   "cell_type": "markdown",
   "metadata": {},
   "source": [
    "#### Sacamos la k óptima"
   ]
  },
  {
   "cell_type": "code",
   "execution_count": 8,
   "metadata": {},
   "outputs": [],
   "source": [
    "from sklearn.neighbors import KNeighborsClassifier\n",
    "import numpy as np\n",
    "import matplotlib.pyplot as plt\n",
    "from sklearn.model_selection import cross_val_score\n",
    "from rich.progress import track"
   ]
  },
  {
   "attachments": {},
   "cell_type": "markdown",
   "metadata": {},
   "source": [
    "#### Esto tarda una cantidad considerable de tiempo (a mí me tardo 25 minutos para 1). Si no necesitas que use el 100% de la CPU, quita el argumento 'n_jobs' o ponlo a 1 ó 2, sin embargo esto hará que tarde más."
   ]
  },
  {
   "cell_type": "code",
   "execution_count": 15,
   "metadata": {},
   "outputs": [
    {
     "data": {
      "application/vnd.jupyter.widget-view+json": {
       "model_id": "54b5001b37c14c119e6f3645801a7709",
       "version_major": 2,
       "version_minor": 0
      },
      "text/plain": [
       "Output()"
      ]
     },
     "metadata": {},
     "output_type": "display_data"
    },
    {
     "data": {
      "text/html": [
       "<pre style=\"white-space:pre;overflow-x:auto;line-height:normal;font-family:Menlo,'DejaVu Sans Mono',consolas,'Courier New',monospace\"></pre>\n"
      ],
      "text/plain": []
     },
     "metadata": {},
     "output_type": "display_data"
    },
    {
     "data": {
      "text/html": [
       "<pre style=\"white-space:pre;overflow-x:auto;line-height:normal;font-family:Menlo,'DejaVu Sans Mono',consolas,'Courier New',monospace\">\n",
       "</pre>\n"
      ],
      "text/plain": [
       "\n"
      ]
     },
     "metadata": {},
     "output_type": "display_data"
    },
    {
     "data": {
      "text/html": [
       "<pre style=\"white-space:pre;overflow-x:auto;line-height:normal;font-family:Menlo,'DejaVu Sans Mono',consolas,'Courier New',monospace\">Minimum error: <span style=\"color: #008080; text-decoration-color: #008080; font-weight: bold\">0.00044650200925904166</span> at K = <span style=\"color: #008080; text-decoration-color: #008080; font-weight: bold\">2</span>\n",
       "</pre>\n"
      ],
      "text/plain": [
       "Minimum error: \u001b[1;36m0.00044650200925904166\u001b[0m at K = \u001b[1;36m2\u001b[0m\n"
      ]
     },
     "metadata": {},
     "output_type": "display_data"
    },
    {
     "data": {
      "image/png": "[encoded data removed]",
      "text/plain": [
       "<Figure size 1000x600 with 1 Axes>"
      ]
     },
     "metadata": {},
     "output_type": "display_data"
    }
   ],
   "source": [
    "\n",
    "error_rate = []\n",
    "max_iter = 30\n",
    "range_iter = list(range(1, max_iter, 2))\n",
    "\n",
    "for i in track(range_iter, description=\"Processing...\", total=len(range_iter)):\n",
    "    knn = KNeighborsClassifier(n_neighbors=i, weights='distance')\n",
    "    knn.fit(FEATURES_TRAIN_PRE_UB, TARGET_TRAIN_PRE_UB)\n",
    "    pred_i = knn.predict(FEATURES_TEST_PRE_UB)\n",
    "    error_rate.append(np.mean(pred_i != TARGET_TEST_PRE_UB))\n",
    "\n",
    "plt.figure(figsize=(10, 6))\n",
    "plt.plot(range_iter, error_rate, color='blue', linestyle='dashed',\n",
    "         marker='o', markerfacecolor='red', markersize=10)\n",
    "plt.title('Error Rate vs. K Value using SMOTE-Tomek in all data')\n",
    "plt.xlabel('K')\n",
    "plt.ylabel('Error Rate')\n",
    "print(\"Minimum error:\", min(error_rate), \"at K =\", error_rate.index(min(error_rate)) + 1)\n"
   ]
  },
  {
   "cell_type": "code",
   "execution_count": 16,
   "metadata": {},
   "outputs": [
    {
     "data": {
      "application/vnd.jupyter.widget-view+json": {
       "model_id": "60de5962bfdb44e38c93c9f7a44552cf",
       "version_major": 2,
       "version_minor": 0
      },
      "text/plain": [
       "Output()"
      ]
     },
     "metadata": {},
     "output_type": "display_data"
    },
    {
     "data": {
      "text/html": [
       "<pre style=\"white-space:pre;overflow-x:auto;line-height:normal;font-family:Menlo,'DejaVu Sans Mono',consolas,'Courier New',monospace\"><span style=\"color: #7fbfbf; text-decoration-color: #7fbfbf\">[20:43:13] </span>Accuracy: <span style=\"color: #008080; text-decoration-color: #008080; font-weight: bold\">0.9994594975677391</span> with <span style=\"color: #808000; text-decoration-color: #808000\">k</span>=<span style=\"color: #008080; text-decoration-color: #008080; font-weight: bold\">1</span>                              <a href=\"file://C:\\Users\\Rules\\AppData\\Local\\Temp\\ipykernel_21268\\1848589587.py\"><span style=\"color: #7f7f7f; text-decoration-color: #7f7f7f\">1848589587.py</span></a><span style=\"color: #7f7f7f; text-decoration-color: #7f7f7f\">:</span><a href=\"file://C:\\Users\\Rules\\AppData\\Local\\Temp\\ipykernel_21268\\1848589587.py#8\"><span style=\"color: #7f7f7f; text-decoration-color: #7f7f7f\">8</span></a>\n",
       "</pre>\n"
      ],
      "text/plain": [
       "\u001b[2;36m[20:43:13]\u001b[0m\u001b[2;36m \u001b[0mAccuracy: \u001b[1;36m0.9994594975677391\u001b[0m with \u001b[33mk\u001b[0m=\u001b[1;36m1\u001b[0m                              \u001b]8;id=646309;file://C:\\Users\\Rules\\AppData\\Local\\Temp\\ipykernel_21268\\1848589587.py\u001b\\\u001b[2m1848589587.py\u001b[0m\u001b]8;;\u001b\\\u001b[2m:\u001b[0m\u001b]8;id=913254;file://C:\\Users\\Rules\\AppData\\Local\\Temp\\ipykernel_21268\\1848589587.py#8\u001b\\\u001b[2m8\u001b[0m\u001b]8;;\u001b\\\n"
      ]
     },
     "metadata": {},
     "output_type": "display_data"
    },
    {
     "data": {
      "text/html": [
       "<pre style=\"white-space:pre;overflow-x:auto;line-height:normal;font-family:Menlo,'DejaVu Sans Mono',consolas,'Courier New',monospace\"><span style=\"color: #7fbfbf; text-decoration-color: #7fbfbf\">           </span>Accuracy: <span style=\"color: #008080; text-decoration-color: #008080; font-weight: bold\">0.9993604592607512</span> with <span style=\"color: #808000; text-decoration-color: #808000\">k</span>=<span style=\"color: #008080; text-decoration-color: #008080; font-weight: bold\">1</span>                              <a href=\"file://C:\\Users\\Rules\\AppData\\Local\\Temp\\ipykernel_21268\\1848589587.py\"><span style=\"color: #7f7f7f; text-decoration-color: #7f7f7f\">1848589587.py</span></a><span style=\"color: #7f7f7f; text-decoration-color: #7f7f7f\">:</span><a href=\"file://C:\\Users\\Rules\\AppData\\Local\\Temp\\ipykernel_21268\\1848589587.py#9\"><span style=\"color: #7f7f7f; text-decoration-color: #7f7f7f\">9</span></a>\n",
       "</pre>\n"
      ],
      "text/plain": [
       "\u001b[2;36m          \u001b[0m\u001b[2;36m \u001b[0mAccuracy: \u001b[1;36m0.9993604592607512\u001b[0m with \u001b[33mk\u001b[0m=\u001b[1;36m1\u001b[0m                              \u001b]8;id=349937;file://C:\\Users\\Rules\\AppData\\Local\\Temp\\ipykernel_21268\\1848589587.py\u001b\\\u001b[2m1848589587.py\u001b[0m\u001b]8;;\u001b\\\u001b[2m:\u001b[0m\u001b]8;id=302242;file://C:\\Users\\Rules\\AppData\\Local\\Temp\\ipykernel_21268\\1848589587.py#9\u001b\\\u001b[2m9\u001b[0m\u001b]8;;\u001b\\\n"
      ]
     },
     "metadata": {},
     "output_type": "display_data"
    },
    {
     "data": {
      "text/html": [
       "<pre style=\"white-space:pre;overflow-x:auto;line-height:normal;font-family:Menlo,'DejaVu Sans Mono',consolas,'Courier New',monospace\"><span style=\"color: #7fbfbf; text-decoration-color: #7fbfbf\">[20:44:03] </span>Accuracy: <span style=\"color: #008080; text-decoration-color: #008080; font-weight: bold\">0.9995417479378658</span> with <span style=\"color: #808000; text-decoration-color: #808000\">k</span>=<span style=\"color: #008080; text-decoration-color: #008080; font-weight: bold\">3</span>                              <a href=\"file://C:\\Users\\Rules\\AppData\\Local\\Temp\\ipykernel_21268\\1848589587.py\"><span style=\"color: #7f7f7f; text-decoration-color: #7f7f7f\">1848589587.py</span></a><span style=\"color: #7f7f7f; text-decoration-color: #7f7f7f\">:</span><a href=\"file://C:\\Users\\Rules\\AppData\\Local\\Temp\\ipykernel_21268\\1848589587.py#8\"><span style=\"color: #7f7f7f; text-decoration-color: #7f7f7f\">8</span></a>\n",
       "</pre>\n"
      ],
      "text/plain": [
       "\u001b[2;36m[20:44:03]\u001b[0m\u001b[2;36m \u001b[0mAccuracy: \u001b[1;36m0.9995417479378658\u001b[0m with \u001b[33mk\u001b[0m=\u001b[1;36m3\u001b[0m                              \u001b]8;id=638742;file://C:\\Users\\Rules\\AppData\\Local\\Temp\\ipykernel_21268\\1848589587.py\u001b\\\u001b[2m1848589587.py\u001b[0m\u001b]8;;\u001b\\\u001b[2m:\u001b[0m\u001b]8;id=885810;file://C:\\Users\\Rules\\AppData\\Local\\Temp\\ipykernel_21268\\1848589587.py#8\u001b\\\u001b[2m8\u001b[0m\u001b]8;;\u001b\\\n"
      ]
     },
     "metadata": {},
     "output_type": "display_data"
    },
    {
     "data": {
      "text/html": [
       "<pre style=\"white-space:pre;overflow-x:auto;line-height:normal;font-family:Menlo,'DejaVu Sans Mono',consolas,'Courier New',monospace\"><span style=\"color: #7fbfbf; text-decoration-color: #7fbfbf\">           </span>Accuracy: <span style=\"color: #008080; text-decoration-color: #008080; font-weight: bold\">0.9994511028300938</span> with <span style=\"color: #808000; text-decoration-color: #808000\">k</span>=<span style=\"color: #008080; text-decoration-color: #008080; font-weight: bold\">3</span>                              <a href=\"file://C:\\Users\\Rules\\AppData\\Local\\Temp\\ipykernel_21268\\1848589587.py\"><span style=\"color: #7f7f7f; text-decoration-color: #7f7f7f\">1848589587.py</span></a><span style=\"color: #7f7f7f; text-decoration-color: #7f7f7f\">:</span><a href=\"file://C:\\Users\\Rules\\AppData\\Local\\Temp\\ipykernel_21268\\1848589587.py#9\"><span style=\"color: #7f7f7f; text-decoration-color: #7f7f7f\">9</span></a>\n",
       "</pre>\n"
      ],
      "text/plain": [
       "\u001b[2;36m          \u001b[0m\u001b[2;36m \u001b[0mAccuracy: \u001b[1;36m0.9994511028300938\u001b[0m with \u001b[33mk\u001b[0m=\u001b[1;36m3\u001b[0m                              \u001b]8;id=8546;file://C:\\Users\\Rules\\AppData\\Local\\Temp\\ipykernel_21268\\1848589587.py\u001b\\\u001b[2m1848589587.py\u001b[0m\u001b]8;;\u001b\\\u001b[2m:\u001b[0m\u001b]8;id=776892;file://C:\\Users\\Rules\\AppData\\Local\\Temp\\ipykernel_21268\\1848589587.py#9\u001b\\\u001b[2m9\u001b[0m\u001b]8;;\u001b\\\n"
      ]
     },
     "metadata": {},
     "output_type": "display_data"
    },
    {
     "data": {
      "text/html": [
       "<pre style=\"white-space:pre;overflow-x:auto;line-height:normal;font-family:Menlo,'DejaVu Sans Mono',consolas,'Courier New',monospace\"><span style=\"color: #7fbfbf; text-decoration-color: #7fbfbf\">[20:44:53] </span>Accuracy: <span style=\"color: #008080; text-decoration-color: #008080; font-weight: bold\">0.99950649777924</span> with <span style=\"color: #808000; text-decoration-color: #808000\">k</span>=<span style=\"color: #008080; text-decoration-color: #008080; font-weight: bold\">5</span>                                <a href=\"file://C:\\Users\\Rules\\AppData\\Local\\Temp\\ipykernel_21268\\1848589587.py\"><span style=\"color: #7f7f7f; text-decoration-color: #7f7f7f\">1848589587.py</span></a><span style=\"color: #7f7f7f; text-decoration-color: #7f7f7f\">:</span><a href=\"file://C:\\Users\\Rules\\AppData\\Local\\Temp\\ipykernel_21268\\1848589587.py#8\"><span style=\"color: #7f7f7f; text-decoration-color: #7f7f7f\">8</span></a>\n",
       "</pre>\n"
      ],
      "text/plain": [
       "\u001b[2;36m[20:44:53]\u001b[0m\u001b[2;36m \u001b[0mAccuracy: \u001b[1;36m0.99950649777924\u001b[0m with \u001b[33mk\u001b[0m=\u001b[1;36m5\u001b[0m                                \u001b]8;id=421115;file://C:\\Users\\Rules\\AppData\\Local\\Temp\\ipykernel_21268\\1848589587.py\u001b\\\u001b[2m1848589587.py\u001b[0m\u001b]8;;\u001b\\\u001b[2m:\u001b[0m\u001b]8;id=20905;file://C:\\Users\\Rules\\AppData\\Local\\Temp\\ipykernel_21268\\1848589587.py#8\u001b\\\u001b[2m8\u001b[0m\u001b]8;;\u001b\\\n"
      ]
     },
     "metadata": {},
     "output_type": "display_data"
    },
    {
     "data": {
      "text/html": [
       "<pre style=\"white-space:pre;overflow-x:auto;line-height:normal;font-family:Menlo,'DejaVu Sans Mono',consolas,'Courier New',monospace\"><span style=\"color: #7fbfbf; text-decoration-color: #7fbfbf\">           </span>Accuracy: <span style=\"color: #008080; text-decoration-color: #008080; font-weight: bold\">0.9994511028300936</span> with <span style=\"color: #808000; text-decoration-color: #808000\">k</span>=<span style=\"color: #008080; text-decoration-color: #008080; font-weight: bold\">5</span>                              <a href=\"file://C:\\Users\\Rules\\AppData\\Local\\Temp\\ipykernel_21268\\1848589587.py\"><span style=\"color: #7f7f7f; text-decoration-color: #7f7f7f\">1848589587.py</span></a><span style=\"color: #7f7f7f; text-decoration-color: #7f7f7f\">:</span><a href=\"file://C:\\Users\\Rules\\AppData\\Local\\Temp\\ipykernel_21268\\1848589587.py#9\"><span style=\"color: #7f7f7f; text-decoration-color: #7f7f7f\">9</span></a>\n",
       "</pre>\n"
      ],
      "text/plain": [
       "\u001b[2;36m          \u001b[0m\u001b[2;36m \u001b[0mAccuracy: \u001b[1;36m0.9994511028300936\u001b[0m with \u001b[33mk\u001b[0m=\u001b[1;36m5\u001b[0m                              \u001b]8;id=777274;file://C:\\Users\\Rules\\AppData\\Local\\Temp\\ipykernel_21268\\1848589587.py\u001b\\\u001b[2m1848589587.py\u001b[0m\u001b]8;;\u001b\\\u001b[2m:\u001b[0m\u001b]8;id=520587;file://C:\\Users\\Rules\\AppData\\Local\\Temp\\ipykernel_21268\\1848589587.py#9\u001b\\\u001b[2m9\u001b[0m\u001b]8;;\u001b\\\n"
      ]
     },
     "metadata": {},
     "output_type": "display_data"
    },
    {
     "data": {
      "text/html": [
       "<pre style=\"white-space:pre;overflow-x:auto;line-height:normal;font-family:Menlo,'DejaVu Sans Mono',consolas,'Courier New',monospace\"><span style=\"color: #7fbfbf; text-decoration-color: #7fbfbf\">[20:45:43] </span>Accuracy: <span style=\"color: #008080; text-decoration-color: #008080; font-weight: bold\">0.9994359974619886</span> with <span style=\"color: #808000; text-decoration-color: #808000\">k</span>=<span style=\"color: #008080; text-decoration-color: #008080; font-weight: bold\">7</span>                              <a href=\"file://C:\\Users\\Rules\\AppData\\Local\\Temp\\ipykernel_21268\\1848589587.py\"><span style=\"color: #7f7f7f; text-decoration-color: #7f7f7f\">1848589587.py</span></a><span style=\"color: #7f7f7f; text-decoration-color: #7f7f7f\">:</span><a href=\"file://C:\\Users\\Rules\\AppData\\Local\\Temp\\ipykernel_21268\\1848589587.py#8\"><span style=\"color: #7f7f7f; text-decoration-color: #7f7f7f\">8</span></a>\n",
       "</pre>\n"
      ],
      "text/plain": [
       "\u001b[2;36m[20:45:43]\u001b[0m\u001b[2;36m \u001b[0mAccuracy: \u001b[1;36m0.9994359974619886\u001b[0m with \u001b[33mk\u001b[0m=\u001b[1;36m7\u001b[0m                              \u001b]8;id=5325;file://C:\\Users\\Rules\\AppData\\Local\\Temp\\ipykernel_21268\\1848589587.py\u001b\\\u001b[2m1848589587.py\u001b[0m\u001b]8;;\u001b\\\u001b[2m:\u001b[0m\u001b]8;id=166313;file://C:\\Users\\Rules\\AppData\\Local\\Temp\\ipykernel_21268\\1848589587.py#8\u001b\\\u001b[2m8\u001b[0m\u001b]8;;\u001b\\\n"
      ]
     },
     "metadata": {},
     "output_type": "display_data"
    },
    {
     "data": {
      "text/html": [
       "<pre style=\"white-space:pre;overflow-x:auto;line-height:normal;font-family:Menlo,'DejaVu Sans Mono',consolas,'Courier New',monospace\"><span style=\"color: #7fbfbf; text-decoration-color: #7fbfbf\">           </span>Accuracy: <span style=\"color: #008080; text-decoration-color: #008080; font-weight: bold\">0.9994259240608319</span> with <span style=\"color: #808000; text-decoration-color: #808000\">k</span>=<span style=\"color: #008080; text-decoration-color: #008080; font-weight: bold\">7</span>                              <a href=\"file://C:\\Users\\Rules\\AppData\\Local\\Temp\\ipykernel_21268\\1848589587.py\"><span style=\"color: #7f7f7f; text-decoration-color: #7f7f7f\">1848589587.py</span></a><span style=\"color: #7f7f7f; text-decoration-color: #7f7f7f\">:</span><a href=\"file://C:\\Users\\Rules\\AppData\\Local\\Temp\\ipykernel_21268\\1848589587.py#9\"><span style=\"color: #7f7f7f; text-decoration-color: #7f7f7f\">9</span></a>\n",
       "</pre>\n"
      ],
      "text/plain": [
       "\u001b[2;36m          \u001b[0m\u001b[2;36m \u001b[0mAccuracy: \u001b[1;36m0.9994259240608319\u001b[0m with \u001b[33mk\u001b[0m=\u001b[1;36m7\u001b[0m                              \u001b]8;id=451169;file://C:\\Users\\Rules\\AppData\\Local\\Temp\\ipykernel_21268\\1848589587.py\u001b\\\u001b[2m1848589587.py\u001b[0m\u001b]8;;\u001b\\\u001b[2m:\u001b[0m\u001b]8;id=895820;file://C:\\Users\\Rules\\AppData\\Local\\Temp\\ipykernel_21268\\1848589587.py#9\u001b\\\u001b[2m9\u001b[0m\u001b]8;;\u001b\\\n"
      ]
     },
     "metadata": {},
     "output_type": "display_data"
    },
    {
     "data": {
      "text/html": [
       "<pre style=\"white-space:pre;overflow-x:auto;line-height:normal;font-family:Menlo,'DejaVu Sans Mono',consolas,'Courier New',monospace\"><span style=\"color: #7fbfbf; text-decoration-color: #7fbfbf\">[20:46:30] </span>Accuracy: <span style=\"color: #008080; text-decoration-color: #008080; font-weight: bold\">0.9994242474091133</span> with <span style=\"color: #808000; text-decoration-color: #808000\">k</span>=<span style=\"color: #008080; text-decoration-color: #008080; font-weight: bold\">9</span>                              <a href=\"file://C:\\Users\\Rules\\AppData\\Local\\Temp\\ipykernel_21268\\1848589587.py\"><span style=\"color: #7f7f7f; text-decoration-color: #7f7f7f\">1848589587.py</span></a><span style=\"color: #7f7f7f; text-decoration-color: #7f7f7f\">:</span><a href=\"file://C:\\Users\\Rules\\AppData\\Local\\Temp\\ipykernel_21268\\1848589587.py#8\"><span style=\"color: #7f7f7f; text-decoration-color: #7f7f7f\">8</span></a>\n",
       "</pre>\n"
      ],
      "text/plain": [
       "\u001b[2;36m[20:46:30]\u001b[0m\u001b[2;36m \u001b[0mAccuracy: \u001b[1;36m0.9994242474091133\u001b[0m with \u001b[33mk\u001b[0m=\u001b[1;36m9\u001b[0m                              \u001b]8;id=103343;file://C:\\Users\\Rules\\AppData\\Local\\Temp\\ipykernel_21268\\1848589587.py\u001b\\\u001b[2m1848589587.py\u001b[0m\u001b]8;;\u001b\\\u001b[2m:\u001b[0m\u001b]8;id=675197;file://C:\\Users\\Rules\\AppData\\Local\\Temp\\ipykernel_21268\\1848589587.py#8\u001b\\\u001b[2m8\u001b[0m\u001b]8;;\u001b\\\n"
      ]
     },
     "metadata": {},
     "output_type": "display_data"
    },
    {
     "data": {
      "text/html": [
       "<pre style=\"white-space:pre;overflow-x:auto;line-height:normal;font-family:Menlo,'DejaVu Sans Mono',consolas,'Courier New',monospace\"><span style=\"color: #7fbfbf; text-decoration-color: #7fbfbf\">           </span>Accuracy: <span style=\"color: #008080; text-decoration-color: #008080; font-weight: bold\">0.9994108167992748</span> with <span style=\"color: #808000; text-decoration-color: #808000\">k</span>=<span style=\"color: #008080; text-decoration-color: #008080; font-weight: bold\">9</span>                              <a href=\"file://C:\\Users\\Rules\\AppData\\Local\\Temp\\ipykernel_21268\\1848589587.py\"><span style=\"color: #7f7f7f; text-decoration-color: #7f7f7f\">1848589587.py</span></a><span style=\"color: #7f7f7f; text-decoration-color: #7f7f7f\">:</span><a href=\"file://C:\\Users\\Rules\\AppData\\Local\\Temp\\ipykernel_21268\\1848589587.py#9\"><span style=\"color: #7f7f7f; text-decoration-color: #7f7f7f\">9</span></a>\n",
       "</pre>\n"
      ],
      "text/plain": [
       "\u001b[2;36m          \u001b[0m\u001b[2;36m \u001b[0mAccuracy: \u001b[1;36m0.9994108167992748\u001b[0m with \u001b[33mk\u001b[0m=\u001b[1;36m9\u001b[0m                              \u001b]8;id=550220;file://C:\\Users\\Rules\\AppData\\Local\\Temp\\ipykernel_21268\\1848589587.py\u001b\\\u001b[2m1848589587.py\u001b[0m\u001b]8;;\u001b\\\u001b[2m:\u001b[0m\u001b]8;id=88913;file://C:\\Users\\Rules\\AppData\\Local\\Temp\\ipykernel_21268\\1848589587.py#9\u001b\\\u001b[2m9\u001b[0m\u001b]8;;\u001b\\\n"
      ]
     },
     "metadata": {},
     "output_type": "display_data"
    },
    {
     "data": {
      "text/html": [
       "<pre style=\"white-space:pre;overflow-x:auto;line-height:normal;font-family:Menlo,'DejaVu Sans Mono',consolas,'Courier New',monospace\"><span style=\"color: #7fbfbf; text-decoration-color: #7fbfbf\">[20:47:18] </span>Accuracy: <span style=\"color: #008080; text-decoration-color: #008080; font-weight: bold\">0.999412497356238</span> with <span style=\"color: #808000; text-decoration-color: #808000\">k</span>=<span style=\"color: #008080; text-decoration-color: #008080; font-weight: bold\">11</span>                              <a href=\"file://C:\\Users\\Rules\\AppData\\Local\\Temp\\ipykernel_21268\\1848589587.py\"><span style=\"color: #7f7f7f; text-decoration-color: #7f7f7f\">1848589587.py</span></a><span style=\"color: #7f7f7f; text-decoration-color: #7f7f7f\">:</span><a href=\"file://C:\\Users\\Rules\\AppData\\Local\\Temp\\ipykernel_21268\\1848589587.py#8\"><span style=\"color: #7f7f7f; text-decoration-color: #7f7f7f\">8</span></a>\n",
       "</pre>\n"
      ],
      "text/plain": [
       "\u001b[2;36m[20:47:18]\u001b[0m\u001b[2;36m \u001b[0mAccuracy: \u001b[1;36m0.999412497356238\u001b[0m with \u001b[33mk\u001b[0m=\u001b[1;36m11\u001b[0m                              \u001b]8;id=394551;file://C:\\Users\\Rules\\AppData\\Local\\Temp\\ipykernel_21268\\1848589587.py\u001b\\\u001b[2m1848589587.py\u001b[0m\u001b]8;;\u001b\\\u001b[2m:\u001b[0m\u001b]8;id=182181;file://C:\\Users\\Rules\\AppData\\Local\\Temp\\ipykernel_21268\\1848589587.py#8\u001b\\\u001b[2m8\u001b[0m\u001b]8;;\u001b\\\n"
      ]
     },
     "metadata": {},
     "output_type": "display_data"
    },
    {
     "data": {
      "text/html": [
       "<pre style=\"white-space:pre;overflow-x:auto;line-height:normal;font-family:Menlo,'DejaVu Sans Mono',consolas,'Courier New',monospace\"><span style=\"color: #7fbfbf; text-decoration-color: #7fbfbf\">           </span>Accuracy: <span style=\"color: #008080; text-decoration-color: #008080; font-weight: bold\">0.9993906737838654</span> with <span style=\"color: #808000; text-decoration-color: #808000\">k</span>=<span style=\"color: #008080; text-decoration-color: #008080; font-weight: bold\">11</span>                             <a href=\"file://C:\\Users\\Rules\\AppData\\Local\\Temp\\ipykernel_21268\\1848589587.py\"><span style=\"color: #7f7f7f; text-decoration-color: #7f7f7f\">1848589587.py</span></a><span style=\"color: #7f7f7f; text-decoration-color: #7f7f7f\">:</span><a href=\"file://C:\\Users\\Rules\\AppData\\Local\\Temp\\ipykernel_21268\\1848589587.py#9\"><span style=\"color: #7f7f7f; text-decoration-color: #7f7f7f\">9</span></a>\n",
       "</pre>\n"
      ],
      "text/plain": [
       "\u001b[2;36m          \u001b[0m\u001b[2;36m \u001b[0mAccuracy: \u001b[1;36m0.9993906737838654\u001b[0m with \u001b[33mk\u001b[0m=\u001b[1;36m11\u001b[0m                             \u001b]8;id=961176;file://C:\\Users\\Rules\\AppData\\Local\\Temp\\ipykernel_21268\\1848589587.py\u001b\\\u001b[2m1848589587.py\u001b[0m\u001b]8;;\u001b\\\u001b[2m:\u001b[0m\u001b]8;id=229632;file://C:\\Users\\Rules\\AppData\\Local\\Temp\\ipykernel_21268\\1848589587.py#9\u001b\\\u001b[2m9\u001b[0m\u001b]8;;\u001b\\\n"
      ]
     },
     "metadata": {},
     "output_type": "display_data"
    },
    {
     "data": {
      "text/html": [
       "<pre style=\"white-space:pre;overflow-x:auto;line-height:normal;font-family:Menlo,'DejaVu Sans Mono',consolas,'Courier New',monospace\"><span style=\"color: #7fbfbf; text-decoration-color: #7fbfbf\">[20:48:06] </span>Accuracy: <span style=\"color: #008080; text-decoration-color: #008080; font-weight: bold\">0.9993772471976123</span> with <span style=\"color: #808000; text-decoration-color: #808000\">k</span>=<span style=\"color: #008080; text-decoration-color: #008080; font-weight: bold\">13</span>                             <a href=\"file://C:\\Users\\Rules\\AppData\\Local\\Temp\\ipykernel_21268\\1848589587.py\"><span style=\"color: #7f7f7f; text-decoration-color: #7f7f7f\">1848589587.py</span></a><span style=\"color: #7f7f7f; text-decoration-color: #7f7f7f\">:</span><a href=\"file://C:\\Users\\Rules\\AppData\\Local\\Temp\\ipykernel_21268\\1848589587.py#8\"><span style=\"color: #7f7f7f; text-decoration-color: #7f7f7f\">8</span></a>\n",
       "</pre>\n"
      ],
      "text/plain": [
       "\u001b[2;36m[20:48:06]\u001b[0m\u001b[2;36m \u001b[0mAccuracy: \u001b[1;36m0.9993772471976123\u001b[0m with \u001b[33mk\u001b[0m=\u001b[1;36m13\u001b[0m                             \u001b]8;id=46230;file://C:\\Users\\Rules\\AppData\\Local\\Temp\\ipykernel_21268\\1848589587.py\u001b\\\u001b[2m1848589587.py\u001b[0m\u001b]8;;\u001b\\\u001b[2m:\u001b[0m\u001b]8;id=580488;file://C:\\Users\\Rules\\AppData\\Local\\Temp\\ipykernel_21268\\1848589587.py#8\u001b\\\u001b[2m8\u001b[0m\u001b]8;;\u001b\\\n"
      ]
     },
     "metadata": {},
     "output_type": "display_data"
    },
    {
     "data": {
      "text/html": [
       "<pre style=\"white-space:pre;overflow-x:auto;line-height:normal;font-family:Menlo,'DejaVu Sans Mono',consolas,'Courier New',monospace\"><span style=\"color: #7fbfbf; text-decoration-color: #7fbfbf\">           </span>Accuracy: <span style=\"color: #008080; text-decoration-color: #008080; font-weight: bold\">0.9993957095377178</span> with <span style=\"color: #808000; text-decoration-color: #808000\">k</span>=<span style=\"color: #008080; text-decoration-color: #008080; font-weight: bold\">13</span>                             <a href=\"file://C:\\Users\\Rules\\AppData\\Local\\Temp\\ipykernel_21268\\1848589587.py\"><span style=\"color: #7f7f7f; text-decoration-color: #7f7f7f\">1848589587.py</span></a><span style=\"color: #7f7f7f; text-decoration-color: #7f7f7f\">:</span><a href=\"file://C:\\Users\\Rules\\AppData\\Local\\Temp\\ipykernel_21268\\1848589587.py#9\"><span style=\"color: #7f7f7f; text-decoration-color: #7f7f7f\">9</span></a>\n",
       "</pre>\n"
      ],
      "text/plain": [
       "\u001b[2;36m          \u001b[0m\u001b[2;36m \u001b[0mAccuracy: \u001b[1;36m0.9993957095377178\u001b[0m with \u001b[33mk\u001b[0m=\u001b[1;36m13\u001b[0m                             \u001b]8;id=221105;file://C:\\Users\\Rules\\AppData\\Local\\Temp\\ipykernel_21268\\1848589587.py\u001b\\\u001b[2m1848589587.py\u001b[0m\u001b]8;;\u001b\\\u001b[2m:\u001b[0m\u001b]8;id=844441;file://C:\\Users\\Rules\\AppData\\Local\\Temp\\ipykernel_21268\\1848589587.py#9\u001b\\\u001b[2m9\u001b[0m\u001b]8;;\u001b\\\n"
      ]
     },
     "metadata": {},
     "output_type": "display_data"
    },
    {
     "data": {
      "text/html": [
       "<pre style=\"white-space:pre;overflow-x:auto;line-height:normal;font-family:Menlo,'DejaVu Sans Mono',consolas,'Courier New',monospace\"><span style=\"color: #7fbfbf; text-decoration-color: #7fbfbf\">[20:48:51] </span>Accuracy: <span style=\"color: #008080; text-decoration-color: #008080; font-weight: bold\">0.9993184969332362</span> with <span style=\"color: #808000; text-decoration-color: #808000\">k</span>=<span style=\"color: #008080; text-decoration-color: #008080; font-weight: bold\">15</span>                             <a href=\"file://C:\\Users\\Rules\\AppData\\Local\\Temp\\ipykernel_21268\\1848589587.py\"><span style=\"color: #7f7f7f; text-decoration-color: #7f7f7f\">1848589587.py</span></a><span style=\"color: #7f7f7f; text-decoration-color: #7f7f7f\">:</span><a href=\"file://C:\\Users\\Rules\\AppData\\Local\\Temp\\ipykernel_21268\\1848589587.py#8\"><span style=\"color: #7f7f7f; text-decoration-color: #7f7f7f\">8</span></a>\n",
       "</pre>\n"
      ],
      "text/plain": [
       "\u001b[2;36m[20:48:51]\u001b[0m\u001b[2;36m \u001b[0mAccuracy: \u001b[1;36m0.9993184969332362\u001b[0m with \u001b[33mk\u001b[0m=\u001b[1;36m15\u001b[0m                             \u001b]8;id=219971;file://C:\\Users\\Rules\\AppData\\Local\\Temp\\ipykernel_21268\\1848589587.py\u001b\\\u001b[2m1848589587.py\u001b[0m\u001b]8;;\u001b\\\u001b[2m:\u001b[0m\u001b]8;id=747154;file://C:\\Users\\Rules\\AppData\\Local\\Temp\\ipykernel_21268\\1848589587.py#8\u001b\\\u001b[2m8\u001b[0m\u001b]8;;\u001b\\\n"
      ]
     },
     "metadata": {},
     "output_type": "display_data"
    },
    {
     "data": {
      "text/html": [
       "<pre style=\"white-space:pre;overflow-x:auto;line-height:normal;font-family:Menlo,'DejaVu Sans Mono',consolas,'Courier New',monospace\"><span style=\"color: #7fbfbf; text-decoration-color: #7fbfbf\">           </span>Accuracy: <span style=\"color: #008080; text-decoration-color: #008080; font-weight: bold\">0.9993957095377178</span> with <span style=\"color: #808000; text-decoration-color: #808000\">k</span>=<span style=\"color: #008080; text-decoration-color: #008080; font-weight: bold\">15</span>                             <a href=\"file://C:\\Users\\Rules\\AppData\\Local\\Temp\\ipykernel_21268\\1848589587.py\"><span style=\"color: #7f7f7f; text-decoration-color: #7f7f7f\">1848589587.py</span></a><span style=\"color: #7f7f7f; text-decoration-color: #7f7f7f\">:</span><a href=\"file://C:\\Users\\Rules\\AppData\\Local\\Temp\\ipykernel_21268\\1848589587.py#9\"><span style=\"color: #7f7f7f; text-decoration-color: #7f7f7f\">9</span></a>\n",
       "</pre>\n"
      ],
      "text/plain": [
       "\u001b[2;36m          \u001b[0m\u001b[2;36m \u001b[0mAccuracy: \u001b[1;36m0.9993957095377178\u001b[0m with \u001b[33mk\u001b[0m=\u001b[1;36m15\u001b[0m                             \u001b]8;id=557284;file://C:\\Users\\Rules\\AppData\\Local\\Temp\\ipykernel_21268\\1848589587.py\u001b\\\u001b[2m1848589587.py\u001b[0m\u001b]8;;\u001b\\\u001b[2m:\u001b[0m\u001b]8;id=322698;file://C:\\Users\\Rules\\AppData\\Local\\Temp\\ipykernel_21268\\1848589587.py#9\u001b\\\u001b[2m9\u001b[0m\u001b]8;;\u001b\\\n"
      ]
     },
     "metadata": {},
     "output_type": "display_data"
    },
    {
     "data": {
      "text/html": [
       "<pre style=\"white-space:pre;overflow-x:auto;line-height:normal;font-family:Menlo,'DejaVu Sans Mono',consolas,'Courier New',monospace\"><span style=\"color: #7fbfbf; text-decoration-color: #7fbfbf\">[20:49:34] </span>Accuracy: <span style=\"color: #008080; text-decoration-color: #008080; font-weight: bold\">0.9993184969332362</span> with <span style=\"color: #808000; text-decoration-color: #808000\">k</span>=<span style=\"color: #008080; text-decoration-color: #008080; font-weight: bold\">17</span>                             <a href=\"file://C:\\Users\\Rules\\AppData\\Local\\Temp\\ipykernel_21268\\1848589587.py\"><span style=\"color: #7f7f7f; text-decoration-color: #7f7f7f\">1848589587.py</span></a><span style=\"color: #7f7f7f; text-decoration-color: #7f7f7f\">:</span><a href=\"file://C:\\Users\\Rules\\AppData\\Local\\Temp\\ipykernel_21268\\1848589587.py#8\"><span style=\"color: #7f7f7f; text-decoration-color: #7f7f7f\">8</span></a>\n",
       "</pre>\n"
      ],
      "text/plain": [
       "\u001b[2;36m[20:49:34]\u001b[0m\u001b[2;36m \u001b[0mAccuracy: \u001b[1;36m0.9993184969332362\u001b[0m with \u001b[33mk\u001b[0m=\u001b[1;36m17\u001b[0m                             \u001b]8;id=393535;file://C:\\Users\\Rules\\AppData\\Local\\Temp\\ipykernel_21268\\1848589587.py\u001b\\\u001b[2m1848589587.py\u001b[0m\u001b]8;;\u001b\\\u001b[2m:\u001b[0m\u001b]8;id=749660;file://C:\\Users\\Rules\\AppData\\Local\\Temp\\ipykernel_21268\\1848589587.py#8\u001b\\\u001b[2m8\u001b[0m\u001b]8;;\u001b\\\n"
      ]
     },
     "metadata": {},
     "output_type": "display_data"
    },
    {
     "data": {
      "text/html": [
       "<pre style=\"white-space:pre;overflow-x:auto;line-height:normal;font-family:Menlo,'DejaVu Sans Mono',consolas,'Courier New',monospace\"><span style=\"color: #7fbfbf; text-decoration-color: #7fbfbf\">           </span>Accuracy: <span style=\"color: #008080; text-decoration-color: #008080; font-weight: bold\">0.9994057810454227</span> with <span style=\"color: #808000; text-decoration-color: #808000\">k</span>=<span style=\"color: #008080; text-decoration-color: #008080; font-weight: bold\">17</span>                             <a href=\"file://C:\\Users\\Rules\\AppData\\Local\\Temp\\ipykernel_21268\\1848589587.py\"><span style=\"color: #7f7f7f; text-decoration-color: #7f7f7f\">1848589587.py</span></a><span style=\"color: #7f7f7f; text-decoration-color: #7f7f7f\">:</span><a href=\"file://C:\\Users\\Rules\\AppData\\Local\\Temp\\ipykernel_21268\\1848589587.py#9\"><span style=\"color: #7f7f7f; text-decoration-color: #7f7f7f\">9</span></a>\n",
       "</pre>\n"
      ],
      "text/plain": [
       "\u001b[2;36m          \u001b[0m\u001b[2;36m \u001b[0mAccuracy: \u001b[1;36m0.9994057810454227\u001b[0m with \u001b[33mk\u001b[0m=\u001b[1;36m17\u001b[0m                             \u001b]8;id=357096;file://C:\\Users\\Rules\\AppData\\Local\\Temp\\ipykernel_21268\\1848589587.py\u001b\\\u001b[2m1848589587.py\u001b[0m\u001b]8;;\u001b\\\u001b[2m:\u001b[0m\u001b]8;id=839396;file://C:\\Users\\Rules\\AppData\\Local\\Temp\\ipykernel_21268\\1848589587.py#9\u001b\\\u001b[2m9\u001b[0m\u001b]8;;\u001b\\\n"
      ]
     },
     "metadata": {},
     "output_type": "display_data"
    },
    {
     "data": {
      "text/html": [
       "<pre style=\"white-space:pre;overflow-x:auto;line-height:normal;font-family:Menlo,'DejaVu Sans Mono',consolas,'Courier New',monospace\"><span style=\"color: #7fbfbf; text-decoration-color: #7fbfbf\">[20:50:20] </span>Accuracy: <span style=\"color: #008080; text-decoration-color: #008080; font-weight: bold\">0.9993184969332362</span> with <span style=\"color: #808000; text-decoration-color: #808000\">k</span>=<span style=\"color: #008080; text-decoration-color: #008080; font-weight: bold\">19</span>                             <a href=\"file://C:\\Users\\Rules\\AppData\\Local\\Temp\\ipykernel_21268\\1848589587.py\"><span style=\"color: #7f7f7f; text-decoration-color: #7f7f7f\">1848589587.py</span></a><span style=\"color: #7f7f7f; text-decoration-color: #7f7f7f\">:</span><a href=\"file://C:\\Users\\Rules\\AppData\\Local\\Temp\\ipykernel_21268\\1848589587.py#8\"><span style=\"color: #7f7f7f; text-decoration-color: #7f7f7f\">8</span></a>\n",
       "</pre>\n"
      ],
      "text/plain": [
       "\u001b[2;36m[20:50:20]\u001b[0m\u001b[2;36m \u001b[0mAccuracy: \u001b[1;36m0.9993184969332362\u001b[0m with \u001b[33mk\u001b[0m=\u001b[1;36m19\u001b[0m                             \u001b]8;id=410876;file://C:\\Users\\Rules\\AppData\\Local\\Temp\\ipykernel_21268\\1848589587.py\u001b\\\u001b[2m1848589587.py\u001b[0m\u001b]8;;\u001b\\\u001b[2m:\u001b[0m\u001b]8;id=338892;file://C:\\Users\\Rules\\AppData\\Local\\Temp\\ipykernel_21268\\1848589587.py#8\u001b\\\u001b[2m8\u001b[0m\u001b]8;;\u001b\\\n"
      ]
     },
     "metadata": {},
     "output_type": "display_data"
    },
    {
     "data": {
      "text/html": [
       "<pre style=\"white-space:pre;overflow-x:auto;line-height:normal;font-family:Menlo,'DejaVu Sans Mono',consolas,'Courier New',monospace\"><span style=\"color: #7fbfbf; text-decoration-color: #7fbfbf\">           </span>Accuracy: <span style=\"color: #008080; text-decoration-color: #008080; font-weight: bold\">0.9993957095377178</span> with <span style=\"color: #808000; text-decoration-color: #808000\">k</span>=<span style=\"color: #008080; text-decoration-color: #008080; font-weight: bold\">19</span>                             <a href=\"file://C:\\Users\\Rules\\AppData\\Local\\Temp\\ipykernel_21268\\1848589587.py\"><span style=\"color: #7f7f7f; text-decoration-color: #7f7f7f\">1848589587.py</span></a><span style=\"color: #7f7f7f; text-decoration-color: #7f7f7f\">:</span><a href=\"file://C:\\Users\\Rules\\AppData\\Local\\Temp\\ipykernel_21268\\1848589587.py#9\"><span style=\"color: #7f7f7f; text-decoration-color: #7f7f7f\">9</span></a>\n",
       "</pre>\n"
      ],
      "text/plain": [
       "\u001b[2;36m          \u001b[0m\u001b[2;36m \u001b[0mAccuracy: \u001b[1;36m0.9993957095377178\u001b[0m with \u001b[33mk\u001b[0m=\u001b[1;36m19\u001b[0m                             \u001b]8;id=358993;file://C:\\Users\\Rules\\AppData\\Local\\Temp\\ipykernel_21268\\1848589587.py\u001b\\\u001b[2m1848589587.py\u001b[0m\u001b]8;;\u001b\\\u001b[2m:\u001b[0m\u001b]8;id=140658;file://C:\\Users\\Rules\\AppData\\Local\\Temp\\ipykernel_21268\\1848589587.py#9\u001b\\\u001b[2m9\u001b[0m\u001b]8;;\u001b\\\n"
      ]
     },
     "metadata": {},
     "output_type": "display_data"
    },
    {
     "data": {
      "text/html": [
       "<pre style=\"white-space:pre;overflow-x:auto;line-height:normal;font-family:Menlo,'DejaVu Sans Mono',consolas,'Courier New',monospace\"><span style=\"color: #7fbfbf; text-decoration-color: #7fbfbf\">[20:51:09] </span>Accuracy: <span style=\"color: #008080; text-decoration-color: #008080; font-weight: bold\">0.9993419970389866</span> with <span style=\"color: #808000; text-decoration-color: #808000\">k</span>=<span style=\"color: #008080; text-decoration-color: #008080; font-weight: bold\">21</span>                             <a href=\"file://C:\\Users\\Rules\\AppData\\Local\\Temp\\ipykernel_21268\\1848589587.py\"><span style=\"color: #7f7f7f; text-decoration-color: #7f7f7f\">1848589587.py</span></a><span style=\"color: #7f7f7f; text-decoration-color: #7f7f7f\">:</span><a href=\"file://C:\\Users\\Rules\\AppData\\Local\\Temp\\ipykernel_21268\\1848589587.py#8\"><span style=\"color: #7f7f7f; text-decoration-color: #7f7f7f\">8</span></a>\n",
       "</pre>\n"
      ],
      "text/plain": [
       "\u001b[2;36m[20:51:09]\u001b[0m\u001b[2;36m \u001b[0mAccuracy: \u001b[1;36m0.9993419970389866\u001b[0m with \u001b[33mk\u001b[0m=\u001b[1;36m21\u001b[0m                             \u001b]8;id=64614;file://C:\\Users\\Rules\\AppData\\Local\\Temp\\ipykernel_21268\\1848589587.py\u001b\\\u001b[2m1848589587.py\u001b[0m\u001b]8;;\u001b\\\u001b[2m:\u001b[0m\u001b]8;id=822675;file://C:\\Users\\Rules\\AppData\\Local\\Temp\\ipykernel_21268\\1848589587.py#8\u001b\\\u001b[2m8\u001b[0m\u001b]8;;\u001b\\\n"
      ]
     },
     "metadata": {},
     "output_type": "display_data"
    },
    {
     "data": {
      "text/html": [
       "<pre style=\"white-space:pre;overflow-x:auto;line-height:normal;font-family:Menlo,'DejaVu Sans Mono',consolas,'Courier New',monospace\"><span style=\"color: #7fbfbf; text-decoration-color: #7fbfbf\">           </span>Accuracy: <span style=\"color: #008080; text-decoration-color: #008080; font-weight: bold\">0.999385638030013</span> with <span style=\"color: #808000; text-decoration-color: #808000\">k</span>=<span style=\"color: #008080; text-decoration-color: #008080; font-weight: bold\">21</span>                              <a href=\"file://C:\\Users\\Rules\\AppData\\Local\\Temp\\ipykernel_21268\\1848589587.py\"><span style=\"color: #7f7f7f; text-decoration-color: #7f7f7f\">1848589587.py</span></a><span style=\"color: #7f7f7f; text-decoration-color: #7f7f7f\">:</span><a href=\"file://C:\\Users\\Rules\\AppData\\Local\\Temp\\ipykernel_21268\\1848589587.py#9\"><span style=\"color: #7f7f7f; text-decoration-color: #7f7f7f\">9</span></a>\n",
       "</pre>\n"
      ],
      "text/plain": [
       "\u001b[2;36m          \u001b[0m\u001b[2;36m \u001b[0mAccuracy: \u001b[1;36m0.999385638030013\u001b[0m with \u001b[33mk\u001b[0m=\u001b[1;36m21\u001b[0m                              \u001b]8;id=304967;file://C:\\Users\\Rules\\AppData\\Local\\Temp\\ipykernel_21268\\1848589587.py\u001b\\\u001b[2m1848589587.py\u001b[0m\u001b]8;;\u001b\\\u001b[2m:\u001b[0m\u001b]8;id=320465;file://C:\\Users\\Rules\\AppData\\Local\\Temp\\ipykernel_21268\\1848589587.py#9\u001b\\\u001b[2m9\u001b[0m\u001b]8;;\u001b\\\n"
      ]
     },
     "metadata": {},
     "output_type": "display_data"
    },
    {
     "data": {
      "text/html": [
       "<pre style=\"white-space:pre;overflow-x:auto;line-height:normal;font-family:Menlo,'DejaVu Sans Mono',consolas,'Courier New',monospace\"><span style=\"color: #7fbfbf; text-decoration-color: #7fbfbf\">[20:51:59] </span>Accuracy: <span style=\"color: #008080; text-decoration-color: #008080; font-weight: bold\">0.9993419970389866</span> with <span style=\"color: #808000; text-decoration-color: #808000\">k</span>=<span style=\"color: #008080; text-decoration-color: #008080; font-weight: bold\">23</span>                             <a href=\"file://C:\\Users\\Rules\\AppData\\Local\\Temp\\ipykernel_21268\\1848589587.py\"><span style=\"color: #7f7f7f; text-decoration-color: #7f7f7f\">1848589587.py</span></a><span style=\"color: #7f7f7f; text-decoration-color: #7f7f7f\">:</span><a href=\"file://C:\\Users\\Rules\\AppData\\Local\\Temp\\ipykernel_21268\\1848589587.py#8\"><span style=\"color: #7f7f7f; text-decoration-color: #7f7f7f\">8</span></a>\n",
       "</pre>\n"
      ],
      "text/plain": [
       "\u001b[2;36m[20:51:59]\u001b[0m\u001b[2;36m \u001b[0mAccuracy: \u001b[1;36m0.9993419970389866\u001b[0m with \u001b[33mk\u001b[0m=\u001b[1;36m23\u001b[0m                             \u001b]8;id=445771;file://C:\\Users\\Rules\\AppData\\Local\\Temp\\ipykernel_21268\\1848589587.py\u001b\\\u001b[2m1848589587.py\u001b[0m\u001b]8;;\u001b\\\u001b[2m:\u001b[0m\u001b]8;id=564901;file://C:\\Users\\Rules\\AppData\\Local\\Temp\\ipykernel_21268\\1848589587.py#8\u001b\\\u001b[2m8\u001b[0m\u001b]8;;\u001b\\\n"
      ]
     },
     "metadata": {},
     "output_type": "display_data"
    },
    {
     "data": {
      "text/html": [
       "<pre style=\"white-space:pre;overflow-x:auto;line-height:normal;font-family:Menlo,'DejaVu Sans Mono',consolas,'Courier New',monospace\"><span style=\"color: #7fbfbf; text-decoration-color: #7fbfbf\">           </span>Accuracy: <span style=\"color: #008080; text-decoration-color: #008080; font-weight: bold\">0.9993755665223084</span> with <span style=\"color: #808000; text-decoration-color: #808000\">k</span>=<span style=\"color: #008080; text-decoration-color: #008080; font-weight: bold\">23</span>                             <a href=\"file://C:\\Users\\Rules\\AppData\\Local\\Temp\\ipykernel_21268\\1848589587.py\"><span style=\"color: #7f7f7f; text-decoration-color: #7f7f7f\">1848589587.py</span></a><span style=\"color: #7f7f7f; text-decoration-color: #7f7f7f\">:</span><a href=\"file://C:\\Users\\Rules\\AppData\\Local\\Temp\\ipykernel_21268\\1848589587.py#9\"><span style=\"color: #7f7f7f; text-decoration-color: #7f7f7f\">9</span></a>\n",
       "</pre>\n"
      ],
      "text/plain": [
       "\u001b[2;36m          \u001b[0m\u001b[2;36m \u001b[0mAccuracy: \u001b[1;36m0.9993755665223084\u001b[0m with \u001b[33mk\u001b[0m=\u001b[1;36m23\u001b[0m                             \u001b]8;id=577500;file://C:\\Users\\Rules\\AppData\\Local\\Temp\\ipykernel_21268\\1848589587.py\u001b\\\u001b[2m1848589587.py\u001b[0m\u001b]8;;\u001b\\\u001b[2m:\u001b[0m\u001b]8;id=857485;file://C:\\Users\\Rules\\AppData\\Local\\Temp\\ipykernel_21268\\1848589587.py#9\u001b\\\u001b[2m9\u001b[0m\u001b]8;;\u001b\\\n"
      ]
     },
     "metadata": {},
     "output_type": "display_data"
    },
    {
     "data": {
      "text/html": [
       "<pre style=\"white-space:pre;overflow-x:auto;line-height:normal;font-family:Menlo,'DejaVu Sans Mono',consolas,'Courier New',monospace\"><span style=\"color: #7fbfbf; text-decoration-color: #7fbfbf\">[20:52:43] </span>Accuracy: <span style=\"color: #008080; text-decoration-color: #008080; font-weight: bold\">0.9993184969332362</span> with <span style=\"color: #808000; text-decoration-color: #808000\">k</span>=<span style=\"color: #008080; text-decoration-color: #008080; font-weight: bold\">25</span>                             <a href=\"file://C:\\Users\\Rules\\AppData\\Local\\Temp\\ipykernel_21268\\1848589587.py\"><span style=\"color: #7f7f7f; text-decoration-color: #7f7f7f\">1848589587.py</span></a><span style=\"color: #7f7f7f; text-decoration-color: #7f7f7f\">:</span><a href=\"file://C:\\Users\\Rules\\AppData\\Local\\Temp\\ipykernel_21268\\1848589587.py#8\"><span style=\"color: #7f7f7f; text-decoration-color: #7f7f7f\">8</span></a>\n",
       "</pre>\n"
      ],
      "text/plain": [
       "\u001b[2;36m[20:52:43]\u001b[0m\u001b[2;36m \u001b[0mAccuracy: \u001b[1;36m0.9993184969332362\u001b[0m with \u001b[33mk\u001b[0m=\u001b[1;36m25\u001b[0m                             \u001b]8;id=267324;file://C:\\Users\\Rules\\AppData\\Local\\Temp\\ipykernel_21268\\1848589587.py\u001b\\\u001b[2m1848589587.py\u001b[0m\u001b]8;;\u001b\\\u001b[2m:\u001b[0m\u001b]8;id=931431;file://C:\\Users\\Rules\\AppData\\Local\\Temp\\ipykernel_21268\\1848589587.py#8\u001b\\\u001b[2m8\u001b[0m\u001b]8;;\u001b\\\n"
      ]
     },
     "metadata": {},
     "output_type": "display_data"
    },
    {
     "data": {
      "text/html": [
       "<pre style=\"white-space:pre;overflow-x:auto;line-height:normal;font-family:Menlo,'DejaVu Sans Mono',consolas,'Courier New',monospace\"><span style=\"color: #7fbfbf; text-decoration-color: #7fbfbf\">           </span>Accuracy: <span style=\"color: #008080; text-decoration-color: #008080; font-weight: bold\">0.9993806022761607</span> with <span style=\"color: #808000; text-decoration-color: #808000\">k</span>=<span style=\"color: #008080; text-decoration-color: #008080; font-weight: bold\">25</span>                             <a href=\"file://C:\\Users\\Rules\\AppData\\Local\\Temp\\ipykernel_21268\\1848589587.py\"><span style=\"color: #7f7f7f; text-decoration-color: #7f7f7f\">1848589587.py</span></a><span style=\"color: #7f7f7f; text-decoration-color: #7f7f7f\">:</span><a href=\"file://C:\\Users\\Rules\\AppData\\Local\\Temp\\ipykernel_21268\\1848589587.py#9\"><span style=\"color: #7f7f7f; text-decoration-color: #7f7f7f\">9</span></a>\n",
       "</pre>\n"
      ],
      "text/plain": [
       "\u001b[2;36m          \u001b[0m\u001b[2;36m \u001b[0mAccuracy: \u001b[1;36m0.9993806022761607\u001b[0m with \u001b[33mk\u001b[0m=\u001b[1;36m25\u001b[0m                             \u001b]8;id=11097;file://C:\\Users\\Rules\\AppData\\Local\\Temp\\ipykernel_21268\\1848589587.py\u001b\\\u001b[2m1848589587.py\u001b[0m\u001b]8;;\u001b\\\u001b[2m:\u001b[0m\u001b]8;id=77861;file://C:\\Users\\Rules\\AppData\\Local\\Temp\\ipykernel_21268\\1848589587.py#9\u001b\\\u001b[2m9\u001b[0m\u001b]8;;\u001b\\\n"
      ]
     },
     "metadata": {},
     "output_type": "display_data"
    },
    {
     "data": {
      "text/html": [
       "<pre style=\"white-space:pre;overflow-x:auto;line-height:normal;font-family:Menlo,'DejaVu Sans Mono',consolas,'Courier New',monospace\"><span style=\"color: #7fbfbf; text-decoration-color: #7fbfbf\">[20:53:27] </span>Accuracy: <span style=\"color: #008080; text-decoration-color: #008080; font-weight: bold\">0.9992949968274857</span> with <span style=\"color: #808000; text-decoration-color: #808000\">k</span>=<span style=\"color: #008080; text-decoration-color: #008080; font-weight: bold\">27</span>                             <a href=\"file://C:\\Users\\Rules\\AppData\\Local\\Temp\\ipykernel_21268\\1848589587.py\"><span style=\"color: #7f7f7f; text-decoration-color: #7f7f7f\">1848589587.py</span></a><span style=\"color: #7f7f7f; text-decoration-color: #7f7f7f\">:</span><a href=\"file://C:\\Users\\Rules\\AppData\\Local\\Temp\\ipykernel_21268\\1848589587.py#8\"><span style=\"color: #7f7f7f; text-decoration-color: #7f7f7f\">8</span></a>\n",
       "</pre>\n"
      ],
      "text/plain": [
       "\u001b[2;36m[20:53:27]\u001b[0m\u001b[2;36m \u001b[0mAccuracy: \u001b[1;36m0.9992949968274857\u001b[0m with \u001b[33mk\u001b[0m=\u001b[1;36m27\u001b[0m                             \u001b]8;id=141437;file://C:\\Users\\Rules\\AppData\\Local\\Temp\\ipykernel_21268\\1848589587.py\u001b\\\u001b[2m1848589587.py\u001b[0m\u001b]8;;\u001b\\\u001b[2m:\u001b[0m\u001b]8;id=346934;file://C:\\Users\\Rules\\AppData\\Local\\Temp\\ipykernel_21268\\1848589587.py#8\u001b\\\u001b[2m8\u001b[0m\u001b]8;;\u001b\\\n"
      ]
     },
     "metadata": {},
     "output_type": "display_data"
    },
    {
     "data": {
      "text/html": [
       "<pre style=\"white-space:pre;overflow-x:auto;line-height:normal;font-family:Menlo,'DejaVu Sans Mono',consolas,'Courier New',monospace\"><span style=\"color: #7fbfbf; text-decoration-color: #7fbfbf\">           </span>Accuracy: <span style=\"color: #008080; text-decoration-color: #008080; font-weight: bold\">0.999385638030013</span> with <span style=\"color: #808000; text-decoration-color: #808000\">k</span>=<span style=\"color: #008080; text-decoration-color: #008080; font-weight: bold\">27</span>                              <a href=\"file://C:\\Users\\Rules\\AppData\\Local\\Temp\\ipykernel_21268\\1848589587.py\"><span style=\"color: #7f7f7f; text-decoration-color: #7f7f7f\">1848589587.py</span></a><span style=\"color: #7f7f7f; text-decoration-color: #7f7f7f\">:</span><a href=\"file://C:\\Users\\Rules\\AppData\\Local\\Temp\\ipykernel_21268\\1848589587.py#9\"><span style=\"color: #7f7f7f; text-decoration-color: #7f7f7f\">9</span></a>\n",
       "</pre>\n"
      ],
      "text/plain": [
       "\u001b[2;36m          \u001b[0m\u001b[2;36m \u001b[0mAccuracy: \u001b[1;36m0.999385638030013\u001b[0m with \u001b[33mk\u001b[0m=\u001b[1;36m27\u001b[0m                              \u001b]8;id=913209;file://C:\\Users\\Rules\\AppData\\Local\\Temp\\ipykernel_21268\\1848589587.py\u001b\\\u001b[2m1848589587.py\u001b[0m\u001b]8;;\u001b\\\u001b[2m:\u001b[0m\u001b]8;id=82108;file://C:\\Users\\Rules\\AppData\\Local\\Temp\\ipykernel_21268\\1848589587.py#9\u001b\\\u001b[2m9\u001b[0m\u001b]8;;\u001b\\\n"
      ]
     },
     "metadata": {},
     "output_type": "display_data"
    },
    {
     "data": {
      "text/html": [
       "<pre style=\"white-space:pre;overflow-x:auto;line-height:normal;font-family:Menlo,'DejaVu Sans Mono',consolas,'Courier New',monospace\"><span style=\"color: #7fbfbf; text-decoration-color: #7fbfbf\">[20:54:13] </span>Accuracy: <span style=\"color: #008080; text-decoration-color: #008080; font-weight: bold\">0.9992832467746104</span> with <span style=\"color: #808000; text-decoration-color: #808000\">k</span>=<span style=\"color: #008080; text-decoration-color: #008080; font-weight: bold\">29</span>                             <a href=\"file://C:\\Users\\Rules\\AppData\\Local\\Temp\\ipykernel_21268\\1848589587.py\"><span style=\"color: #7f7f7f; text-decoration-color: #7f7f7f\">1848589587.py</span></a><span style=\"color: #7f7f7f; text-decoration-color: #7f7f7f\">:</span><a href=\"file://C:\\Users\\Rules\\AppData\\Local\\Temp\\ipykernel_21268\\1848589587.py#8\"><span style=\"color: #7f7f7f; text-decoration-color: #7f7f7f\">8</span></a>\n",
       "</pre>\n"
      ],
      "text/plain": [
       "\u001b[2;36m[20:54:13]\u001b[0m\u001b[2;36m \u001b[0mAccuracy: \u001b[1;36m0.9992832467746104\u001b[0m with \u001b[33mk\u001b[0m=\u001b[1;36m29\u001b[0m                             \u001b]8;id=472039;file://C:\\Users\\Rules\\AppData\\Local\\Temp\\ipykernel_21268\\1848589587.py\u001b\\\u001b[2m1848589587.py\u001b[0m\u001b]8;;\u001b\\\u001b[2m:\u001b[0m\u001b]8;id=467169;file://C:\\Users\\Rules\\AppData\\Local\\Temp\\ipykernel_21268\\1848589587.py#8\u001b\\\u001b[2m8\u001b[0m\u001b]8;;\u001b\\\n"
      ]
     },
     "metadata": {},
     "output_type": "display_data"
    },
    {
     "data": {
      "text/html": [
       "<pre style=\"white-space:pre;overflow-x:auto;line-height:normal;font-family:Menlo,'DejaVu Sans Mono',consolas,'Courier New',monospace\"><span style=\"color: #7fbfbf; text-decoration-color: #7fbfbf\">           </span>Accuracy: <span style=\"color: #008080; text-decoration-color: #008080; font-weight: bold\">0.999385638030013</span> with <span style=\"color: #808000; text-decoration-color: #808000\">k</span>=<span style=\"color: #008080; text-decoration-color: #008080; font-weight: bold\">29</span>                              <a href=\"file://C:\\Users\\Rules\\AppData\\Local\\Temp\\ipykernel_21268\\1848589587.py\"><span style=\"color: #7f7f7f; text-decoration-color: #7f7f7f\">1848589587.py</span></a><span style=\"color: #7f7f7f; text-decoration-color: #7f7f7f\">:</span><a href=\"file://C:\\Users\\Rules\\AppData\\Local\\Temp\\ipykernel_21268\\1848589587.py#9\"><span style=\"color: #7f7f7f; text-decoration-color: #7f7f7f\">9</span></a>\n",
       "</pre>\n"
      ],
      "text/plain": [
       "\u001b[2;36m          \u001b[0m\u001b[2;36m \u001b[0mAccuracy: \u001b[1;36m0.999385638030013\u001b[0m with \u001b[33mk\u001b[0m=\u001b[1;36m29\u001b[0m                              \u001b]8;id=681520;file://C:\\Users\\Rules\\AppData\\Local\\Temp\\ipykernel_21268\\1848589587.py\u001b\\\u001b[2m1848589587.py\u001b[0m\u001b]8;;\u001b\\\u001b[2m:\u001b[0m\u001b]8;id=421921;file://C:\\Users\\Rules\\AppData\\Local\\Temp\\ipykernel_21268\\1848589587.py#9\u001b\\\u001b[2m9\u001b[0m\u001b]8;;\u001b\\\n"
      ]
     },
     "metadata": {},
     "output_type": "display_data"
    },
    {
     "data": {
      "text/html": [
       "<pre style=\"white-space:pre;overflow-x:auto;line-height:normal;font-family:Menlo,'DejaVu Sans Mono',consolas,'Courier New',monospace\"></pre>\n"
      ],
      "text/plain": []
     },
     "metadata": {},
     "output_type": "display_data"
    },
    {
     "data": {
      "text/html": [
       "<pre style=\"white-space:pre;overflow-x:auto;line-height:normal;font-family:Menlo,'DejaVu Sans Mono',consolas,'Courier New',monospace\">\n",
       "</pre>\n"
      ],
      "text/plain": [
       "\n"
      ]
     },
     "metadata": {},
     "output_type": "display_data"
    },
    {
     "data": {
      "text/html": [
       "<pre style=\"white-space:pre;overflow-x:auto;line-height:normal;font-family:Menlo,'DejaVu Sans Mono',consolas,'Courier New',monospace\"><span style=\"color: #800000; text-decoration-color: #800000; font-weight: bold\">The optimal number of neighbors is </span><span style=\"color: #008080; text-decoration-color: #008080; font-weight: bold\">3</span>\n",
       "</pre>\n"
      ],
      "text/plain": [
       "\u001b[1;31mThe optimal number of neighbors is \u001b[0m\u001b[1;36m3\u001b[0m\n"
      ]
     },
     "metadata": {},
     "output_type": "display_data"
    },
    {
     "data": {
      "text/html": [
       "<pre style=\"white-space:pre;overflow-x:auto;line-height:normal;font-family:Menlo,'DejaVu Sans Mono',consolas,'Courier New',monospace\">The optimal number of neighbors is <span style=\"color: #008080; text-decoration-color: #008080; font-weight: bold\">3</span>\n",
       "</pre>\n"
      ],
      "text/plain": [
       "The optimal number of neighbors is \u001b[1;36m3\u001b[0m\n"
      ]
     },
     "metadata": {},
     "output_type": "display_data"
    },
    {
     "data": {
      "text/html": [
       "<pre style=\"white-space:pre;overflow-x:auto;line-height:normal;font-family:Menlo,'DejaVu Sans Mono',consolas,'Courier New',monospace\">The accuracy of the final model is <span style=\"color: #008080; text-decoration-color: #008080; font-weight: bold\">99.95</span>%\n",
       "</pre>\n"
      ],
      "text/plain": [
       "The accuracy of the final model is \u001b[1;36m99.95\u001b[0m%\n"
      ]
     },
     "metadata": {},
     "output_type": "display_data"
    },
    {
     "data": {
      "text/html": [
       "<pre style=\"white-space:pre;overflow-x:auto;line-height:normal;font-family:Menlo,'DejaVu Sans Mono',consolas,'Courier New',monospace\">Maximum accuracy:- <span style=\"color: #008080; text-decoration-color: #008080; font-weight: bold\">0.9994511028300938</span> at K = <span style=\"color: #008080; text-decoration-color: #008080; font-weight: bold\">2</span>\n",
       "</pre>\n"
      ],
      "text/plain": [
       "Maximum accuracy:- \u001b[1;36m0.9994511028300938\u001b[0m at K = \u001b[1;36m2\u001b[0m\n"
      ]
     },
     "metadata": {},
     "output_type": "display_data"
    },
    {
     "data": {
      "image/png": "[encoded data removed]",
      "text/plain": [
       "<Figure size 1000x600 with 1 Axes>"
      ]
     },
     "metadata": {},
     "output_type": "display_data"
    }
   ],
   "source": [
    "acc = []\n",
    "for k in track(range_iter, description=\"Processing...\", total=len(range_iter)):\n",
    "    knn = KNeighborsClassifier(n_neighbors=k)\n",
    "    scores = cross_val_score(knn, FEATURES_TRAIN_PRE_UB, TARGET_TRAIN_PRE_UB, cv=5, scoring='accuracy')\n",
    "    score = scores.mean()\n",
    "    knn.fit(FEATURES_TRAIN_PRE_UB, TARGET_TRAIN_PRE_UB)\n",
    "    real_accuracy = knn.score(FEATURES_TEST_PRE_UB, TARGET_TEST_PRE_UB)\n",
    "    console.log(f\"Accuracy: {real_accuracy} with k={k}\")\n",
    "    console.log(f\"Accuracy: {score} with k={k}\")\n",
    "    acc.append(score)\n",
    "\n",
    "optimal_k = range_iter[acc.index(max(acc))]\n",
    "console.print(f\"The optimal number of neighbors is {optimal_k}\", style=\"bold red\")\n",
    "\n",
    "knn_final = KNeighborsClassifier(n_neighbors=optimal_k)\n",
    "knn_final.fit(FEATURES_TRAIN_PRE_UB, TARGET_TRAIN_PRE_UB)\n",
    "\n",
    "accuracy = knn_final.score(FEATURES_TEST_PRE_UB, TARGET_TEST_PRE_UB)\n",
    "\n",
    "console.print(\"The optimal number of neighbors is %d\" % optimal_k)\n",
    "console.print(\"The accuracy of the final model is %.2f%%\" % (accuracy * 100))\n",
    "\n",
    "plt.figure(figsize=(10,6))\n",
    "plt.plot(range_iter, acc,color = 'blue',linestyle='dashed', \n",
    "         marker='o',markerfacecolor='red', markersize=10)\n",
    "plt.title('accuracy vs. K Value')\n",
    "plt.xlabel('K')\n",
    "plt.ylabel('Accuracy')\n",
    "print(\"Maximum accuracy:-\", max(acc),\"at K =\", acc.index(max(acc)) + 1)"
   ]
  },
  {
   "cell_type": "code",
   "execution_count": 30,
   "metadata": {},
   "outputs": [
    {
     "data": {
      "text/html": [
       "<pre style=\"white-space:pre;overflow-x:auto;line-height:normal;font-family:Menlo,'DejaVu Sans Mono',consolas,'Courier New',monospace\">The optimal number of neighbors is <span style=\"color: #008080; text-decoration-color: #008080; font-weight: bold\">3</span>\n",
       "</pre>\n"
      ],
      "text/plain": [
       "The optimal number of neighbors is \u001b[1;36m3\u001b[0m\n"
      ]
     },
     "metadata": {},
     "output_type": "display_data"
    },
    {
     "data": {
      "text/html": [
       "<pre style=\"white-space:pre;overflow-x:auto;line-height:normal;font-family:Menlo,'DejaVu Sans Mono',consolas,'Courier New',monospace\">The accuracy of the final model is <span style=\"color: #008080; text-decoration-color: #008080; font-weight: bold\">99.95</span>%\n",
       "</pre>\n"
      ],
      "text/plain": [
       "The accuracy of the final model is \u001b[1;36m99.95\u001b[0m%\n"
      ]
     },
     "metadata": {},
     "output_type": "display_data"
    }
   ],
   "source": [
    "knn_final = KNeighborsClassifier(n_neighbors=3)\n",
    "knn_final.fit(FEATURES_TRAIN_PRE_UB, TARGET_TRAIN_PRE_UB)\n",
    "\n",
    "accuracy = knn_final.score(FEATURES_TEST_PRE_UB, TARGET_TEST_PRE_UB)\n",
    "\n",
    "console.print(\"The optimal number of neighbors is %d\" % optimal_k)\n",
    "console.print(\"The accuracy of the final model is %.2f%%\" % (accuracy * 100))"
   ]
  },
  {
   "cell_type": "code",
   "execution_count": 32,
   "metadata": {},
   "outputs": [
    {
     "data": {
      "text/html": [
       "<pre style=\"white-space:pre;overflow-x:auto;line-height:normal;font-family:Menlo,'DejaVu Sans Mono',consolas,'Courier New',monospace\"><span style=\"font-weight: bold\">[[</span><span style=\"color: #008080; text-decoration-color: #008080; font-weight: bold\">84966</span>     <span style=\"color: #008080; text-decoration-color: #008080; font-weight: bold\">9</span><span style=\"font-weight: bold\">]</span>\n",
       " <span style=\"font-weight: bold\">[</span>   <span style=\"color: #008080; text-decoration-color: #008080; font-weight: bold\">30</span>   <span style=\"color: #008080; text-decoration-color: #008080; font-weight: bold\">101</span><span style=\"font-weight: bold\">]]</span>\n",
       "</pre>\n"
      ],
      "text/plain": [
       "\u001b[1m[\u001b[0m\u001b[1m[\u001b[0m\u001b[1;36m84966\u001b[0m     \u001b[1;36m9\u001b[0m\u001b[1m]\u001b[0m\n",
       " \u001b[1m[\u001b[0m   \u001b[1;36m30\u001b[0m   \u001b[1;36m101\u001b[0m\u001b[1m]\u001b[0m\u001b[1m]\u001b[0m\n"
      ]
     },
     "metadata": {},
     "output_type": "display_data"
    }
   ],
   "source": [
    "from sklearn.metrics import confusion_matrix\n",
    "\n",
    "\n",
    "c_matrix = confusion_matrix(TARGET_TEST_PRE_UB, knn_final.predict(FEATURES_TEST_PRE_UB))\n",
    "print(c_matrix)"
   ]
  },
  {
   "attachments": {},
   "cell_type": "markdown",
   "metadata": {},
   "source": [
    "Nos quedamos con k = 2"
   ]
  },
  {
   "cell_type": "code",
   "execution_count": 33,
   "metadata": {},
   "outputs": [],
   "source": [
    "neigh = KNeighborsClassifier(n_neighbors=2, weights='distance').fit(FEATURES_TRAIN_PRE_UB, TARGET_TRAIN_PRE_UB)\n",
    "yhat = neigh.predict(FEATURES_TEST_PRE_UB)\n",
    "accuracy = cross_val_score(neigh, FEATURES_PRE_UB, TARGET_PRE_UB, cv=10, scoring='accuracy')"
   ]
  },
  {
   "cell_type": "code",
   "execution_count": 35,
   "metadata": {},
   "outputs": [
    {
     "data": {
      "text/html": [
       "<pre style=\"white-space:pre;overflow-x:auto;line-height:normal;font-family:Menlo,'DejaVu Sans Mono',consolas,'Courier New',monospace\"><span style=\"color: #008080; text-decoration-color: #008080; font-weight: bold\">0.9861785634007412</span>\n",
       "</pre>\n"
      ],
      "text/plain": [
       "\u001b[1;36m0.9861785634007412\u001b[0m\n"
      ]
     },
     "metadata": {},
     "output_type": "display_data"
    },
    {
     "data": {
      "text/html": [
       "<pre style=\"white-space:pre;overflow-x:auto;line-height:normal;font-family:Menlo,'DejaVu Sans Mono',consolas,'Courier New',monospace\">Confusion matrix: \n",
       " <span style=\"font-weight: bold\">[[</span><span style=\"color: #008080; text-decoration-color: #008080; font-weight: bold\">84958</span>    <span style=\"color: #008080; text-decoration-color: #008080; font-weight: bold\">17</span><span style=\"font-weight: bold\">]</span>\n",
       " <span style=\"font-weight: bold\">[</span>   <span style=\"color: #008080; text-decoration-color: #008080; font-weight: bold\">29</span>   <span style=\"color: #008080; text-decoration-color: #008080; font-weight: bold\">102</span><span style=\"font-weight: bold\">]]</span>\n",
       "</pre>\n"
      ],
      "text/plain": [
       "Confusion matrix: \n",
       " \u001b[1m[\u001b[0m\u001b[1m[\u001b[0m\u001b[1;36m84958\u001b[0m    \u001b[1;36m17\u001b[0m\u001b[1m]\u001b[0m\n",
       " \u001b[1m[\u001b[0m   \u001b[1;36m29\u001b[0m   \u001b[1;36m102\u001b[0m\u001b[1m]\u001b[0m\u001b[1m]\u001b[0m\n"
      ]
     },
     "metadata": {},
     "output_type": "display_data"
    }
   ],
   "source": [
    "from sklearn.metrics import confusion_matrix\n",
    "\n",
    "print(accuracy.mean())\n",
    "\n",
    "conf_matrix = confusion_matrix(TARGET_TEST_PRE_UB, yhat)\n",
    "print('Confusion matrix: \\n', conf_matrix)"
   ]
  },
  {
   "attachments": {},
   "cell_type": "markdown",
   "metadata": {},
   "source": [
    "#### Clasificador Naive Bayes"
   ]
  },
  {
   "attachments": {},
   "cell_type": "markdown",
   "metadata": {},
   "source": [
    "Clasificador Gaussiano, averiguamos el mejor modelo"
   ]
  },
  {
   "cell_type": "code",
   "execution_count": 9,
   "metadata": {},
   "outputs": [
    {
     "data": {
      "text/html": [
       "<pre style=\"white-space:pre;overflow-x:auto;line-height:normal;font-family:Menlo,'DejaVu Sans Mono',consolas,'Courier New',monospace\">Best var_smoothing value:  <span style=\"color: #008080; text-decoration-color: #008080; font-weight: bold\">0.0</span>\n",
       "</pre>\n"
      ],
      "text/plain": [
       "Best var_smoothing value:  \u001b[1;36m0.0\u001b[0m\n"
      ]
     },
     "metadata": {},
     "output_type": "display_data"
    }
   ],
   "source": [
    "from sklearn.naive_bayes import GaussianNB\n",
    "from sklearn.model_selection import GridSearchCV\n",
    "from sklearn.metrics import confusion_matrix\n",
    "\n",
    "gnb = GaussianNB()\n",
    "param_grid = {'var_smoothing': np.arange(0.0, 10.1, 0.1)}\n",
    "grid = GridSearchCV(gnb, param_grid, cv=5)\n",
    "grid.fit(FEATURES_TRAIN_PRE_B, TARGET_TRAIN_PRE_B)\n",
    "\n",
    "print(\"Best var_smoothing value: \", grid.best_estimator_.var_smoothing)\n",
    "\n",
    "gnb_best = grid.best_estimator_.fit(FEATURES_TRAIN_PRE_B, TARGET_TRAIN_PRE_B)\n",
    "\n",
    "y_pred = gnb_best.predict(FEATURES_TEST_PRE_B)\n",
    "accuracy = cross_val_score(gnb_best, FEATURES_PRE_B, TARGET_PRE_B, cv=10, scoring='accuracy')\n",
    "conf_matrix = confusion_matrix(TARGET_TEST_PRE_B, y_pred)\n",
    "\n",
    "print(\"Filas totales: %d \\nFilas no clasificadas correctamente: %d\" % (FEATURES_TEST_PRE_B.shape[0], (TARGET_TEST_PRE_B != y_pred).sum()))\n",
    "print(\"Score: \", accuracy.mean())\n",
    "print('Matriz de confusión:')\n",
    "print(conf_matrix)\n"
   ]
  },
  {
   "cell_type": "code",
   "execution_count": 11,
   "metadata": {},
   "outputs": [
    {
     "data": {
      "text/html": [
       "<pre style=\"white-space:pre;overflow-x:auto;line-height:normal;font-family:Menlo,'DejaVu Sans Mono',consolas,'Courier New',monospace\">Accuracy: <span style=\"color: #008080; text-decoration-color: #008080; font-weight: bold\">0.9994594975677391</span>\n",
       "</pre>\n"
      ],
      "text/plain": [
       "Accuracy: \u001b[1;36m0.9994594975677391\u001b[0m\n"
      ]
     },
     "metadata": {},
     "output_type": "display_data"
    },
    {
     "data": {
      "text/html": [
       "<pre style=\"white-space:pre;overflow-x:auto;line-height:normal;font-family:Menlo,'DejaVu Sans Mono',consolas,'Courier New',monospace\">Precision: <span style=\"color: #008080; text-decoration-color: #008080; font-weight: bold\">0.8632478632478633</span>\n",
       "</pre>\n"
      ],
      "text/plain": [
       "Precision: \u001b[1;36m0.8632478632478633\u001b[0m\n"
      ]
     },
     "metadata": {},
     "output_type": "display_data"
    },
    {
     "data": {
      "text/html": [
       "<pre style=\"white-space:pre;overflow-x:auto;line-height:normal;font-family:Menlo,'DejaVu Sans Mono',consolas,'Courier New',monospace\">Recall: <span style=\"color: #008080; text-decoration-color: #008080; font-weight: bold\">0.7709923664122137</span>\n",
       "</pre>\n"
      ],
      "text/plain": [
       "Recall: \u001b[1;36m0.7709923664122137\u001b[0m\n"
      ]
     },
     "metadata": {},
     "output_type": "display_data"
    },
    {
     "data": {
      "text/html": [
       "<pre style=\"white-space:pre;overflow-x:auto;line-height:normal;font-family:Menlo,'DejaVu Sans Mono',consolas,'Courier New',monospace\">F1-score: <span style=\"color: #008080; text-decoration-color: #008080; font-weight: bold\">0.8145161290322581</span>\n",
       "</pre>\n"
      ],
      "text/plain": [
       "F1-score: \u001b[1;36m0.8145161290322581\u001b[0m\n"
      ]
     },
     "metadata": {},
     "output_type": "display_data"
    },
    {
     "data": {
      "text/html": [
       "<pre style=\"white-space:pre;overflow-x:auto;line-height:normal;font-family:Menlo,'DejaVu Sans Mono',consolas,'Courier New',monospace\">Best hyperparameters:\n",
       "<span style=\"font-weight: bold\">{</span><span style=\"color: #008000; text-decoration-color: #008000\">'max_depth'</span>: <span style=\"color: #008080; text-decoration-color: #008080; font-weight: bold\">7</span>, <span style=\"color: #008000; text-decoration-color: #008000\">'min_samples_leaf'</span>: <span style=\"color: #008080; text-decoration-color: #008080; font-weight: bold\">1</span>, <span style=\"color: #008000; text-decoration-color: #008000\">'min_samples_split'</span>: <span style=\"color: #008080; text-decoration-color: #008080; font-weight: bold\">2</span><span style=\"font-weight: bold\">}</span>\n",
       "</pre>\n"
      ],
      "text/plain": [
       "Best hyperparameters:\n",
       "\u001b[1m{\u001b[0m\u001b[32m'max_depth'\u001b[0m: \u001b[1;36m7\u001b[0m, \u001b[32m'min_samples_leaf'\u001b[0m: \u001b[1;36m1\u001b[0m, \u001b[32m'min_samples_split'\u001b[0m: \u001b[1;36m2\u001b[0m\u001b[1m}\u001b[0m\n"
      ]
     },
     "metadata": {},
     "output_type": "display_data"
    },
    {
     "data": {
      "text/html": [
       "<pre style=\"white-space:pre;overflow-x:auto;line-height:normal;font-family:Menlo,'DejaVu Sans Mono',consolas,'Courier New',monospace\">Filas totales: <span style=\"color: #008080; text-decoration-color: #008080; font-weight: bold\">85106</span> \n",
       "Filas no clasificadas correctamente: <span style=\"color: #008080; text-decoration-color: #008080; font-weight: bold\">46</span>\n",
       "</pre>\n"
      ],
      "text/plain": [
       "Filas totales: \u001b[1;36m85106\u001b[0m \n",
       "Filas no clasificadas correctamente: \u001b[1;36m46\u001b[0m\n"
      ]
     },
     "metadata": {},
     "output_type": "display_data"
    },
    {
     "data": {
      "text/html": [
       "<pre style=\"white-space:pre;overflow-x:auto;line-height:normal;font-family:Menlo,'DejaVu Sans Mono',consolas,'Courier New',monospace\">Score:  <span style=\"color: #008080; text-decoration-color: #008080; font-weight: bold\">0.9200500466845389</span>\n",
       "</pre>\n"
      ],
      "text/plain": [
       "Score:  \u001b[1;36m0.9200500466845389\u001b[0m\n"
      ]
     },
     "metadata": {},
     "output_type": "display_data"
    },
    {
     "data": {
      "text/html": [
       "<pre style=\"white-space:pre;overflow-x:auto;line-height:normal;font-family:Menlo,'DejaVu Sans Mono',consolas,'Courier New',monospace\">Matriz de confusión:\n",
       "</pre>\n"
      ],
      "text/plain": [
       "Matriz de confusión:\n"
      ]
     },
     "metadata": {},
     "output_type": "display_data"
    },
    {
     "data": {
      "text/html": [
       "<pre style=\"white-space:pre;overflow-x:auto;line-height:normal;font-family:Menlo,'DejaVu Sans Mono',consolas,'Courier New',monospace\"><span style=\"font-weight: bold\">[[</span><span style=\"color: #008080; text-decoration-color: #008080; font-weight: bold\">84959</span>    <span style=\"color: #008080; text-decoration-color: #008080; font-weight: bold\">16</span><span style=\"font-weight: bold\">]</span>\n",
       " <span style=\"font-weight: bold\">[</span>   <span style=\"color: #008080; text-decoration-color: #008080; font-weight: bold\">30</span>   <span style=\"color: #008080; text-decoration-color: #008080; font-weight: bold\">101</span><span style=\"font-weight: bold\">]]</span>\n",
       "</pre>\n"
      ],
      "text/plain": [
       "\u001b[1m[\u001b[0m\u001b[1m[\u001b[0m\u001b[1;36m84959\u001b[0m    \u001b[1;36m16\u001b[0m\u001b[1m]\u001b[0m\n",
       " \u001b[1m[\u001b[0m   \u001b[1;36m30\u001b[0m   \u001b[1;36m101\u001b[0m\u001b[1m]\u001b[0m\u001b[1m]\u001b[0m\n"
      ]
     },
     "metadata": {},
     "output_type": "display_data"
    }
   ],
   "source": [
    "from sklearn.tree import DecisionTreeClassifier\n",
    "from sklearn.metrics import accuracy_score, precision_score, recall_score, f1_score\n",
    "\n",
    "dtc = DecisionTreeClassifier(random_state=42)\n",
    "param_grid = {'max_depth': [3, 5, 7, 9],\n",
    "              'min_samples_split': [2, 4, 6, 8],\n",
    "              'min_samples_leaf': [1, 2, 3, 4]}\n",
    "\n",
    "grid_search = GridSearchCV(dtc, param_grid, cv=5, scoring='recall')\n",
    "grid_search.fit(FEATURES_TRAIN_PRE_UB, TARGET_TRAIN_PRE_UB)\n",
    "best_dtc = grid_search.best_estimator_\n",
    "y_pred = best_dtc.predict(FEATURES_TEST_PRE_UB)\n",
    "\n",
    "accuracy = accuracy_score(TARGET_TEST_PRE_UB, y_pred)\n",
    "precision = precision_score(TARGET_TEST_PRE_UB, y_pred)\n",
    "recall = recall_score(TARGET_TEST_PRE_UB, y_pred)\n",
    "f1 = f1_score(TARGET_TEST_PRE_UB, y_pred)\n",
    "\n",
    "print(\"Accuracy:\", accuracy)\n",
    "print(\"Precision:\", precision)\n",
    "print(\"Recall:\", recall)\n",
    "print(\"F1-score:\", f1)\n",
    "\n",
    "print(\"Best hyperparameters:\", grid_search.best_params_)\n",
    "\n",
    "grid_search.best_estimator_.fit(FEATURES_TRAIN_PRE_UB, TARGET_TRAIN_PRE_UB)\n",
    "accuracy = cross_val_score(grid_search.best_estimator_, FEATURES_PRE_UB, TARGET_PRE_UB, cv=10, scoring='accuracy')\n",
    "conf_matrix = confusion_matrix(TARGET_TEST_PRE_UB, y_pred)\n",
    "\n",
    "print(\"Filas totales: %d \\nFilas no clasificadas correctamente: %d\" % (FEATURES_TEST_PRE_UB.shape[0], (TARGET_TEST_PRE_UB != y_pred).sum()))\n",
    "print(\"Score: \", accuracy.mean())\n",
    "print('Matriz de confusión:')\n",
    "print(conf_matrix)"
   ]
  }
 ],
 "metadata": {
  "kernelspec": {
   "display_name": "Python 3.8.16 64-bit",
   "language": "python",
   "name": "python3"
  },
  "language_info": {
   "codemirror_mode": {
    "name": "ipython",
    "version": 3
   },
   "file_extension": ".py",
   "mimetype": "text/x-python",
   "name": "python",
   "nbconvert_exporter": "python",
   "pygments_lexer": "ipython3",
   "version": "3.11.3"
  },
  "orig_nbformat": 4,
  "vscode": {
   "interpreter": {
    "hash": "767d51c1340bd893661ea55ea3124f6de3c7a262a8b4abca0554b478b1e2ff90"
   }
  }
 },
 "nbformat": 4,
 "nbformat_minor": 2
}

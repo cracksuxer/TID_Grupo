{
 "cells": [
  {
   "cell_type": "code",
   "execution_count": null,
   "metadata": {},
   "outputs": [],
   "source": [
    "# Introducción\n",
    "\n",
    "### Describir con lo que trabajamos, enumerar objetivos y su importancia\n",
    "\n",
    "#! Describir los objetivos (con lo que vamos a trabajar)\n",
    "\n",
    "#? Ejemplo: (Objetivo principal) Saber predecir si una transacción es fraudulenta o no\n",
    "#?                               ¿De qué depende que una transaccion sea fraudulenta?\n",
    "#?                               Si la cantidad sacada es alta, ¿hay mayor probabilidad de que sea fraudulenta?\n",
    "#?                               ¿A que hora es más probable que haya una transacción fraudulenta?\n",
    "#? Hasta 5 objetivos\n",
    "\n",
    "\n",
    "# Datos\n",
    "##? Describir la fuente de información\n",
    "##? Variables disponibles\n",
    "##? Datos recopilados (base de conocimiento)\n",
    "##! Como se han preparado (limpieza, transformación, creación de variables, etc)\n",
    "## Dificultades\n",
    "\n",
    "\n",
    "# Clasificación\n",
    "\n",
    "## Que modelo es mas apropiado (arbol de decisión, clasificación bayesiana, etc)\n",
    "## ¿Qué variables son las mas importantes? ¿Por qué? ¿Cómo se puede mejorar el modelo?\n",
    "## Se tiene que escoger el mas adecuado (hay que probarlos todos)\n",
    "\n",
    "\n",
    "# Agrupamiento\n",
    "## Mejor modelo para agrupamiento (basado en prototipos, jerárquico, etc)\n",
    "### Se tiene que escoger el mas adecuado (hay que probarlos todos)\n",
    "\n",
    "\n",
    "# Conlusión\n",
    "## Como se usan nuestros modelos para mejorar la empresa\n",
    "\n",
    "\n",
    "# Material consultado\n",
    "## Bibliografía\n",
    "\n",
    "\n",
    "\n",
    "\n",
    "# Datos de la base de conocimiento\n",
    "\n",
    "## Variables Time V1-V28 Amount Fraud\n",
    "## Septiembre de 2013\n",
    "## 2 dias (Maximo 172792 segundos)\n",
    "\n",
    "\n",
    "# Preguntas profesor\n",
    "# Cuando comienza el tiempo. (Si el segundo 0 => 00:00)"
   ]
  },
  {
   "attachments": {},
   "cell_type": "markdown",
   "metadata": {},
   "source": [
    "## Paso a tipo numércio"
   ]
  },
  {
   "cell_type": "code",
   "execution_count": 2,
   "metadata": {},
   "outputs": [],
   "source": [
    "import pandas as pd\n",
    "\n",
    "def encode_categorical_columns(data):\n",
    "    \"\"\"\n",
    "    Codifica las columnas no numéricas de un DataFrame en números.\n",
    "\n",
    "    Parámetros:\n",
    "    data (DataFrame): El DataFrame que se va a transformar.\n",
    "\n",
    "    Retorna:\n",
    "    DataFrame: El DataFrame transformado.\n",
    "    \"\"\"\n",
    "    for col in data.columns:\n",
    "        if not pd.api.types.is_numeric_dtype(data[col]):\n",
    "            mask = ~data[col].isna() # Máscara booleana para valores no NaN\n",
    "            codes, _ = pd.factorize(data.loc[mask, col])\n",
    "            data[data.columns[data.columns.get_loc(col)]] = pd.Series(codes, index=data.loc[mask, col].index)\n",
    "            \n",
    "    return data"
   ]
  },
  {
   "cell_type": "code",
   "execution_count": 46,
   "metadata": {},
   "outputs": [],
   "source": [
    "credit_df = pd.read_csv('creditcard.csv')"
   ]
  },
  {
   "attachments": {},
   "cell_type": "markdown",
   "metadata": {},
   "source": [
    "#### No hay datos no numéricos ni faltantes"
   ]
  },
  {
   "cell_type": "code",
   "execution_count": 27,
   "metadata": {},
   "outputs": [
    {
     "data": {
      "text/html": [
       "<pre style=\"white-space:pre;overflow-x:auto;line-height:normal;font-family:Menlo,'DejaVu Sans Mono',consolas,'Courier New',monospace\">Hay <span style=\"color: #008080; text-decoration-color: #008080; font-weight: bold\">0</span> columnas no numéricas\n",
       "</pre>\n"
      ],
      "text/plain": [
       "Hay \u001b[1;36m0\u001b[0m columnas no numéricas\n"
      ]
     },
     "metadata": {},
     "output_type": "display_data"
    },
    {
     "data": {
      "text/html": [
       "<pre style=\"white-space:pre;overflow-x:auto;line-height:normal;font-family:Menlo,'DejaVu Sans Mono',consolas,'Courier New',monospace\">Valores nulos de cada columna:\n",
       "</pre>\n"
      ],
      "text/plain": [
       "Valores nulos de cada columna:\n"
      ]
     },
     "metadata": {},
     "output_type": "display_data"
    },
    {
     "data": {
      "text/html": [
       "<pre style=\"white-space:pre;overflow-x:auto;line-height:normal;font-family:Menlo,'DejaVu Sans Mono',consolas,'Courier New',monospace\">Time      <span style=\"color: #008080; text-decoration-color: #008080; font-weight: bold\">0</span>\n",
       "V1        <span style=\"color: #008080; text-decoration-color: #008080; font-weight: bold\">0</span>\n",
       "V2        <span style=\"color: #008080; text-decoration-color: #008080; font-weight: bold\">0</span>\n",
       "V3        <span style=\"color: #008080; text-decoration-color: #008080; font-weight: bold\">0</span>\n",
       "V4        <span style=\"color: #008080; text-decoration-color: #008080; font-weight: bold\">0</span>\n",
       "V5        <span style=\"color: #008080; text-decoration-color: #008080; font-weight: bold\">0</span>\n",
       "V6        <span style=\"color: #008080; text-decoration-color: #008080; font-weight: bold\">0</span>\n",
       "V7        <span style=\"color: #008080; text-decoration-color: #008080; font-weight: bold\">0</span>\n",
       "V8        <span style=\"color: #008080; text-decoration-color: #008080; font-weight: bold\">0</span>\n",
       "V9        <span style=\"color: #008080; text-decoration-color: #008080; font-weight: bold\">0</span>\n",
       "V10       <span style=\"color: #008080; text-decoration-color: #008080; font-weight: bold\">0</span>\n",
       "V11       <span style=\"color: #008080; text-decoration-color: #008080; font-weight: bold\">0</span>\n",
       "V12       <span style=\"color: #008080; text-decoration-color: #008080; font-weight: bold\">0</span>\n",
       "V13       <span style=\"color: #008080; text-decoration-color: #008080; font-weight: bold\">0</span>\n",
       "V14       <span style=\"color: #008080; text-decoration-color: #008080; font-weight: bold\">0</span>\n",
       "V15       <span style=\"color: #008080; text-decoration-color: #008080; font-weight: bold\">0</span>\n",
       "V16       <span style=\"color: #008080; text-decoration-color: #008080; font-weight: bold\">0</span>\n",
       "V17       <span style=\"color: #008080; text-decoration-color: #008080; font-weight: bold\">0</span>\n",
       "V18       <span style=\"color: #008080; text-decoration-color: #008080; font-weight: bold\">0</span>\n",
       "V19       <span style=\"color: #008080; text-decoration-color: #008080; font-weight: bold\">0</span>\n",
       "V20       <span style=\"color: #008080; text-decoration-color: #008080; font-weight: bold\">0</span>\n",
       "V21       <span style=\"color: #008080; text-decoration-color: #008080; font-weight: bold\">0</span>\n",
       "V22       <span style=\"color: #008080; text-decoration-color: #008080; font-weight: bold\">0</span>\n",
       "V23       <span style=\"color: #008080; text-decoration-color: #008080; font-weight: bold\">0</span>\n",
       "V24       <span style=\"color: #008080; text-decoration-color: #008080; font-weight: bold\">0</span>\n",
       "V25       <span style=\"color: #008080; text-decoration-color: #008080; font-weight: bold\">0</span>\n",
       "V26       <span style=\"color: #008080; text-decoration-color: #008080; font-weight: bold\">0</span>\n",
       "V27       <span style=\"color: #008080; text-decoration-color: #008080; font-weight: bold\">0</span>\n",
       "V28       <span style=\"color: #008080; text-decoration-color: #008080; font-weight: bold\">0</span>\n",
       "Amount    <span style=\"color: #008080; text-decoration-color: #008080; font-weight: bold\">0</span>\n",
       "Class     <span style=\"color: #008080; text-decoration-color: #008080; font-weight: bold\">0</span>\n",
       "dtype: int64\n",
       "</pre>\n"
      ],
      "text/plain": [
       "Time      \u001b[1;36m0\u001b[0m\n",
       "V1        \u001b[1;36m0\u001b[0m\n",
       "V2        \u001b[1;36m0\u001b[0m\n",
       "V3        \u001b[1;36m0\u001b[0m\n",
       "V4        \u001b[1;36m0\u001b[0m\n",
       "V5        \u001b[1;36m0\u001b[0m\n",
       "V6        \u001b[1;36m0\u001b[0m\n",
       "V7        \u001b[1;36m0\u001b[0m\n",
       "V8        \u001b[1;36m0\u001b[0m\n",
       "V9        \u001b[1;36m0\u001b[0m\n",
       "V10       \u001b[1;36m0\u001b[0m\n",
       "V11       \u001b[1;36m0\u001b[0m\n",
       "V12       \u001b[1;36m0\u001b[0m\n",
       "V13       \u001b[1;36m0\u001b[0m\n",
       "V14       \u001b[1;36m0\u001b[0m\n",
       "V15       \u001b[1;36m0\u001b[0m\n",
       "V16       \u001b[1;36m0\u001b[0m\n",
       "V17       \u001b[1;36m0\u001b[0m\n",
       "V18       \u001b[1;36m0\u001b[0m\n",
       "V19       \u001b[1;36m0\u001b[0m\n",
       "V20       \u001b[1;36m0\u001b[0m\n",
       "V21       \u001b[1;36m0\u001b[0m\n",
       "V22       \u001b[1;36m0\u001b[0m\n",
       "V23       \u001b[1;36m0\u001b[0m\n",
       "V24       \u001b[1;36m0\u001b[0m\n",
       "V25       \u001b[1;36m0\u001b[0m\n",
       "V26       \u001b[1;36m0\u001b[0m\n",
       "V27       \u001b[1;36m0\u001b[0m\n",
       "V28       \u001b[1;36m0\u001b[0m\n",
       "Amount    \u001b[1;36m0\u001b[0m\n",
       "Class     \u001b[1;36m0\u001b[0m\n",
       "dtype: int64\n"
      ]
     },
     "metadata": {},
     "output_type": "display_data"
    }
   ],
   "source": [
    "total_numeric = 0\n",
    "for col in credit_df.columns:\n",
    "    if not pd.api.types.is_numeric_dtype(credit_df[col]):\n",
    "        total_numeric += 1\n",
    "\n",
    "emptyRowsAttr = credit_df.isnull().sum(axis=1).value_counts()\n",
    "\n",
    "print(f'Hay {total_numeric} columnas no numéricas')\n",
    "\n",
    "print('Valores nulos de cada columna:')\n",
    "print(credit_df.isna().sum()) # Verifica que no haya valores NaN"
   ]
  },
  {
   "attachments": {},
   "cell_type": "markdown",
   "metadata": {},
   "source": [
    "#### Analizamos si la clase objetivo está desbalanceado mirando los valores totales que toman la columna de Class"
   ]
  },
  {
   "cell_type": "code",
   "execution_count": 28,
   "metadata": {},
   "outputs": [
    {
     "data": {
      "text/html": [
       "<pre style=\"white-space:pre;overflow-x:auto;line-height:normal;font-family:Menlo,'DejaVu Sans Mono',consolas,'Courier New',monospace\"><span style=\"color: #008080; text-decoration-color: #008080; font-weight: bold\">0</span>    <span style=\"color: #008080; text-decoration-color: #008080; font-weight: bold\">284315</span>\n",
       "<span style=\"color: #008080; text-decoration-color: #008080; font-weight: bold\">1</span>       <span style=\"color: #008080; text-decoration-color: #008080; font-weight: bold\">492</span>\n",
       "Name: Class, dtype: int64\n",
       "</pre>\n"
      ],
      "text/plain": [
       "\u001b[1;36m0\u001b[0m    \u001b[1;36m284315\u001b[0m\n",
       "\u001b[1;36m1\u001b[0m       \u001b[1;36m492\u001b[0m\n",
       "Name: Class, dtype: int64\n"
      ]
     },
     "metadata": {},
     "output_type": "display_data"
    }
   ],
   "source": [
    "print(credit_df['Class'].value_counts())"
   ]
  },
  {
   "cell_type": "markdown",
   "metadata": {},
   "source": [
    "#### Clase muy desbalanceada"
   ]
  },
  {
   "cell_type": "code",
   "execution_count": 47,
   "metadata": {},
   "outputs": [],
   "source": [
    "FEATURES = credit_df.drop(['Class'], axis=1) # Features\n",
    "TARGET = credit_df['Class']                  # Target"
   ]
  },
  {
   "cell_type": "code",
   "execution_count": 48,
   "metadata": {},
   "outputs": [],
   "source": [
    "from imblearn.over_sampling import SMOTE\n",
    "\n",
    "smote = SMOTE(random_state=42) # Crea un objeto SMOTE con semilla 42\n",
    "X_sm, y_sm = smote.fit_resample(FEATURES, TARGET)"
   ]
  },
  {
   "cell_type": "code",
   "execution_count": 49,
   "metadata": {},
   "outputs": [],
   "source": [
    "credit_df_resampled = pd.concat([pd.DataFrame(X_sm), pd.DataFrame(y_sm)], axis=1)\n",
    "credit_df_resampled.columns = credit_df_resampled.columns\n",
    "credit_df_resampled.to_csv('./data/datos_credit_balanced.csv', index=False)"
   ]
  },
  {
   "cell_type": "code",
   "execution_count": 50,
   "metadata": {},
   "outputs": [
    {
     "data": {
      "text/html": [
       "<pre style=\"white-space:pre;overflow-x:auto;line-height:normal;font-family:Menlo,'DejaVu Sans Mono',consolas,'Courier New',monospace\">Valores de la columna LoanStatus:\n",
       "</pre>\n"
      ],
      "text/plain": [
       "Valores de la columna LoanStatus:\n"
      ]
     },
     "metadata": {},
     "output_type": "display_data"
    },
    {
     "data": {
      "text/plain": [
       "count    568630.0\n",
       "mean          0.5\n",
       "std           0.5\n",
       "min           0.0\n",
       "25%           0.0\n",
       "50%           0.5\n",
       "75%           1.0\n",
       "max           1.0\n",
       "Name: Class, dtype: float64"
      ]
     },
     "execution_count": 50,
     "metadata": {},
     "output_type": "execute_result"
    }
   ],
   "source": [
    "print('Valores de la columna LoanStatus:')\n",
    "credit_df_resampled['Class'].describe()"
   ]
  },
  {
   "attachments": {},
   "cell_type": "markdown",
   "metadata": {},
   "source": [
    "#### Outliers"
   ]
  },
  {
   "cell_type": "code",
   "execution_count": 75,
   "metadata": {},
   "outputs": [
    {
     "data": {
      "text/plain": [
       "<Figure size 640x480 with 0 Axes>"
      ]
     },
     "metadata": {},
     "output_type": "display_data"
    }
   ],
   "source": [
    "from matplotlib import pyplot as plt\n",
    "\n",
    "# drop column Class and Time\n",
    "credit_df_resampled_test = credit_df_resampled.drop(['Class', 'Time'], axis=1)\n",
    "\n",
    "for columna in credit_df_resampled_test:\n",
    "    plt.boxplot(credit_df_resampled[columna])\n",
    "    plt.title(columna)\n",
    "    plt.savefig(f'./outliers/plots/boxplot_{columna}.png')\n",
    "    plt.clf()"
   ]
  },
  {
   "cell_type": "code",
   "execution_count": 63,
   "metadata": {},
   "outputs": [],
   "source": [
    "import numpy as np\n",
    "\n",
    "for column in credit_df_resampled_test.columns:\n",
    "    Q1 = credit_df_resampled_test[column].quantile(0.25)\n",
    "    Q3 = credit_df_resampled_test[column].quantile(0.75)\n",
    "    IQR = Q3 - Q1\n",
    "    outliers = credit_df_resampled_test[(credit_df_resampled_test[column] < Q1 - 1.5*IQR) | (credit_df_resampled_test[column] > Q3 + 1.5*IQR)]    \n",
    "    if len(outliers) > 0:\n",
    "        txt_to_file = \"--------------------------------------------------\" + \"\\n\"\n",
    "        txt_to_file += \"Columna: \" + column + \"\\n\"\n",
    "        txt_to_file += \"Outliers: \" + str(len(outliers)) + \"\\n\"\n",
    "        with open(\"./outliers/outliers_IQR.txt\", \"a\") as file:\n",
    "            file.write(txt_to_file)\n"
   ]
  },
  {
   "cell_type": "code",
   "execution_count": 64,
   "metadata": {},
   "outputs": [],
   "source": [
    "for column in credit_df_resampled_test.columns:\n",
    "    media = np.mean(credit_df_resampled_test[column])\n",
    "    desviacion_estandar = np.std(credit_df_resampled_test[column])\n",
    "    umbral = 3 * desviacion_estandar\n",
    "    outliers = credit_df_resampled_test[abs(credit_df_resampled_test[column] - media) > umbral]\n",
    "    if len(outliers) > 0:\n",
    "        str = f\"Columna {column}: {len(outliers)} outliers\" + \"\\n\"\n",
    "        with open(\"./outliers/outliers_3desviacion_estandar.txt\", \"a\") as file:\n",
    "            file.write(str)\n",
    "        # print(f\"Columna {column}: {len(outliers)} outliers\")\n",
    "        # print(f\"Media: {media}\")\n",
    "        # print(f\"Desviación estándar: {desviacion_estandar}\")\n",
    "        # print(f\"Umbral para outliers: {umbral}\")\n",
    "        # print(f\"Filas con  outliers:\\n{outliers[column]}\")"
   ]
  },
  {
   "cell_type": "code",
   "execution_count": null,
   "metadata": {},
   "outputs": [],
   "source": [
    "fig, axs = plt.subplots(6, 5, figsize=(20, 20))\n",
    "axs = axs.flatten()\n",
    "for i, col in enumerate(credit_df_resampled_test.columns):\n",
    "    axs[i].hist(credit_df_resampled_test[col], bins=29, orientation='vertical', alpha=0.5)\n",
    "    axs[i].set_ylabel(col)\n",
    "    axs[i].set_xlabel('Frequency')\n",
    "plt.tight_layout()\n",
    "plt.savefig('./outliers/freq_histogram.png')"
   ]
  },
  {
   "cell_type": "code",
   "execution_count": 98,
   "metadata": {},
   "outputs": [
    {
     "data": {
      "image/png": "[encoded data removed]",
      "text/plain": [
       "<Figure size 1000x1000 with 2 Axes>"
      ]
     },
     "metadata": {},
     "output_type": "display_data"
    }
   ],
   "source": [
    "import seaborn as sns\n",
    "\n",
    "data_corr = credit_df_resampled.corr()\n",
    "\n",
    "plt.figure(figsize=(10,10))\n",
    "ax = sns.heatmap(\n",
    "    data_corr,\n",
    "    vmin=-1, vmax=1, center=0,\n",
    "    cmap=sns.diverging_palette(20, 220, n=200),\n",
    "    square=True\n",
    ")\n",
    "\n",
    "ax.set_xticklabels(\n",
    "    ax.get_xticklabels(),\n",
    "    rotation=45,\n",
    "    horizontalalignment='right'\n",
    ");\n",
    "\n",
    "plt.savefig('./correlation_matrix.png')"
   ]
  },
  {
   "cell_type": "code",
   "execution_count": 99,
   "metadata": {},
   "outputs": [
    {
     "data": {
      "text/html": [
       "<pre style=\"white-space:pre;overflow-x:auto;line-height:normal;font-family:Menlo,'DejaVu Sans Mono',consolas,'Courier New',monospace\">V2 V1 <span style=\"color: #008080; text-decoration-color: #008080; font-weight: bold\">-0.8134411305584265</span>\n",
       "</pre>\n"
      ],
      "text/plain": [
       "V2 V1 \u001b[1;36m-0.8134411305584265\u001b[0m\n"
      ]
     },
     "metadata": {},
     "output_type": "display_data"
    },
    {
     "data": {
      "text/html": [
       "<pre style=\"white-space:pre;overflow-x:auto;line-height:normal;font-family:Menlo,'DejaVu Sans Mono',consolas,'Courier New',monospace\">V3 V1 <span style=\"color: #008080; text-decoration-color: #008080; font-weight: bold\">0.886639549368773</span>\n",
       "</pre>\n"
      ],
      "text/plain": [
       "V3 V1 \u001b[1;36m0.886639549368773\u001b[0m\n"
      ]
     },
     "metadata": {},
     "output_type": "display_data"
    },
    {
     "data": {
      "text/html": [
       "<pre style=\"white-space:pre;overflow-x:auto;line-height:normal;font-family:Menlo,'DejaVu Sans Mono',consolas,'Courier New',monospace\">V3 V2 <span style=\"color: #008080; text-decoration-color: #008080; font-weight: bold\">-0.8633758634499036</span>\n",
       "</pre>\n"
      ],
      "text/plain": [
       "V3 V2 \u001b[1;36m-0.8633758634499036\u001b[0m\n"
      ]
     },
     "metadata": {},
     "output_type": "display_data"
    },
    {
     "data": {
      "text/html": [
       "<pre style=\"white-space:pre;overflow-x:auto;line-height:normal;font-family:Menlo,'DejaVu Sans Mono',consolas,'Courier New',monospace\">V4 V3 <span style=\"color: #008080; text-decoration-color: #008080; font-weight: bold\">-0.7792748302553414</span>\n",
       "</pre>\n"
      ],
      "text/plain": [
       "V4 V3 \u001b[1;36m-0.7792748302553414\u001b[0m\n"
      ]
     },
     "metadata": {},
     "output_type": "display_data"
    },
    {
     "data": {
      "text/html": [
       "<pre style=\"white-space:pre;overflow-x:auto;line-height:normal;font-family:Menlo,'DejaVu Sans Mono',consolas,'Courier New',monospace\">V5 V1 <span style=\"color: #008080; text-decoration-color: #008080; font-weight: bold\">0.8741076704974353</span>\n",
       "</pre>\n"
      ],
      "text/plain": [
       "V5 V1 \u001b[1;36m0.8741076704974353\u001b[0m\n"
      ]
     },
     "metadata": {},
     "output_type": "display_data"
    },
    {
     "data": {
      "text/html": [
       "<pre style=\"white-space:pre;overflow-x:auto;line-height:normal;font-family:Menlo,'DejaVu Sans Mono',consolas,'Courier New',monospace\">V5 V2 <span style=\"color: #008080; text-decoration-color: #008080; font-weight: bold\">-0.8028704744724056</span>\n",
       "</pre>\n"
      ],
      "text/plain": [
       "V5 V2 \u001b[1;36m-0.8028704744724056\u001b[0m\n"
      ]
     },
     "metadata": {},
     "output_type": "display_data"
    },
    {
     "data": {
      "text/html": [
       "<pre style=\"white-space:pre;overflow-x:auto;line-height:normal;font-family:Menlo,'DejaVu Sans Mono',consolas,'Courier New',monospace\">V5 V3 <span style=\"color: #008080; text-decoration-color: #008080; font-weight: bold\">0.8624781824658169</span>\n",
       "</pre>\n"
      ],
      "text/plain": [
       "V5 V3 \u001b[1;36m0.8624781824658169\u001b[0m\n"
      ]
     },
     "metadata": {},
     "output_type": "display_data"
    },
    {
     "data": {
      "text/html": [
       "<pre style=\"white-space:pre;overflow-x:auto;line-height:normal;font-family:Menlo,'DejaVu Sans Mono',consolas,'Courier New',monospace\">V7 V1 <span style=\"color: #008080; text-decoration-color: #008080; font-weight: bold\">0.8864715968558373</span>\n",
       "</pre>\n"
      ],
      "text/plain": [
       "V7 V1 \u001b[1;36m0.8864715968558373\u001b[0m\n"
      ]
     },
     "metadata": {},
     "output_type": "display_data"
    },
    {
     "data": {
      "text/html": [
       "<pre style=\"white-space:pre;overflow-x:auto;line-height:normal;font-family:Menlo,'DejaVu Sans Mono',consolas,'Courier New',monospace\">V7 V2 <span style=\"color: #008080; text-decoration-color: #008080; font-weight: bold\">-0.8580543043727</span>\n",
       "</pre>\n"
      ],
      "text/plain": [
       "V7 V2 \u001b[1;36m-0.8580543043727\u001b[0m\n"
      ]
     },
     "metadata": {},
     "output_type": "display_data"
    },
    {
     "data": {
      "text/html": [
       "<pre style=\"white-space:pre;overflow-x:auto;line-height:normal;font-family:Menlo,'DejaVu Sans Mono',consolas,'Courier New',monospace\">V7 V3 <span style=\"color: #008080; text-decoration-color: #008080; font-weight: bold\">0.8917953243839568</span>\n",
       "</pre>\n"
      ],
      "text/plain": [
       "V7 V3 \u001b[1;36m0.8917953243839568\u001b[0m\n"
      ]
     },
     "metadata": {},
     "output_type": "display_data"
    },
    {
     "data": {
      "text/html": [
       "<pre style=\"white-space:pre;overflow-x:auto;line-height:normal;font-family:Menlo,'DejaVu Sans Mono',consolas,'Courier New',monospace\">V7 V5 <span style=\"color: #008080; text-decoration-color: #008080; font-weight: bold\">0.8468794628408512</span>\n",
       "</pre>\n"
      ],
      "text/plain": [
       "V7 V5 \u001b[1;36m0.8468794628408512\u001b[0m\n"
      ]
     },
     "metadata": {},
     "output_type": "display_data"
    },
    {
     "data": {
      "text/html": [
       "<pre style=\"white-space:pre;overflow-x:auto;line-height:normal;font-family:Menlo,'DejaVu Sans Mono',consolas,'Courier New',monospace\">V9 V3 <span style=\"color: #008080; text-decoration-color: #008080; font-weight: bold\">0.7628508152182933</span>\n",
       "</pre>\n"
      ],
      "text/plain": [
       "V9 V3 \u001b[1;36m0.7628508152182933\u001b[0m\n"
      ]
     },
     "metadata": {},
     "output_type": "display_data"
    },
    {
     "data": {
      "text/html": [
       "<pre style=\"white-space:pre;overflow-x:auto;line-height:normal;font-family:Menlo,'DejaVu Sans Mono',consolas,'Courier New',monospace\">V9 V4 <span style=\"color: #008080; text-decoration-color: #008080; font-weight: bold\">-0.7962331947921516</span>\n",
       "</pre>\n"
      ],
      "text/plain": [
       "V9 V4 \u001b[1;36m-0.7962331947921516\u001b[0m\n"
      ]
     },
     "metadata": {},
     "output_type": "display_data"
    },
    {
     "data": {
      "text/html": [
       "<pre style=\"white-space:pre;overflow-x:auto;line-height:normal;font-family:Menlo,'DejaVu Sans Mono',consolas,'Courier New',monospace\">V9 V7 <span style=\"color: #008080; text-decoration-color: #008080; font-weight: bold\">0.7661551541569582</span>\n",
       "</pre>\n"
      ],
      "text/plain": [
       "V9 V7 \u001b[1;36m0.7661551541569582\u001b[0m\n"
      ]
     },
     "metadata": {},
     "output_type": "display_data"
    },
    {
     "data": {
      "text/html": [
       "<pre style=\"white-space:pre;overflow-x:auto;line-height:normal;font-family:Menlo,'DejaVu Sans Mono',consolas,'Courier New',monospace\">V10 V2 <span style=\"color: #008080; text-decoration-color: #008080; font-weight: bold\">-0.7698146049482353</span>\n",
       "</pre>\n"
      ],
      "text/plain": [
       "V10 V2 \u001b[1;36m-0.7698146049482353\u001b[0m\n"
      ]
     },
     "metadata": {},
     "output_type": "display_data"
    },
    {
     "data": {
      "text/html": [
       "<pre style=\"white-space:pre;overflow-x:auto;line-height:normal;font-family:Menlo,'DejaVu Sans Mono',consolas,'Courier New',monospace\">V10 V3 <span style=\"color: #008080; text-decoration-color: #008080; font-weight: bold\">0.8549156080716929</span>\n",
       "</pre>\n"
      ],
      "text/plain": [
       "V10 V3 \u001b[1;36m0.8549156080716929\u001b[0m\n"
      ]
     },
     "metadata": {},
     "output_type": "display_data"
    },
    {
     "data": {
      "text/html": [
       "<pre style=\"white-space:pre;overflow-x:auto;line-height:normal;font-family:Menlo,'DejaVu Sans Mono',consolas,'Courier New',monospace\">V10 V4 <span style=\"color: #008080; text-decoration-color: #008080; font-weight: bold\">-0.8190194378899567</span>\n",
       "</pre>\n"
      ],
      "text/plain": [
       "V10 V4 \u001b[1;36m-0.8190194378899567\u001b[0m\n"
      ]
     },
     "metadata": {},
     "output_type": "display_data"
    },
    {
     "data": {
      "text/html": [
       "<pre style=\"white-space:pre;overflow-x:auto;line-height:normal;font-family:Menlo,'DejaVu Sans Mono',consolas,'Courier New',monospace\">V10 V5 <span style=\"color: #008080; text-decoration-color: #008080; font-weight: bold\">0.7570501373017333</span>\n",
       "</pre>\n"
      ],
      "text/plain": [
       "V10 V5 \u001b[1;36m0.7570501373017333\u001b[0m\n"
      ]
     },
     "metadata": {},
     "output_type": "display_data"
    },
    {
     "data": {
      "text/html": [
       "<pre style=\"white-space:pre;overflow-x:auto;line-height:normal;font-family:Menlo,'DejaVu Sans Mono',consolas,'Courier New',monospace\">V10 V7 <span style=\"color: #008080; text-decoration-color: #008080; font-weight: bold\">0.8691985590360575</span>\n",
       "</pre>\n"
      ],
      "text/plain": [
       "V10 V7 \u001b[1;36m0.8691985590360575\u001b[0m\n"
      ]
     },
     "metadata": {},
     "output_type": "display_data"
    },
    {
     "data": {
      "text/html": [
       "<pre style=\"white-space:pre;overflow-x:auto;line-height:normal;font-family:Menlo,'DejaVu Sans Mono',consolas,'Courier New',monospace\">V10 V9 <span style=\"color: #008080; text-decoration-color: #008080; font-weight: bold\">0.8563521040018406</span>\n",
       "</pre>\n"
      ],
      "text/plain": [
       "V10 V9 \u001b[1;36m0.8563521040018406\u001b[0m\n"
      ]
     },
     "metadata": {},
     "output_type": "display_data"
    },
    {
     "data": {
      "text/html": [
       "<pre style=\"white-space:pre;overflow-x:auto;line-height:normal;font-family:Menlo,'DejaVu Sans Mono',consolas,'Courier New',monospace\">V11 V4 <span style=\"color: #008080; text-decoration-color: #008080; font-weight: bold\">0.8190208706597599</span>\n",
       "</pre>\n"
      ],
      "text/plain": [
       "V11 V4 \u001b[1;36m0.8190208706597599\u001b[0m\n"
      ]
     },
     "metadata": {},
     "output_type": "display_data"
    },
    {
     "data": {
      "text/html": [
       "<pre style=\"white-space:pre;overflow-x:auto;line-height:normal;font-family:Menlo,'DejaVu Sans Mono',consolas,'Courier New',monospace\">V11 V10 <span style=\"color: #008080; text-decoration-color: #008080; font-weight: bold\">-0.8166236038502246</span>\n",
       "</pre>\n"
      ],
      "text/plain": [
       "V11 V10 \u001b[1;36m-0.8166236038502246\u001b[0m\n"
      ]
     },
     "metadata": {},
     "output_type": "display_data"
    },
    {
     "data": {
      "text/html": [
       "<pre style=\"white-space:pre;overflow-x:auto;line-height:normal;font-family:Menlo,'DejaVu Sans Mono',consolas,'Courier New',monospace\">V12 V3 <span style=\"color: #008080; text-decoration-color: #008080; font-weight: bold\">0.7655623240293458</span>\n",
       "</pre>\n"
      ],
      "text/plain": [
       "V12 V3 \u001b[1;36m0.7655623240293458\u001b[0m\n"
      ]
     },
     "metadata": {},
     "output_type": "display_data"
    },
    {
     "data": {
      "text/html": [
       "<pre style=\"white-space:pre;overflow-x:auto;line-height:normal;font-family:Menlo,'DejaVu Sans Mono',consolas,'Courier New',monospace\">V12 V4 <span style=\"color: #008080; text-decoration-color: #008080; font-weight: bold\">-0.8549724119863407</span>\n",
       "</pre>\n"
      ],
      "text/plain": [
       "V12 V4 \u001b[1;36m-0.8549724119863407\u001b[0m\n"
      ]
     },
     "metadata": {},
     "output_type": "display_data"
    },
    {
     "data": {
      "text/html": [
       "<pre style=\"white-space:pre;overflow-x:auto;line-height:normal;font-family:Menlo,'DejaVu Sans Mono',consolas,'Courier New',monospace\">V12 V9 <span style=\"color: #008080; text-decoration-color: #008080; font-weight: bold\">0.7812807506025654</span>\n",
       "</pre>\n"
      ],
      "text/plain": [
       "V12 V9 \u001b[1;36m0.7812807506025654\u001b[0m\n"
      ]
     },
     "metadata": {},
     "output_type": "display_data"
    },
    {
     "data": {
      "text/html": [
       "<pre style=\"white-space:pre;overflow-x:auto;line-height:normal;font-family:Menlo,'DejaVu Sans Mono',consolas,'Courier New',monospace\">V12 V10 <span style=\"color: #008080; text-decoration-color: #008080; font-weight: bold\">0.8915353883540065</span>\n",
       "</pre>\n"
      ],
      "text/plain": [
       "V12 V10 \u001b[1;36m0.8915353883540065\u001b[0m\n"
      ]
     },
     "metadata": {},
     "output_type": "display_data"
    },
    {
     "data": {
      "text/html": [
       "<pre style=\"white-space:pre;overflow-x:auto;line-height:normal;font-family:Menlo,'DejaVu Sans Mono',consolas,'Courier New',monospace\">V12 V11 <span style=\"color: #008080; text-decoration-color: #008080; font-weight: bold\">-0.9065661341077869</span>\n",
       "</pre>\n"
      ],
      "text/plain": [
       "V12 V11 \u001b[1;36m-0.9065661341077869\u001b[0m\n"
      ]
     },
     "metadata": {},
     "output_type": "display_data"
    },
    {
     "data": {
      "text/html": [
       "<pre style=\"white-space:pre;overflow-x:auto;line-height:normal;font-family:Menlo,'DejaVu Sans Mono',consolas,'Courier New',monospace\">V14 V4 <span style=\"color: #008080; text-decoration-color: #008080; font-weight: bold\">-0.8152126496235378</span>\n",
       "</pre>\n"
      ],
      "text/plain": [
       "V14 V4 \u001b[1;36m-0.8152126496235378\u001b[0m\n"
      ]
     },
     "metadata": {},
     "output_type": "display_data"
    },
    {
     "data": {
      "text/html": [
       "<pre style=\"white-space:pre;overflow-x:auto;line-height:normal;font-family:Menlo,'DejaVu Sans Mono',consolas,'Courier New',monospace\">V14 V10 <span style=\"color: #008080; text-decoration-color: #008080; font-weight: bold\">0.7697047751035196</span>\n",
       "</pre>\n"
      ],
      "text/plain": [
       "V14 V10 \u001b[1;36m0.7697047751035196\u001b[0m\n"
      ]
     },
     "metadata": {},
     "output_type": "display_data"
    },
    {
     "data": {
      "text/html": [
       "<pre style=\"white-space:pre;overflow-x:auto;line-height:normal;font-family:Menlo,'DejaVu Sans Mono',consolas,'Courier New',monospace\">V14 V11 <span style=\"color: #008080; text-decoration-color: #008080; font-weight: bold\">-0.8949913677963571</span>\n",
       "</pre>\n"
      ],
      "text/plain": [
       "V14 V11 \u001b[1;36m-0.8949913677963571\u001b[0m\n"
      ]
     },
     "metadata": {},
     "output_type": "display_data"
    },
    {
     "data": {
      "text/html": [
       "<pre style=\"white-space:pre;overflow-x:auto;line-height:normal;font-family:Menlo,'DejaVu Sans Mono',consolas,'Courier New',monospace\">V14 V12 <span style=\"color: #008080; text-decoration-color: #008080; font-weight: bold\">0.8861262266682038</span>\n",
       "</pre>\n"
      ],
      "text/plain": [
       "V14 V12 \u001b[1;36m0.8861262266682038\u001b[0m\n"
      ]
     },
     "metadata": {},
     "output_type": "display_data"
    },
    {
     "data": {
      "text/html": [
       "<pre style=\"white-space:pre;overflow-x:auto;line-height:normal;font-family:Menlo,'DejaVu Sans Mono',consolas,'Courier New',monospace\">V16 V4 <span style=\"color: #008080; text-decoration-color: #008080; font-weight: bold\">-0.7608921341404353</span>\n",
       "</pre>\n"
      ],
      "text/plain": [
       "V16 V4 \u001b[1;36m-0.7608921341404353\u001b[0m\n"
      ]
     },
     "metadata": {},
     "output_type": "display_data"
    },
    {
     "data": {
      "text/html": [
       "<pre style=\"white-space:pre;overflow-x:auto;line-height:normal;font-family:Menlo,'DejaVu Sans Mono',consolas,'Courier New',monospace\">V16 V7 <span style=\"color: #008080; text-decoration-color: #008080; font-weight: bold\">0.7649843392682657</span>\n",
       "</pre>\n"
      ],
      "text/plain": [
       "V16 V7 \u001b[1;36m0.7649843392682657\u001b[0m\n"
      ]
     },
     "metadata": {},
     "output_type": "display_data"
    },
    {
     "data": {
      "text/html": [
       "<pre style=\"white-space:pre;overflow-x:auto;line-height:normal;font-family:Menlo,'DejaVu Sans Mono',consolas,'Courier New',monospace\">V16 V9 <span style=\"color: #008080; text-decoration-color: #008080; font-weight: bold\">0.7563762854191628</span>\n",
       "</pre>\n"
      ],
      "text/plain": [
       "V16 V9 \u001b[1;36m0.7563762854191628\u001b[0m\n"
      ]
     },
     "metadata": {},
     "output_type": "display_data"
    },
    {
     "data": {
      "text/html": [
       "<pre style=\"white-space:pre;overflow-x:auto;line-height:normal;font-family:Menlo,'DejaVu Sans Mono',consolas,'Courier New',monospace\">V16 V10 <span style=\"color: #008080; text-decoration-color: #008080; font-weight: bold\">0.8681752313258415</span>\n",
       "</pre>\n"
      ],
      "text/plain": [
       "V16 V10 \u001b[1;36m0.8681752313258415\u001b[0m\n"
      ]
     },
     "metadata": {},
     "output_type": "display_data"
    },
    {
     "data": {
      "text/html": [
       "<pre style=\"white-space:pre;overflow-x:auto;line-height:normal;font-family:Menlo,'DejaVu Sans Mono',consolas,'Courier New',monospace\">V16 V11 <span style=\"color: #008080; text-decoration-color: #008080; font-weight: bold\">-0.8236849109003611</span>\n",
       "</pre>\n"
      ],
      "text/plain": [
       "V16 V11 \u001b[1;36m-0.8236849109003611\u001b[0m\n"
      ]
     },
     "metadata": {},
     "output_type": "display_data"
    },
    {
     "data": {
      "text/html": [
       "<pre style=\"white-space:pre;overflow-x:auto;line-height:normal;font-family:Menlo,'DejaVu Sans Mono',consolas,'Courier New',monospace\">V16 V12 <span style=\"color: #008080; text-decoration-color: #008080; font-weight: bold\">0.9056954991970623</span>\n",
       "</pre>\n"
      ],
      "text/plain": [
       "V16 V12 \u001b[1;36m0.9056954991970623\u001b[0m\n"
      ]
     },
     "metadata": {},
     "output_type": "display_data"
    },
    {
     "data": {
      "text/html": [
       "<pre style=\"white-space:pre;overflow-x:auto;line-height:normal;font-family:Menlo,'DejaVu Sans Mono',consolas,'Courier New',monospace\">V16 V14 <span style=\"color: #008080; text-decoration-color: #008080; font-weight: bold\">0.8001916327868929</span>\n",
       "</pre>\n"
      ],
      "text/plain": [
       "V16 V14 \u001b[1;36m0.8001916327868929\u001b[0m\n"
      ]
     },
     "metadata": {},
     "output_type": "display_data"
    },
    {
     "data": {
      "text/html": [
       "<pre style=\"white-space:pre;overflow-x:auto;line-height:normal;font-family:Menlo,'DejaVu Sans Mono',consolas,'Courier New',monospace\">V17 V3 <span style=\"color: #008080; text-decoration-color: #008080; font-weight: bold\">0.7502683572778489</span>\n",
       "</pre>\n"
      ],
      "text/plain": [
       "V17 V3 \u001b[1;36m0.7502683572778489\u001b[0m\n"
      ]
     },
     "metadata": {},
     "output_type": "display_data"
    },
    {
     "data": {
      "text/html": [
       "<pre style=\"white-space:pre;overflow-x:auto;line-height:normal;font-family:Menlo,'DejaVu Sans Mono',consolas,'Courier New',monospace\">V17 V5 <span style=\"color: #008080; text-decoration-color: #008080; font-weight: bold\">0.7515019353971466</span>\n",
       "</pre>\n"
      ],
      "text/plain": [
       "V17 V5 \u001b[1;36m0.7515019353971466\u001b[0m\n"
      ]
     },
     "metadata": {},
     "output_type": "display_data"
    },
    {
     "data": {
      "text/html": [
       "<pre style=\"white-space:pre;overflow-x:auto;line-height:normal;font-family:Menlo,'DejaVu Sans Mono',consolas,'Courier New',monospace\">V17 V7 <span style=\"color: #008080; text-decoration-color: #008080; font-weight: bold\">0.7824632196649673</span>\n",
       "</pre>\n"
      ],
      "text/plain": [
       "V17 V7 \u001b[1;36m0.7824632196649673\u001b[0m\n"
      ]
     },
     "metadata": {},
     "output_type": "display_data"
    },
    {
     "data": {
      "text/html": [
       "<pre style=\"white-space:pre;overflow-x:auto;line-height:normal;font-family:Menlo,'DejaVu Sans Mono',consolas,'Courier New',monospace\">V17 V9 <span style=\"color: #008080; text-decoration-color: #008080; font-weight: bold\">0.7838513636517342</span>\n",
       "</pre>\n"
      ],
      "text/plain": [
       "V17 V9 \u001b[1;36m0.7838513636517342\u001b[0m\n"
      ]
     },
     "metadata": {},
     "output_type": "display_data"
    },
    {
     "data": {
      "text/html": [
       "<pre style=\"white-space:pre;overflow-x:auto;line-height:normal;font-family:Menlo,'DejaVu Sans Mono',consolas,'Courier New',monospace\">V17 V10 <span style=\"color: #008080; text-decoration-color: #008080; font-weight: bold\">0.8669330618336578</span>\n",
       "</pre>\n"
      ],
      "text/plain": [
       "V17 V10 \u001b[1;36m0.8669330618336578\u001b[0m\n"
      ]
     },
     "metadata": {},
     "output_type": "display_data"
    },
    {
     "data": {
      "text/html": [
       "<pre style=\"white-space:pre;overflow-x:auto;line-height:normal;font-family:Menlo,'DejaVu Sans Mono',consolas,'Courier New',monospace\">V17 V11 <span style=\"color: #008080; text-decoration-color: #008080; font-weight: bold\">-0.7893042422013891</span>\n",
       "</pre>\n"
      ],
      "text/plain": [
       "V17 V11 \u001b[1;36m-0.7893042422013891\u001b[0m\n"
      ]
     },
     "metadata": {},
     "output_type": "display_data"
    },
    {
     "data": {
      "text/html": [
       "<pre style=\"white-space:pre;overflow-x:auto;line-height:normal;font-family:Menlo,'DejaVu Sans Mono',consolas,'Courier New',monospace\">V17 V12 <span style=\"color: #008080; text-decoration-color: #008080; font-weight: bold\">0.8813298872699891</span>\n",
       "</pre>\n"
      ],
      "text/plain": [
       "V17 V12 \u001b[1;36m0.8813298872699891\u001b[0m\n"
      ]
     },
     "metadata": {},
     "output_type": "display_data"
    },
    {
     "data": {
      "text/html": [
       "<pre style=\"white-space:pre;overflow-x:auto;line-height:normal;font-family:Menlo,'DejaVu Sans Mono',consolas,'Courier New',monospace\">V17 V14 <span style=\"color: #008080; text-decoration-color: #008080; font-weight: bold\">0.7536053135089127</span>\n",
       "</pre>\n"
      ],
      "text/plain": [
       "V17 V14 \u001b[1;36m0.7536053135089127\u001b[0m\n"
      ]
     },
     "metadata": {},
     "output_type": "display_data"
    },
    {
     "data": {
      "text/html": [
       "<pre style=\"white-space:pre;overflow-x:auto;line-height:normal;font-family:Menlo,'DejaVu Sans Mono',consolas,'Courier New',monospace\">V17 V16 <span style=\"color: #008080; text-decoration-color: #008080; font-weight: bold\">0.9541467364020152</span>\n",
       "</pre>\n"
      ],
      "text/plain": [
       "V17 V16 \u001b[1;36m0.9541467364020152\u001b[0m\n"
      ]
     },
     "metadata": {},
     "output_type": "display_data"
    },
    {
     "data": {
      "text/html": [
       "<pre style=\"white-space:pre;overflow-x:auto;line-height:normal;font-family:Menlo,'DejaVu Sans Mono',consolas,'Courier New',monospace\">V18 V5 <span style=\"color: #008080; text-decoration-color: #008080; font-weight: bold\">0.7543663458315149</span>\n",
       "</pre>\n"
      ],
      "text/plain": [
       "V18 V5 \u001b[1;36m0.7543663458315149\u001b[0m\n"
      ]
     },
     "metadata": {},
     "output_type": "display_data"
    },
    {
     "data": {
      "text/html": [
       "<pre style=\"white-space:pre;overflow-x:auto;line-height:normal;font-family:Menlo,'DejaVu Sans Mono',consolas,'Courier New',monospace\">V18 V7 <span style=\"color: #008080; text-decoration-color: #008080; font-weight: bold\">0.7773966853438429</span>\n",
       "</pre>\n"
      ],
      "text/plain": [
       "V18 V7 \u001b[1;36m0.7773966853438429\u001b[0m\n"
      ]
     },
     "metadata": {},
     "output_type": "display_data"
    },
    {
     "data": {
      "text/html": [
       "<pre style=\"white-space:pre;overflow-x:auto;line-height:normal;font-family:Menlo,'DejaVu Sans Mono',consolas,'Courier New',monospace\">V18 V10 <span style=\"color: #008080; text-decoration-color: #008080; font-weight: bold\">0.8167234751978832</span>\n",
       "</pre>\n"
      ],
      "text/plain": [
       "V18 V10 \u001b[1;36m0.8167234751978832\u001b[0m\n"
      ]
     },
     "metadata": {},
     "output_type": "display_data"
    },
    {
     "data": {
      "text/html": [
       "<pre style=\"white-space:pre;overflow-x:auto;line-height:normal;font-family:Menlo,'DejaVu Sans Mono',consolas,'Courier New',monospace\">V18 V12 <span style=\"color: #008080; text-decoration-color: #008080; font-weight: bold\">0.8061158992576205</span>\n",
       "</pre>\n"
      ],
      "text/plain": [
       "V18 V12 \u001b[1;36m0.8061158992576205\u001b[0m\n"
      ]
     },
     "metadata": {},
     "output_type": "display_data"
    },
    {
     "data": {
      "text/html": [
       "<pre style=\"white-space:pre;overflow-x:auto;line-height:normal;font-family:Menlo,'DejaVu Sans Mono',consolas,'Courier New',monospace\">V18 V16 <span style=\"color: #008080; text-decoration-color: #008080; font-weight: bold\">0.9079466992333602</span>\n",
       "</pre>\n"
      ],
      "text/plain": [
       "V18 V16 \u001b[1;36m0.9079466992333602\u001b[0m\n"
      ]
     },
     "metadata": {},
     "output_type": "display_data"
    },
    {
     "data": {
      "text/html": [
       "<pre style=\"white-space:pre;overflow-x:auto;line-height:normal;font-family:Menlo,'DejaVu Sans Mono',consolas,'Courier New',monospace\">V18 V17 <span style=\"color: #008080; text-decoration-color: #008080; font-weight: bold\">0.9408661422832246</span>\n",
       "</pre>\n"
      ],
      "text/plain": [
       "V18 V17 \u001b[1;36m0.9408661422832246\u001b[0m\n"
      ]
     },
     "metadata": {},
     "output_type": "display_data"
    },
    {
     "data": {
      "text/html": [
       "<pre style=\"white-space:pre;overflow-x:auto;line-height:normal;font-family:Menlo,'DejaVu Sans Mono',consolas,'Courier New',monospace\">V22 V21 <span style=\"color: #008080; text-decoration-color: #008080; font-weight: bold\">-0.7748145782254142</span>\n",
       "</pre>\n"
      ],
      "text/plain": [
       "V22 V21 \u001b[1;36m-0.7748145782254142\u001b[0m\n"
      ]
     },
     "metadata": {},
     "output_type": "display_data"
    },
    {
     "data": {
      "text/html": [
       "<pre style=\"white-space:pre;overflow-x:auto;line-height:normal;font-family:Menlo,'DejaVu Sans Mono',consolas,'Courier New',monospace\">Class V14 <span style=\"color: #008080; text-decoration-color: #008080; font-weight: bold\">-0.7882445108732068</span>\n",
       "</pre>\n"
      ],
      "text/plain": [
       "Class V14 \u001b[1;36m-0.7882445108732068\u001b[0m\n"
      ]
     },
     "metadata": {},
     "output_type": "display_data"
    }
   ],
   "source": [
    "for i in range(len(credit_df_resampled.columns)):\n",
    "    for j in range(i):\n",
    "        if abs(data_corr.iloc[i, j]) > 0.75:\n",
    "            print(data_corr.columns[i], data_corr.columns[j], data_corr.iloc[i, j])"
   ]
  },
  {
   "cell_type": "code",
   "execution_count": null,
   "metadata": {},
   "outputs": [],
   "source": []
  }
 ],
 "metadata": {
  "kernelspec": {
   "display_name": "Python 3",
   "language": "python",
   "name": "python3"
  },
  "language_info": {
   "codemirror_mode": {
    "name": "ipython",
    "version": 3
   },
   "file_extension": ".py",
   "mimetype": "text/x-python",
   "name": "python",
   "nbconvert_exporter": "python",
   "pygments_lexer": "ipython3",
   "version": "3.9.7"
  },
  "orig_nbformat": 4
 },
 "nbformat": 4,
 "nbformat_minor": 2
}

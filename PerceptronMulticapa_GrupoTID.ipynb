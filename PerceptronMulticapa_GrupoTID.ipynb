{
 "cells": [
  {
   "attachments": {},
   "cell_type": "markdown",
   "metadata": {},
   "source": [
    "#### First install requirements from ./requirements.txt"
   ]
  },
  {
   "cell_type": "code",
   "execution_count": 2,
   "metadata": {},
   "outputs": [],
   "source": [
    "import numpy as np\n",
    "import matplotlib.pyplot as plt\n",
    "\n",
    "from sklearn.model_selection import train_test_split\n",
    "from sklearn.linear_model import Perceptron\n",
    "from sklearn.neural_network import MLPClassifier\n",
    "from sklearn.metrics import log_loss, accuracy_score, classification_report, confusion_matrix\n",
    "from sklearn.metrics import roc_curve\n",
    "from sklearn.metrics import roc_auc_score\n",
    "from imblearn.over_sampling import SMOTE\n",
    "\n",
    "import pandas as pd\n",
    "\n",
    "from datetime import datetime\n",
    "\n",
    "from rich import print\n",
    "from rich.console import Console\n",
    "from rich.traceback import install\n",
    "\n",
    "install(show_locals=True)\n",
    "console = Console()"
   ]
  },
  {
   "attachments": {},
   "cell_type": "markdown",
   "metadata": {},
   "source": [
    "#### Carga de datos\n",
    "\n",
    "Primero cargamos los datos de la base de datos de transacciones fraudulentas, que se encuentra en el archivo `./data/creditcard.csv`.` Podemos ver que que lo componen 31 atributos (columnas) y 284.807 objetos (filas)."
   ]
  },
  {
   "cell_type": "code",
   "execution_count": 2,
   "metadata": {},
   "outputs": [
    {
     "data": {
      "text/html": [
       "<pre style=\"white-space:pre;overflow-x:auto;line-height:normal;font-family:Menlo,'DejaVu Sans Mono',consolas,'Courier New',monospace\">n_samples: <span style=\"color: #008080; text-decoration-color: #008080; font-weight: bold\">284807</span>, n_features: <span style=\"color: #008080; text-decoration-color: #008080; font-weight: bold\">31</span>\n",
       "</pre>\n"
      ],
      "text/plain": [
       "n_samples: \u001b[1;36m284807\u001b[0m, n_features: \u001b[1;36m31\u001b[0m\n"
      ]
     },
     "metadata": {},
     "output_type": "display_data"
    }
   ],
   "source": [
    "cc_df = pd.read_csv('./data/creditcard.csv')\n",
    "\n",
    "(n_samples, n_features) = cc_df.shape\n",
    "\n",
    "print(f\"n_samples: {n_samples}, n_features: {n_features}\")"
   ]
  },
  {
   "attachments": {},
   "cell_type": "markdown",
   "metadata": {},
   "source": [
    "#### Preprocesamiento"
   ]
  },
  {
   "attachments": {},
   "cell_type": "markdown",
   "metadata": {},
   "source": [
    "##### Balanceamiento\n",
    "\n",
    "En esta fase debido a que el atributo clase 'Class' esta extremadamente desbalanceada, para que los modelos sean consistentes con los resultados, balanceamos dicho atributo dando como resultado una nueva matriz de 568.630 objetos.\n",
    "En la tabla de resultados se pueden ver que efectivamente esta balanceada."
   ]
  },
  {
   "cell_type": "code",
   "execution_count": 3,
   "metadata": {},
   "outputs": [
    {
     "data": {
      "text/html": [
       "<pre style=\"white-space:pre;overflow-x:auto;line-height:normal;font-family:Menlo,'DejaVu Sans Mono',consolas,'Courier New',monospace\">Valores de la columna Class:\n",
       "</pre>\n"
      ],
      "text/plain": [
       "Valores de la columna Class:\n"
      ]
     },
     "metadata": {},
     "output_type": "display_data"
    },
    {
     "data": {
      "text/plain": [
       "count    568630.0\n",
       "mean          0.5\n",
       "std           0.5\n",
       "min           0.0\n",
       "25%           0.0\n",
       "50%           0.5\n",
       "75%           1.0\n",
       "max           1.0\n",
       "Name: Class, dtype: float64"
      ]
     },
     "execution_count": 3,
     "metadata": {},
     "output_type": "execute_result"
    }
   ],
   "source": [
    "FEATURES = cc_df.drop(['Class'], axis=1) \n",
    "TARGET = cc_df['Class']                  \n",
    "\n",
    "smote = SMOTE(random_state=42) \n",
    "X_sm, y_sm = smote.fit_resample(FEATURES, TARGET)\n",
    "\n",
    "cc_balanced = pd.concat([pd.DataFrame(X_sm), pd.DataFrame(y_sm)], axis=1)\n",
    "\n",
    "print('Valores de la columna Class:')\n",
    "cc_balanced['Class'].describe()"
   ]
  },
  {
   "attachments": {},
   "cell_type": "markdown",
   "metadata": {},
   "source": [
    "Miramos qué atributos podemos eliminar analizando la matriz de correlación. A partir de esa matriz, vemos que hay muchos atributos con elevada correlación, por lo que fijamos un umbral = 0.88 e imprimimos los atributos por encima de ese valor"
   ]
  },
  {
   "cell_type": "code",
   "execution_count": 4,
   "metadata": {},
   "outputs": [
    {
     "data": {
      "text/html": [
       "<pre style=\"white-space:pre;overflow-x:auto;line-height:normal;font-family:Menlo,'DejaVu Sans Mono',consolas,'Courier New',monospace\">V3 V1 <span style=\"color: #008080; text-decoration-color: #008080; font-weight: bold\">0.886639549368773</span>\n",
       "</pre>\n"
      ],
      "text/plain": [
       "V3 V1 \u001b[1;36m0.886639549368773\u001b[0m\n"
      ]
     },
     "metadata": {},
     "output_type": "display_data"
    },
    {
     "data": {
      "text/html": [
       "<pre style=\"white-space:pre;overflow-x:auto;line-height:normal;font-family:Menlo,'DejaVu Sans Mono',consolas,'Courier New',monospace\">V7 V1 <span style=\"color: #008080; text-decoration-color: #008080; font-weight: bold\">0.8864715968558373</span>\n",
       "</pre>\n"
      ],
      "text/plain": [
       "V7 V1 \u001b[1;36m0.8864715968558373\u001b[0m\n"
      ]
     },
     "metadata": {},
     "output_type": "display_data"
    },
    {
     "data": {
      "text/html": [
       "<pre style=\"white-space:pre;overflow-x:auto;line-height:normal;font-family:Menlo,'DejaVu Sans Mono',consolas,'Courier New',monospace\">V7 V3 <span style=\"color: #008080; text-decoration-color: #008080; font-weight: bold\">0.8917953243839568</span>\n",
       "</pre>\n"
      ],
      "text/plain": [
       "V7 V3 \u001b[1;36m0.8917953243839568\u001b[0m\n"
      ]
     },
     "metadata": {},
     "output_type": "display_data"
    },
    {
     "data": {
      "text/html": [
       "<pre style=\"white-space:pre;overflow-x:auto;line-height:normal;font-family:Menlo,'DejaVu Sans Mono',consolas,'Courier New',monospace\">V12 V10 <span style=\"color: #008080; text-decoration-color: #008080; font-weight: bold\">0.8915353883540065</span>\n",
       "</pre>\n"
      ],
      "text/plain": [
       "V12 V10 \u001b[1;36m0.8915353883540065\u001b[0m\n"
      ]
     },
     "metadata": {},
     "output_type": "display_data"
    },
    {
     "data": {
      "text/html": [
       "<pre style=\"white-space:pre;overflow-x:auto;line-height:normal;font-family:Menlo,'DejaVu Sans Mono',consolas,'Courier New',monospace\">V12 V11 <span style=\"color: #008080; text-decoration-color: #008080; font-weight: bold\">-0.9065661341077869</span>\n",
       "</pre>\n"
      ],
      "text/plain": [
       "V12 V11 \u001b[1;36m-0.9065661341077869\u001b[0m\n"
      ]
     },
     "metadata": {},
     "output_type": "display_data"
    },
    {
     "data": {
      "text/html": [
       "<pre style=\"white-space:pre;overflow-x:auto;line-height:normal;font-family:Menlo,'DejaVu Sans Mono',consolas,'Courier New',monospace\">V14 V11 <span style=\"color: #008080; text-decoration-color: #008080; font-weight: bold\">-0.8949913677963571</span>\n",
       "</pre>\n"
      ],
      "text/plain": [
       "V14 V11 \u001b[1;36m-0.8949913677963571\u001b[0m\n"
      ]
     },
     "metadata": {},
     "output_type": "display_data"
    },
    {
     "data": {
      "text/html": [
       "<pre style=\"white-space:pre;overflow-x:auto;line-height:normal;font-family:Menlo,'DejaVu Sans Mono',consolas,'Courier New',monospace\">V14 V12 <span style=\"color: #008080; text-decoration-color: #008080; font-weight: bold\">0.8861262266682038</span>\n",
       "</pre>\n"
      ],
      "text/plain": [
       "V14 V12 \u001b[1;36m0.8861262266682038\u001b[0m\n"
      ]
     },
     "metadata": {},
     "output_type": "display_data"
    },
    {
     "data": {
      "text/html": [
       "<pre style=\"white-space:pre;overflow-x:auto;line-height:normal;font-family:Menlo,'DejaVu Sans Mono',consolas,'Courier New',monospace\">V16 V12 <span style=\"color: #008080; text-decoration-color: #008080; font-weight: bold\">0.9056954991970623</span>\n",
       "</pre>\n"
      ],
      "text/plain": [
       "V16 V12 \u001b[1;36m0.9056954991970623\u001b[0m\n"
      ]
     },
     "metadata": {},
     "output_type": "display_data"
    },
    {
     "data": {
      "text/html": [
       "<pre style=\"white-space:pre;overflow-x:auto;line-height:normal;font-family:Menlo,'DejaVu Sans Mono',consolas,'Courier New',monospace\">V17 V12 <span style=\"color: #008080; text-decoration-color: #008080; font-weight: bold\">0.8813298872699891</span>\n",
       "</pre>\n"
      ],
      "text/plain": [
       "V17 V12 \u001b[1;36m0.8813298872699891\u001b[0m\n"
      ]
     },
     "metadata": {},
     "output_type": "display_data"
    },
    {
     "data": {
      "text/html": [
       "<pre style=\"white-space:pre;overflow-x:auto;line-height:normal;font-family:Menlo,'DejaVu Sans Mono',consolas,'Courier New',monospace\">V17 V16 <span style=\"color: #008080; text-decoration-color: #008080; font-weight: bold\">0.9541467364020152</span>\n",
       "</pre>\n"
      ],
      "text/plain": [
       "V17 V16 \u001b[1;36m0.9541467364020152\u001b[0m\n"
      ]
     },
     "metadata": {},
     "output_type": "display_data"
    },
    {
     "data": {
      "text/html": [
       "<pre style=\"white-space:pre;overflow-x:auto;line-height:normal;font-family:Menlo,'DejaVu Sans Mono',consolas,'Courier New',monospace\">V18 V16 <span style=\"color: #008080; text-decoration-color: #008080; font-weight: bold\">0.9079466992333602</span>\n",
       "</pre>\n"
      ],
      "text/plain": [
       "V18 V16 \u001b[1;36m0.9079466992333602\u001b[0m\n"
      ]
     },
     "metadata": {},
     "output_type": "display_data"
    },
    {
     "data": {
      "text/html": [
       "<pre style=\"white-space:pre;overflow-x:auto;line-height:normal;font-family:Menlo,'DejaVu Sans Mono',consolas,'Courier New',monospace\">V18 V17 <span style=\"color: #008080; text-decoration-color: #008080; font-weight: bold\">0.9408661422832246</span>\n",
       "</pre>\n"
      ],
      "text/plain": [
       "V18 V17 \u001b[1;36m0.9408661422832246\u001b[0m\n"
      ]
     },
     "metadata": {},
     "output_type": "display_data"
    }
   ],
   "source": [
    "data_corr = cc_balanced.corr()\n",
    "\n",
    "for i in range(len(cc_balanced.columns)):\n",
    "    for j in range(i):\n",
    "        if abs(data_corr.iloc[i, j]) > 0.88:\n",
    "            print(data_corr.columns[i], data_corr.columns[j], data_corr.iloc[i, j])"
   ]
  },
  {
   "attachments": {},
   "cell_type": "markdown",
   "metadata": {},
   "source": [
    "Eliminamos los atributos expuestos"
   ]
  },
  {
   "cell_type": "code",
   "execution_count": 5,
   "metadata": {},
   "outputs": [],
   "source": [
    "cc_balanced = cc_balanced.drop(['V1', 'V7', 'V10', 'V11', 'V14', 'V16', 'V18'], axis = 1)"
   ]
  },
  {
   "attachments": {},
   "cell_type": "markdown",
   "metadata": {},
   "source": [
    "##### Normalización\n",
    "\n",
    "Como último paso de preprocesaminento, normalizamos los datos para que estén dentro de un estándar"
   ]
  },
  {
   "cell_type": "code",
   "execution_count": 6,
   "metadata": {},
   "outputs": [],
   "source": [
    "from sklearn.preprocessing import StandardScaler\n",
    "scaler = StandardScaler()\n",
    "\n",
    "\n",
    "cc_balanced.iloc[:,0:-1] = scaler.fit_transform(cc_balanced.iloc[:,0:-1].to_numpy())\n",
    "cc_balanced.to_pickle('./pickled/cc_prep_final.pkl')"
   ]
  },
  {
   "attachments": {},
   "cell_type": "markdown",
   "metadata": {},
   "source": [
    "Para el modelaje, hemos separado los datos en 50% entrenamiento, 25% validación y 25% test \n",
    "\n",
    "Podemos observar los resultados de cada parte"
   ]
  },
  {
   "cell_type": "code",
   "execution_count": 7,
   "metadata": {},
   "outputs": [
    {
     "data": {
      "text/html": [
       "<pre style=\"white-space:pre;overflow-x:auto;line-height:normal;font-family:Menlo,'DejaVu Sans Mono',consolas,'Courier New',monospace\">features_train: <span style=\"font-weight: bold\">(</span><span style=\"color: #008080; text-decoration-color: #008080; font-weight: bold\">284315</span>, <span style=\"color: #008080; text-decoration-color: #008080; font-weight: bold\">23</span><span style=\"font-weight: bold\">)</span>\n",
       "</pre>\n"
      ],
      "text/plain": [
       "features_train: \u001b[1m(\u001b[0m\u001b[1;36m284315\u001b[0m, \u001b[1;36m23\u001b[0m\u001b[1m)\u001b[0m\n"
      ]
     },
     "metadata": {},
     "output_type": "display_data"
    },
    {
     "data": {
      "text/html": [
       "<pre style=\"white-space:pre;overflow-x:auto;line-height:normal;font-family:Menlo,'DejaVu Sans Mono',consolas,'Courier New',monospace\">features_valid: <span style=\"font-weight: bold\">(</span><span style=\"color: #008080; text-decoration-color: #008080; font-weight: bold\">142157</span>, <span style=\"color: #008080; text-decoration-color: #008080; font-weight: bold\">23</span><span style=\"font-weight: bold\">)</span>\n",
       "</pre>\n"
      ],
      "text/plain": [
       "features_valid: \u001b[1m(\u001b[0m\u001b[1;36m142157\u001b[0m, \u001b[1;36m23\u001b[0m\u001b[1m)\u001b[0m\n"
      ]
     },
     "metadata": {},
     "output_type": "display_data"
    },
    {
     "data": {
      "text/html": [
       "<pre style=\"white-space:pre;overflow-x:auto;line-height:normal;font-family:Menlo,'DejaVu Sans Mono',consolas,'Courier New',monospace\">features_test: <span style=\"font-weight: bold\">(</span><span style=\"color: #008080; text-decoration-color: #008080; font-weight: bold\">142158</span>, <span style=\"color: #008080; text-decoration-color: #008080; font-weight: bold\">23</span><span style=\"font-weight: bold\">)</span>\n",
       "</pre>\n"
      ],
      "text/plain": [
       "features_test: \u001b[1m(\u001b[0m\u001b[1;36m142158\u001b[0m, \u001b[1;36m23\u001b[0m\u001b[1m)\u001b[0m\n"
      ]
     },
     "metadata": {},
     "output_type": "display_data"
    },
    {
     "data": {
      "text/html": [
       "<pre style=\"white-space:pre;overflow-x:auto;line-height:normal;font-family:Menlo,'DejaVu Sans Mono',consolas,'Courier New',monospace\">target_train: <span style=\"font-weight: bold\">(</span><span style=\"color: #008080; text-decoration-color: #008080; font-weight: bold\">284315</span>,<span style=\"font-weight: bold\">)</span>\n",
       "</pre>\n"
      ],
      "text/plain": [
       "target_train: \u001b[1m(\u001b[0m\u001b[1;36m284315\u001b[0m,\u001b[1m)\u001b[0m\n"
      ]
     },
     "metadata": {},
     "output_type": "display_data"
    },
    {
     "data": {
      "text/html": [
       "<pre style=\"white-space:pre;overflow-x:auto;line-height:normal;font-family:Menlo,'DejaVu Sans Mono',consolas,'Courier New',monospace\">target_valid: <span style=\"font-weight: bold\">(</span><span style=\"color: #008080; text-decoration-color: #008080; font-weight: bold\">142157</span>,<span style=\"font-weight: bold\">)</span>\n",
       "</pre>\n"
      ],
      "text/plain": [
       "target_valid: \u001b[1m(\u001b[0m\u001b[1;36m142157\u001b[0m,\u001b[1m)\u001b[0m\n"
      ]
     },
     "metadata": {},
     "output_type": "display_data"
    },
    {
     "data": {
      "text/html": [
       "<pre style=\"white-space:pre;overflow-x:auto;line-height:normal;font-family:Menlo,'DejaVu Sans Mono',consolas,'Courier New',monospace\">target_test: <span style=\"font-weight: bold\">(</span><span style=\"color: #008080; text-decoration-color: #008080; font-weight: bold\">142158</span>,<span style=\"font-weight: bold\">)</span>\n",
       "</pre>\n"
      ],
      "text/plain": [
       "target_test: \u001b[1m(\u001b[0m\u001b[1;36m142158\u001b[0m,\u001b[1m)\u001b[0m\n"
      ]
     },
     "metadata": {},
     "output_type": "display_data"
    },
    {
     "data": {
      "text/html": [
       "<pre style=\"white-space:pre;overflow-x:auto;line-height:normal;font-family:Menlo,'DejaVu Sans Mono',consolas,'Courier New',monospace\">features_train: <span style=\"font-weight: bold\">(</span><span style=\"color: #008080; text-decoration-color: #008080; font-weight: bold\">284315</span>, <span style=\"color: #008080; text-decoration-color: #008080; font-weight: bold\">23</span><span style=\"font-weight: bold\">)</span>\n",
       "</pre>\n"
      ],
      "text/plain": [
       "features_train: \u001b[1m(\u001b[0m\u001b[1;36m284315\u001b[0m, \u001b[1;36m23\u001b[0m\u001b[1m)\u001b[0m\n"
      ]
     },
     "metadata": {},
     "output_type": "display_data"
    },
    {
     "data": {
      "text/html": [
       "<pre style=\"white-space:pre;overflow-x:auto;line-height:normal;font-family:Menlo,'DejaVu Sans Mono',consolas,'Courier New',monospace\">features_valid: <span style=\"font-weight: bold\">(</span><span style=\"color: #008080; text-decoration-color: #008080; font-weight: bold\">142157</span>, <span style=\"color: #008080; text-decoration-color: #008080; font-weight: bold\">23</span><span style=\"font-weight: bold\">)</span>\n",
       "</pre>\n"
      ],
      "text/plain": [
       "features_valid: \u001b[1m(\u001b[0m\u001b[1;36m142157\u001b[0m, \u001b[1;36m23\u001b[0m\u001b[1m)\u001b[0m\n"
      ]
     },
     "metadata": {},
     "output_type": "display_data"
    },
    {
     "data": {
      "text/html": [
       "<pre style=\"white-space:pre;overflow-x:auto;line-height:normal;font-family:Menlo,'DejaVu Sans Mono',consolas,'Courier New',monospace\">features_test: <span style=\"font-weight: bold\">(</span><span style=\"color: #008080; text-decoration-color: #008080; font-weight: bold\">142158</span>, <span style=\"color: #008080; text-decoration-color: #008080; font-weight: bold\">23</span><span style=\"font-weight: bold\">)</span>\n",
       "</pre>\n"
      ],
      "text/plain": [
       "features_test: \u001b[1m(\u001b[0m\u001b[1;36m142158\u001b[0m, \u001b[1;36m23\u001b[0m\u001b[1m)\u001b[0m\n"
      ]
     },
     "metadata": {},
     "output_type": "display_data"
    }
   ],
   "source": [
    "from traceback import print_tb\n",
    "\n",
    "\n",
    "df_prep = pd.read_pickle('./pickled/cc_prep_final.pkl')\n",
    "\n",
    "TARGET = df_prep['Class']\n",
    "FEATURES = df_prep.drop(['Class'], axis=1)\n",
    "\n",
    "features_train, features_aux, target_train, target_aux = train_test_split(FEATURES, TARGET, test_size=0.5, random_state=42)\n",
    "features_valid, features_test, target_valid, target_test = train_test_split(features_aux, target_aux, test_size=0.5, random_state=42)\n",
    "\n",
    "print(f'features_train: {features_train.shape}')\n",
    "print(f'features_valid: {features_valid.shape}')\n",
    "print(f'features_test: {features_test.shape}')\n",
    "print(f'target_train: {target_train.shape}')\n",
    "print(f'target_valid: {target_valid.shape}')\n",
    "print(f'target_test: {target_test.shape}')\n",
    "print(f'features_train: {features_train.shape}')\n",
    "print(f'features_valid: {features_valid.shape}')\n",
    "print(f'features_test: {features_test.shape}')"
   ]
  },
  {
   "attachments": {},
   "cell_type": "markdown",
   "metadata": {},
   "source": [
    "#### Resultados iniciales Perceptrón Simple"
   ]
  },
  {
   "attachments": {},
   "cell_type": "markdown",
   "metadata": {},
   "source": [
    "Entrenamos nuestro modelo Perceptrón Simple con 30 iteraciones (como máximo), que nos dará la medida de hasta que punto el problema es separable linelamente. Sin embargo, el modelo alcanzó la convergencia antes de llegar al número máximo de iteraciones. Esto significa que ya no hay errores en la predicción y, por lo tanto, no hay necesidad de que continúe ajustando los pesos del modelo"
   ]
  },
  {
   "cell_type": "code",
   "execution_count": 8,
   "metadata": {},
   "outputs": [
    {
     "data": {
      "text/html": [
       "<pre style=\"white-space:pre;overflow-x:auto;line-height:normal;font-family:Menlo,'DejaVu Sans Mono',consolas,'Courier New',monospace\">Learning a Perceptron with <span style=\"color: #008080; text-decoration-color: #008080; font-weight: bold\">30</span> maximum number of iterations and <span style=\"color: #808000; text-decoration-color: #808000\">...</span>\n",
       "</pre>\n"
      ],
      "text/plain": [
       "Learning a Perceptron with \u001b[1;36m30\u001b[0m maximum number of iterations and \u001b[33m...\u001b[0m\n"
      ]
     },
     "metadata": {},
     "output_type": "display_data"
    },
    {
     "name": "stdout",
     "output_type": "stream",
     "text": [
      "-- Epoch 1\n",
      "Norm: 36.03, NNZs: 23, Bias: 27.000000, T: 284315, Avg. loss: 0.726561\n",
      "Total training time: 0.01 seconds.\n",
      "-- Epoch 2\n",
      "Norm: 38.76, NNZs: 23, Bias: 29.000000, T: 568630, Avg. loss: 0.722691\n",
      "Total training time: 0.02 seconds.\n",
      "-- Epoch 3\n",
      "Norm: 37.04, NNZs: 23, Bias: 30.000000, T: 852945, Avg. loss: 0.684831\n",
      "Total training time: 0.04 seconds.\n",
      "-- Epoch 4\n",
      "Norm: 39.96, NNZs: 23, Bias: 31.000000, T: 1137260, Avg. loss: 0.710641\n",
      "Total training time: 0.05 seconds.\n",
      "-- Epoch 5\n",
      "Norm: 38.95, NNZs: 23, Bias: 32.000000, T: 1421575, Avg. loss: 0.697668\n",
      "Total training time: 0.06 seconds.\n",
      "-- Epoch 6\n",
      "Norm: 35.50, NNZs: 23, Bias: 26.000000, T: 1705890, Avg. loss: 0.734759\n",
      "Total training time: 0.07 seconds.\n",
      "-- Epoch 7\n",
      "Norm: 36.28, NNZs: 23, Bias: 27.000000, T: 1990205, Avg. loss: 0.729476\n",
      "Total training time: 0.09 seconds.\n",
      "-- Epoch 8\n",
      "Norm: 36.37, NNZs: 23, Bias: 29.000000, T: 2274520, Avg. loss: 0.696988\n",
      "Total training time: 0.10 seconds.\n",
      "Convergence after 8 epochs took 0.10 seconds\n"
     ]
    },
    {
     "data": {
      "text/html": [
       "<pre style=\"white-space:pre;overflow-x:auto;line-height:normal;font-family:Menlo,'DejaVu Sans Mono',consolas,'Courier New',monospace\">Printing Perceptron results\n",
       "</pre>\n"
      ],
      "text/plain": [
       "Printing Perceptron results\n"
      ]
     },
     "metadata": {},
     "output_type": "display_data"
    },
    {
     "data": {
      "text/html": [
       "<pre style=\"white-space:pre;overflow-x:auto;line-height:normal;font-family:Menlo,'DejaVu Sans Mono',consolas,'Courier New',monospace\">Train accuracy: <span style=\"color: #008080; text-decoration-color: #008080; font-weight: bold\">92.937</span>%\n",
       "</pre>\n"
      ],
      "text/plain": [
       "Train accuracy: \u001b[1;36m92.937\u001b[0m%\n"
      ]
     },
     "metadata": {},
     "output_type": "display_data"
    },
    {
     "data": {
      "text/html": [
       "<pre style=\"white-space:pre;overflow-x:auto;line-height:normal;font-family:Menlo,'DejaVu Sans Mono',consolas,'Courier New',monospace\">Valid accuracy: <span style=\"color: #008080; text-decoration-color: #008080; font-weight: bold\">92.921</span>%\n",
       "</pre>\n"
      ],
      "text/plain": [
       "Valid accuracy: \u001b[1;36m92.921\u001b[0m%\n"
      ]
     },
     "metadata": {},
     "output_type": "display_data"
    },
    {
     "data": {
      "text/html": [
       "<pre style=\"white-space:pre;overflow-x:auto;line-height:normal;font-family:Menlo,'DejaVu Sans Mono',consolas,'Courier New',monospace\"><span style=\"font-weight: bold\">[[</span><span style=\"color: #008080; text-decoration-color: #008080; font-weight: bold\">65367</span>  <span style=\"color: #008080; text-decoration-color: #008080; font-weight: bold\">5759</span><span style=\"font-weight: bold\">]</span>\n",
       " <span style=\"font-weight: bold\">[</span> <span style=\"color: #008080; text-decoration-color: #008080; font-weight: bold\">4305</span> <span style=\"color: #008080; text-decoration-color: #008080; font-weight: bold\">66726</span><span style=\"font-weight: bold\">]]</span>\n",
       "</pre>\n"
      ],
      "text/plain": [
       "\u001b[1m[\u001b[0m\u001b[1m[\u001b[0m\u001b[1;36m65367\u001b[0m  \u001b[1;36m5759\u001b[0m\u001b[1m]\u001b[0m\n",
       " \u001b[1m[\u001b[0m \u001b[1;36m4305\u001b[0m \u001b[1;36m66726\u001b[0m\u001b[1m]\u001b[0m\u001b[1m]\u001b[0m\n"
      ]
     },
     "metadata": {},
     "output_type": "display_data"
    },
    {
     "data": {
      "text/html": [
       "<pre style=\"white-space:pre;overflow-x:auto;line-height:normal;font-family:Menlo,'DejaVu Sans Mono',consolas,'Courier New',monospace\">              precision    recall  f1-score   support\n",
       "\n",
       "           <span style=\"color: #008080; text-decoration-color: #008080; font-weight: bold\">0</span>       <span style=\"color: #008080; text-decoration-color: #008080; font-weight: bold\">0.94</span>      <span style=\"color: #008080; text-decoration-color: #008080; font-weight: bold\">0.92</span>      <span style=\"color: #008080; text-decoration-color: #008080; font-weight: bold\">0.93</span>     <span style=\"color: #008080; text-decoration-color: #008080; font-weight: bold\">71126</span>\n",
       "           <span style=\"color: #008080; text-decoration-color: #008080; font-weight: bold\">1</span>       <span style=\"color: #008080; text-decoration-color: #008080; font-weight: bold\">0.92</span>      <span style=\"color: #008080; text-decoration-color: #008080; font-weight: bold\">0.94</span>      <span style=\"color: #008080; text-decoration-color: #008080; font-weight: bold\">0.93</span>     <span style=\"color: #008080; text-decoration-color: #008080; font-weight: bold\">71031</span>\n",
       "\n",
       "    accuracy                           <span style=\"color: #008080; text-decoration-color: #008080; font-weight: bold\">0.93</span>    <span style=\"color: #008080; text-decoration-color: #008080; font-weight: bold\">142157</span>\n",
       "   macro avg       <span style=\"color: #008080; text-decoration-color: #008080; font-weight: bold\">0.93</span>      <span style=\"color: #008080; text-decoration-color: #008080; font-weight: bold\">0.93</span>      <span style=\"color: #008080; text-decoration-color: #008080; font-weight: bold\">0.93</span>    <span style=\"color: #008080; text-decoration-color: #008080; font-weight: bold\">142157</span>\n",
       "weighted avg       <span style=\"color: #008080; text-decoration-color: #008080; font-weight: bold\">0.93</span>      <span style=\"color: #008080; text-decoration-color: #008080; font-weight: bold\">0.93</span>      <span style=\"color: #008080; text-decoration-color: #008080; font-weight: bold\">0.93</span>    <span style=\"color: #008080; text-decoration-color: #008080; font-weight: bold\">142157</span>\n",
       "\n",
       "</pre>\n"
      ],
      "text/plain": [
       "              precision    recall  f1-score   support\n",
       "\n",
       "           \u001b[1;36m0\u001b[0m       \u001b[1;36m0.94\u001b[0m      \u001b[1;36m0.92\u001b[0m      \u001b[1;36m0.93\u001b[0m     \u001b[1;36m71126\u001b[0m\n",
       "           \u001b[1;36m1\u001b[0m       \u001b[1;36m0.92\u001b[0m      \u001b[1;36m0.94\u001b[0m      \u001b[1;36m0.93\u001b[0m     \u001b[1;36m71031\u001b[0m\n",
       "\n",
       "    accuracy                           \u001b[1;36m0.93\u001b[0m    \u001b[1;36m142157\u001b[0m\n",
       "   macro avg       \u001b[1;36m0.93\u001b[0m      \u001b[1;36m0.93\u001b[0m      \u001b[1;36m0.93\u001b[0m    \u001b[1;36m142157\u001b[0m\n",
       "weighted avg       \u001b[1;36m0.93\u001b[0m      \u001b[1;36m0.93\u001b[0m      \u001b[1;36m0.93\u001b[0m    \u001b[1;36m142157\u001b[0m\n",
       "\n"
      ]
     },
     "metadata": {},
     "output_type": "display_data"
    }
   ],
   "source": [
    "max_iter = 30\n",
    "\n",
    "print(\"Learning a Perceptron with %d maximum number of iterations and ...\" % max_iter)\n",
    "\n",
    "per = Perceptron(max_iter=max_iter, shuffle=False, verbose=True)\n",
    "per.fit(features_train, target_train)\n",
    "\n",
    "# Results\n",
    "print(\"Printing Perceptron results\")\n",
    "\n",
    "predict_train = per.predict(features_train)\n",
    "predict_valid = per.predict(features_valid)\n",
    "\n",
    "print(\"Train accuracy: %.3f%%\" % (accuracy_score(target_train, predict_train) * 100))\n",
    "print(\"Valid accuracy: %.3f%%\" % (accuracy_score(target_valid, predict_valid) * 100))\n",
    "print(confusion_matrix(target_valid, predict_valid))\n",
    "print(classification_report(target_valid, predict_valid))"
   ]
  },
  {
   "attachments": {},
   "cell_type": "markdown",
   "metadata": {},
   "source": [
    "La tasa de precisión (accuracy) obtenida tanto en el conjunto de entrenamiento como en el conjunto de validación son similares y bastante altas, lo que indica que el modelo es capaz de generalizar bien. Sin embargo, vemos que el modelo tiende a fallar más en las transacciones fraudulentas que en las no fraudulentas, algo que no conviene tener debido a que es más importante para el banco predecir que sean fraudulentas.\n",
    "\n",
    "Al observar la matriz de confusión, podemos ver que el modelo clasifica correctamente el 94% de las transacciones no fraudulentas (clase 0), pero sólo el 92% de las transacciones fraudulentas (clase 1), lo que implica que aún hay un porcentaje considerable de transacciones fraudulentas que son clasificadas incorrectamente como no fraudulentas"
   ]
  },
  {
   "attachments": {},
   "cell_type": "markdown",
   "metadata": {},
   "source": [
    "#### Resultados iniciales MLP"
   ]
  },
  {
   "attachments": {},
   "cell_type": "markdown",
   "metadata": {},
   "source": [
    "Se define la función MLP_train_valid para poder realizar entrenamientos del Perceptrón Multicapa (MLP) incluyendo validaciones con el conjunto de validación y early stopping, así como mostrar opcionalmente resultados y logs:"
   ]
  },
  {
   "cell_type": "code",
   "execution_count": 8,
   "metadata": {},
   "outputs": [],
   "source": [
    "def MLP_train_valid(mlp, input_train, target_train, input_valid, target_valid, max_iter, valid_cycles, verbose):\n",
    "    \"\"\"\n",
    "    Train and valid MLP every valid_cycles iterations\n",
    "    \"\"\"\n",
    "    classes  = np.unique(target_train)\n",
    "    loss_valid = []\n",
    "    for i in range(max_iter//valid_cycles):\n",
    "        for _ in range(valid_cycles):\n",
    "            out = mlp.partial_fit(input_train, target_train, classes)\n",
    "        last_lost_valid = log_loss(target_valid, mlp.predict_proba(input_valid))\n",
    "        loss_valid.append(last_lost_valid)\n",
    "        if verbose:\n",
    "            print(\"Iteration %d, train loss = %.8f, valid loss = %.8f\" %\n",
    "                  (mlp.n_iter_, mlp.loss_, last_lost_valid))\n",
    "        if early_stopping and (i > 0) and (last_lost_valid > loss_valid[-2]): # Early stopping\n",
    "            if verbose:\n",
    "                print(\"Early stopping: Validation score did not improve\")\n",
    "            break\n",
    "    if verbose: print(out)\n",
    "\n",
    "    if verbose:\n",
    "        MLP_print_verbose(mlp, valid_cycles, loss_valid)\n",
    "\n",
    "\n",
    "def MLP_print_verbose(mlp, valid_cycles, loss_valid):\n",
    "    print(\"Visualizing the Cost Function Trajectory\")\n",
    "    plt.plot(range(1, len(mlp.loss_curve_)+1), mlp.loss_curve_, label='Train loss')\n",
    "    plt.plot(range(valid_cycles,len(loss_valid)*valid_cycles+valid_cycles,valid_cycles), loss_valid, '-o', label='Valid loss')\n",
    "    plt.xlabel('number of iterations')\n",
    "    plt.ylabel('loss function')\n",
    "    plt.legend(loc='upper right')\n",
    "    plt.show()"
   ]
  },
  {
   "attachments": {},
   "cell_type": "markdown",
   "metadata": {},
   "source": [
    " Se realiza un entrenamiento con un MLP de una capa oculta de 60 neuronas, un ratio de aprendizaje de 0,001, durante un máximo 300 iteraciones, validando cada 5 ciclos. Se muestra la gráfica de la evolución del error a lo largo de los ciclos."
   ]
  },
  {
   "cell_type": "code",
   "execution_count": 9,
   "metadata": {},
   "outputs": [
    {
     "data": {
      "text/html": [
       "<pre style=\"white-space:pre;overflow-x:auto;line-height:normal;font-family:Menlo,'DejaVu Sans Mono',consolas,'Courier New',monospace\">Learning a MLP with <span style=\"color: #008080; text-decoration-color: #008080; font-weight: bold\">60</span> hidden neurons, <span style=\"color: #008080; text-decoration-color: #008080; font-weight: bold\">300</span> maximum number of iterations and <span style=\"color: #008080; text-decoration-color: #008080; font-weight: bold\">0.00100000</span> \n",
       "learning rate <span style=\"color: #808000; text-decoration-color: #808000\">...</span>\n",
       "</pre>\n"
      ],
      "text/plain": [
       "Learning a MLP with \u001b[1;36m60\u001b[0m hidden neurons, \u001b[1;36m300\u001b[0m maximum number of iterations and \u001b[1;36m0.00100000\u001b[0m \n",
       "learning rate \u001b[33m...\u001b[0m\n"
      ]
     },
     "metadata": {},
     "output_type": "display_data"
    },
    {
     "data": {
      "text/html": [
       "<pre style=\"white-space:pre;overflow-x:auto;line-height:normal;font-family:Menlo,'DejaVu Sans Mono',consolas,'Courier New',monospace\">Iteration <span style=\"color: #008080; text-decoration-color: #008080; font-weight: bold\">5</span>, train loss = <span style=\"color: #008080; text-decoration-color: #008080; font-weight: bold\">0.02855719</span>, valid loss = <span style=\"color: #008080; text-decoration-color: #008080; font-weight: bold\">0.02656797</span>\n",
       "</pre>\n"
      ],
      "text/plain": [
       "Iteration \u001b[1;36m5\u001b[0m, train loss = \u001b[1;36m0.02855719\u001b[0m, valid loss = \u001b[1;36m0.02656797\u001b[0m\n"
      ]
     },
     "metadata": {},
     "output_type": "display_data"
    },
    {
     "data": {
      "text/html": [
       "<pre style=\"white-space:pre;overflow-x:auto;line-height:normal;font-family:Menlo,'DejaVu Sans Mono',consolas,'Courier New',monospace\">Iteration <span style=\"color: #008080; text-decoration-color: #008080; font-weight: bold\">10</span>, train loss = <span style=\"color: #008080; text-decoration-color: #008080; font-weight: bold\">0.01249381</span>, valid loss = <span style=\"color: #008080; text-decoration-color: #008080; font-weight: bold\">0.01226944</span>\n",
       "</pre>\n"
      ],
      "text/plain": [
       "Iteration \u001b[1;36m10\u001b[0m, train loss = \u001b[1;36m0.01249381\u001b[0m, valid loss = \u001b[1;36m0.01226944\u001b[0m\n"
      ]
     },
     "metadata": {},
     "output_type": "display_data"
    },
    {
     "data": {
      "text/html": [
       "<pre style=\"white-space:pre;overflow-x:auto;line-height:normal;font-family:Menlo,'DejaVu Sans Mono',consolas,'Courier New',monospace\">Iteration <span style=\"color: #008080; text-decoration-color: #008080; font-weight: bold\">15</span>, train loss = <span style=\"color: #008080; text-decoration-color: #008080; font-weight: bold\">0.00743824</span>, valid loss = <span style=\"color: #008080; text-decoration-color: #008080; font-weight: bold\">0.00768098</span>\n",
       "</pre>\n"
      ],
      "text/plain": [
       "Iteration \u001b[1;36m15\u001b[0m, train loss = \u001b[1;36m0.00743824\u001b[0m, valid loss = \u001b[1;36m0.00768098\u001b[0m\n"
      ]
     },
     "metadata": {},
     "output_type": "display_data"
    },
    {
     "data": {
      "text/html": [
       "<pre style=\"white-space:pre;overflow-x:auto;line-height:normal;font-family:Menlo,'DejaVu Sans Mono',consolas,'Courier New',monospace\">Iteration <span style=\"color: #008080; text-decoration-color: #008080; font-weight: bold\">20</span>, train loss = <span style=\"color: #008080; text-decoration-color: #008080; font-weight: bold\">0.00517617</span>, valid loss = <span style=\"color: #008080; text-decoration-color: #008080; font-weight: bold\">0.00567072</span>\n",
       "</pre>\n"
      ],
      "text/plain": [
       "Iteration \u001b[1;36m20\u001b[0m, train loss = \u001b[1;36m0.00517617\u001b[0m, valid loss = \u001b[1;36m0.00567072\u001b[0m\n"
      ]
     },
     "metadata": {},
     "output_type": "display_data"
    },
    {
     "data": {
      "text/html": [
       "<pre style=\"white-space:pre;overflow-x:auto;line-height:normal;font-family:Menlo,'DejaVu Sans Mono',consolas,'Courier New',monospace\">Iteration <span style=\"color: #008080; text-decoration-color: #008080; font-weight: bold\">25</span>, train loss = <span style=\"color: #008080; text-decoration-color: #008080; font-weight: bold\">0.00390451</span>, valid loss = <span style=\"color: #008080; text-decoration-color: #008080; font-weight: bold\">0.00460331</span>\n",
       "</pre>\n"
      ],
      "text/plain": [
       "Iteration \u001b[1;36m25\u001b[0m, train loss = \u001b[1;36m0.00390451\u001b[0m, valid loss = \u001b[1;36m0.00460331\u001b[0m\n"
      ]
     },
     "metadata": {},
     "output_type": "display_data"
    },
    {
     "data": {
      "text/html": [
       "<pre style=\"white-space:pre;overflow-x:auto;line-height:normal;font-family:Menlo,'DejaVu Sans Mono',consolas,'Courier New',monospace\">Iteration <span style=\"color: #008080; text-decoration-color: #008080; font-weight: bold\">30</span>, train loss = <span style=\"color: #008080; text-decoration-color: #008080; font-weight: bold\">0.00309243</span>, valid loss = <span style=\"color: #008080; text-decoration-color: #008080; font-weight: bold\">0.00391699</span>\n",
       "</pre>\n"
      ],
      "text/plain": [
       "Iteration \u001b[1;36m30\u001b[0m, train loss = \u001b[1;36m0.00309243\u001b[0m, valid loss = \u001b[1;36m0.00391699\u001b[0m\n"
      ]
     },
     "metadata": {},
     "output_type": "display_data"
    },
    {
     "data": {
      "text/html": [
       "<pre style=\"white-space:pre;overflow-x:auto;line-height:normal;font-family:Menlo,'DejaVu Sans Mono',consolas,'Courier New',monospace\">Iteration <span style=\"color: #008080; text-decoration-color: #008080; font-weight: bold\">35</span>, train loss = <span style=\"color: #008080; text-decoration-color: #008080; font-weight: bold\">0.00257435</span>, valid loss = <span style=\"color: #008080; text-decoration-color: #008080; font-weight: bold\">0.00364810</span>\n",
       "</pre>\n"
      ],
      "text/plain": [
       "Iteration \u001b[1;36m35\u001b[0m, train loss = \u001b[1;36m0.00257435\u001b[0m, valid loss = \u001b[1;36m0.00364810\u001b[0m\n"
      ]
     },
     "metadata": {},
     "output_type": "display_data"
    },
    {
     "data": {
      "text/html": [
       "<pre style=\"white-space:pre;overflow-x:auto;line-height:normal;font-family:Menlo,'DejaVu Sans Mono',consolas,'Courier New',monospace\">Iteration <span style=\"color: #008080; text-decoration-color: #008080; font-weight: bold\">40</span>, train loss = <span style=\"color: #008080; text-decoration-color: #008080; font-weight: bold\">0.00220819</span>, valid loss = <span style=\"color: #008080; text-decoration-color: #008080; font-weight: bold\">0.00329012</span>\n",
       "</pre>\n"
      ],
      "text/plain": [
       "Iteration \u001b[1;36m40\u001b[0m, train loss = \u001b[1;36m0.00220819\u001b[0m, valid loss = \u001b[1;36m0.00329012\u001b[0m\n"
      ]
     },
     "metadata": {},
     "output_type": "display_data"
    },
    {
     "data": {
      "text/html": [
       "<pre style=\"white-space:pre;overflow-x:auto;line-height:normal;font-family:Menlo,'DejaVu Sans Mono',consolas,'Courier New',monospace\">Iteration <span style=\"color: #008080; text-decoration-color: #008080; font-weight: bold\">45</span>, train loss = <span style=\"color: #008080; text-decoration-color: #008080; font-weight: bold\">0.00193658</span>, valid loss = <span style=\"color: #008080; text-decoration-color: #008080; font-weight: bold\">0.00319780</span>\n",
       "</pre>\n"
      ],
      "text/plain": [
       "Iteration \u001b[1;36m45\u001b[0m, train loss = \u001b[1;36m0.00193658\u001b[0m, valid loss = \u001b[1;36m0.00319780\u001b[0m\n"
      ]
     },
     "metadata": {},
     "output_type": "display_data"
    },
    {
     "data": {
      "text/html": [
       "<pre style=\"white-space:pre;overflow-x:auto;line-height:normal;font-family:Menlo,'DejaVu Sans Mono',consolas,'Courier New',monospace\">Iteration <span style=\"color: #008080; text-decoration-color: #008080; font-weight: bold\">50</span>, train loss = <span style=\"color: #008080; text-decoration-color: #008080; font-weight: bold\">0.00171545</span>, valid loss = <span style=\"color: #008080; text-decoration-color: #008080; font-weight: bold\">0.00300314</span>\n",
       "</pre>\n"
      ],
      "text/plain": [
       "Iteration \u001b[1;36m50\u001b[0m, train loss = \u001b[1;36m0.00171545\u001b[0m, valid loss = \u001b[1;36m0.00300314\u001b[0m\n"
      ]
     },
     "metadata": {},
     "output_type": "display_data"
    },
    {
     "data": {
      "text/html": [
       "<pre style=\"white-space:pre;overflow-x:auto;line-height:normal;font-family:Menlo,'DejaVu Sans Mono',consolas,'Courier New',monospace\">Iteration <span style=\"color: #008080; text-decoration-color: #008080; font-weight: bold\">55</span>, train loss = <span style=\"color: #008080; text-decoration-color: #008080; font-weight: bold\">0.00154324</span>, valid loss = <span style=\"color: #008080; text-decoration-color: #008080; font-weight: bold\">0.00289308</span>\n",
       "</pre>\n"
      ],
      "text/plain": [
       "Iteration \u001b[1;36m55\u001b[0m, train loss = \u001b[1;36m0.00154324\u001b[0m, valid loss = \u001b[1;36m0.00289308\u001b[0m\n"
      ]
     },
     "metadata": {},
     "output_type": "display_data"
    },
    {
     "data": {
      "text/html": [
       "<pre style=\"white-space:pre;overflow-x:auto;line-height:normal;font-family:Menlo,'DejaVu Sans Mono',consolas,'Courier New',monospace\">Iteration <span style=\"color: #008080; text-decoration-color: #008080; font-weight: bold\">60</span>, train loss = <span style=\"color: #008080; text-decoration-color: #008080; font-weight: bold\">0.00140724</span>, valid loss = <span style=\"color: #008080; text-decoration-color: #008080; font-weight: bold\">0.00289578</span>\n",
       "</pre>\n"
      ],
      "text/plain": [
       "Iteration \u001b[1;36m60\u001b[0m, train loss = \u001b[1;36m0.00140724\u001b[0m, valid loss = \u001b[1;36m0.00289578\u001b[0m\n"
      ]
     },
     "metadata": {},
     "output_type": "display_data"
    },
    {
     "data": {
      "text/html": [
       "<pre style=\"white-space:pre;overflow-x:auto;line-height:normal;font-family:Menlo,'DejaVu Sans Mono',consolas,'Courier New',monospace\">Early stopping: Validation score did not improve\n",
       "</pre>\n"
      ],
      "text/plain": [
       "Early stopping: Validation score did not improve\n"
      ]
     },
     "metadata": {},
     "output_type": "display_data"
    },
    {
     "data": {
      "text/html": [
       "<pre style=\"white-space:pre;overflow-x:auto;line-height:normal;font-family:Menlo,'DejaVu Sans Mono',consolas,'Courier New',monospace\"><span style=\"color: #800080; text-decoration-color: #800080; font-weight: bold\">MLPClassifier</span><span style=\"font-weight: bold\">(</span><span style=\"color: #808000; text-decoration-color: #808000\">hidden_layer_sizes</span>=<span style=\"color: #008080; text-decoration-color: #008080; font-weight: bold\">60</span>, <span style=\"color: #808000; text-decoration-color: #808000\">random_state</span>=<span style=\"color: #008080; text-decoration-color: #008080; font-weight: bold\">0</span>, <span style=\"color: #808000; text-decoration-color: #808000\">shuffle</span>=<span style=\"color: #ff0000; text-decoration-color: #ff0000; font-style: italic\">False</span><span style=\"font-weight: bold\">)</span>\n",
       "</pre>\n"
      ],
      "text/plain": [
       "\u001b[1;35mMLPClassifier\u001b[0m\u001b[1m(\u001b[0m\u001b[33mhidden_layer_sizes\u001b[0m=\u001b[1;36m60\u001b[0m, \u001b[33mrandom_state\u001b[0m=\u001b[1;36m0\u001b[0m, \u001b[33mshuffle\u001b[0m=\u001b[3;91mFalse\u001b[0m\u001b[1m)\u001b[0m\n"
      ]
     },
     "metadata": {},
     "output_type": "display_data"
    },
    {
     "data": {
      "text/html": [
       "<pre style=\"white-space:pre;overflow-x:auto;line-height:normal;font-family:Menlo,'DejaVu Sans Mono',consolas,'Courier New',monospace\">Visualizing the Cost Function Trajectory\n",
       "</pre>\n"
      ],
      "text/plain": [
       "Visualizing the Cost Function Trajectory\n"
      ]
     },
     "metadata": {},
     "output_type": "display_data"
    },
    {
     "data": {
      "image/png": "[encoded data removed]",
      "text/plain": [
       "<Figure size 640x480 with 1 Axes>"
      ]
     },
     "metadata": {},
     "output_type": "display_data"
    }
   ],
   "source": [
    "from sklearn.neural_network import MLPClassifier\n",
    "\n",
    "n_hidden = 60\n",
    "max_iter = 300\n",
    "learning_rate_init = 0.001\n",
    "valid_cycles = 5\n",
    "early_stopping = True\n",
    "\n",
    "print(\"Learning a MLP with %d hidden neurons, %d maximum number of iterations and %.8f learning rate ...\" % (n_hidden, max_iter, learning_rate_init))\n",
    "\n",
    "mlp = MLPClassifier(hidden_layer_sizes=(n_hidden), learning_rate_init=learning_rate_init, shuffle=False, random_state=0, verbose=False)\n",
    "\n",
    "MLP_train_valid(mlp, features_train, target_train, features_valid, target_valid, max_iter, valid_cycles, True)"
   ]
  },
  {
   "attachments": {},
   "cell_type": "markdown",
   "metadata": {},
   "source": [
    "El modelo no llego al máximo de iteraciones debido al early_stopping\n",
    "\n",
    "Se ve que los errores descienden y se estabilizan, no se produce sobreentrenamiento y el entrenamiento es detenido a las 60 iteraciones. Se muestran los resultados iniciales de este entrenamiento"
   ]
  },
  {
   "cell_type": "code",
   "execution_count": 11,
   "metadata": {},
   "outputs": [
    {
     "data": {
      "text/html": [
       "<pre style=\"white-space:pre;overflow-x:auto;line-height:normal;font-family:Menlo,'DejaVu Sans Mono',consolas,'Courier New',monospace\">Printing initial results\n",
       "</pre>\n"
      ],
      "text/plain": [
       "Printing initial results\n"
      ]
     },
     "metadata": {},
     "output_type": "display_data"
    },
    {
     "data": {
      "text/html": [
       "<pre style=\"white-space:pre;overflow-x:auto;line-height:normal;font-family:Menlo,'DejaVu Sans Mono',consolas,'Courier New',monospace\">Train accuracy: <span style=\"color: #008080; text-decoration-color: #008080; font-weight: bold\">99.987</span>%\n",
       "</pre>\n"
      ],
      "text/plain": [
       "Train accuracy: \u001b[1;36m99.987\u001b[0m%\n"
      ]
     },
     "metadata": {},
     "output_type": "display_data"
    },
    {
     "data": {
      "text/html": [
       "<pre style=\"white-space:pre;overflow-x:auto;line-height:normal;font-family:Menlo,'DejaVu Sans Mono',consolas,'Courier New',monospace\">Valid accuracy: <span style=\"color: #008080; text-decoration-color: #008080; font-weight: bold\">99.947</span>%\n",
       "</pre>\n"
      ],
      "text/plain": [
       "Valid accuracy: \u001b[1;36m99.947\u001b[0m%\n"
      ]
     },
     "metadata": {},
     "output_type": "display_data"
    },
    {
     "data": {
      "text/html": [
       "<pre style=\"white-space:pre;overflow-x:auto;line-height:normal;font-family:Menlo,'DejaVu Sans Mono',consolas,'Courier New',monospace\">Train confusion matrix:\n",
       "</pre>\n"
      ],
      "text/plain": [
       "Train confusion matrix:\n"
      ]
     },
     "metadata": {},
     "output_type": "display_data"
    },
    {
     "data": {
      "text/html": [
       "<pre style=\"white-space:pre;overflow-x:auto;line-height:normal;font-family:Menlo,'DejaVu Sans Mono',consolas,'Courier New',monospace\"><span style=\"font-weight: bold\">[[</span><span style=\"color: #008080; text-decoration-color: #008080; font-weight: bold\">142135</span>     <span style=\"color: #008080; text-decoration-color: #008080; font-weight: bold\">38</span><span style=\"font-weight: bold\">]</span>\n",
       " <span style=\"font-weight: bold\">[</span>     <span style=\"color: #008080; text-decoration-color: #008080; font-weight: bold\">0</span> <span style=\"color: #008080; text-decoration-color: #008080; font-weight: bold\">142142</span><span style=\"font-weight: bold\">]]</span>\n",
       "</pre>\n"
      ],
      "text/plain": [
       "\u001b[1m[\u001b[0m\u001b[1m[\u001b[0m\u001b[1;36m142135\u001b[0m     \u001b[1;36m38\u001b[0m\u001b[1m]\u001b[0m\n",
       " \u001b[1m[\u001b[0m     \u001b[1;36m0\u001b[0m \u001b[1;36m142142\u001b[0m\u001b[1m]\u001b[0m\u001b[1m]\u001b[0m\n"
      ]
     },
     "metadata": {},
     "output_type": "display_data"
    },
    {
     "data": {
      "text/html": [
       "<pre style=\"white-space:pre;overflow-x:auto;line-height:normal;font-family:Menlo,'DejaVu Sans Mono',consolas,'Courier New',monospace\">Valid confusion matrix:\n",
       "</pre>\n"
      ],
      "text/plain": [
       "Valid confusion matrix:\n"
      ]
     },
     "metadata": {},
     "output_type": "display_data"
    },
    {
     "data": {
      "text/html": [
       "<pre style=\"white-space:pre;overflow-x:auto;line-height:normal;font-family:Menlo,'DejaVu Sans Mono',consolas,'Courier New',monospace\"><span style=\"font-weight: bold\">[[</span><span style=\"color: #008080; text-decoration-color: #008080; font-weight: bold\">71050</span>    <span style=\"color: #008080; text-decoration-color: #008080; font-weight: bold\">76</span><span style=\"font-weight: bold\">]</span>\n",
       " <span style=\"font-weight: bold\">[</span>    <span style=\"color: #008080; text-decoration-color: #008080; font-weight: bold\">0</span> <span style=\"color: #008080; text-decoration-color: #008080; font-weight: bold\">71031</span><span style=\"font-weight: bold\">]]</span>\n",
       "</pre>\n"
      ],
      "text/plain": [
       "\u001b[1m[\u001b[0m\u001b[1m[\u001b[0m\u001b[1;36m71050\u001b[0m    \u001b[1;36m76\u001b[0m\u001b[1m]\u001b[0m\n",
       " \u001b[1m[\u001b[0m    \u001b[1;36m0\u001b[0m \u001b[1;36m71031\u001b[0m\u001b[1m]\u001b[0m\u001b[1m]\u001b[0m\n"
      ]
     },
     "metadata": {},
     "output_type": "display_data"
    },
    {
     "data": {
      "text/html": [
       "<pre style=\"white-space:pre;overflow-x:auto;line-height:normal;font-family:Menlo,'DejaVu Sans Mono',consolas,'Courier New',monospace\">Train classification report:\n",
       "</pre>\n"
      ],
      "text/plain": [
       "Train classification report:\n"
      ]
     },
     "metadata": {},
     "output_type": "display_data"
    },
    {
     "data": {
      "text/html": [
       "<pre style=\"white-space:pre;overflow-x:auto;line-height:normal;font-family:Menlo,'DejaVu Sans Mono',consolas,'Courier New',monospace\">              precision    recall  f1-score   support\n",
       "\n",
       "           <span style=\"color: #008080; text-decoration-color: #008080; font-weight: bold\">0</span>       <span style=\"color: #008080; text-decoration-color: #008080; font-weight: bold\">1.00</span>      <span style=\"color: #008080; text-decoration-color: #008080; font-weight: bold\">1.00</span>      <span style=\"color: #008080; text-decoration-color: #008080; font-weight: bold\">1.00</span>    <span style=\"color: #008080; text-decoration-color: #008080; font-weight: bold\">142173</span>\n",
       "           <span style=\"color: #008080; text-decoration-color: #008080; font-weight: bold\">1</span>       <span style=\"color: #008080; text-decoration-color: #008080; font-weight: bold\">1.00</span>      <span style=\"color: #008080; text-decoration-color: #008080; font-weight: bold\">1.00</span>      <span style=\"color: #008080; text-decoration-color: #008080; font-weight: bold\">1.00</span>    <span style=\"color: #008080; text-decoration-color: #008080; font-weight: bold\">142142</span>\n",
       "\n",
       "    accuracy                           <span style=\"color: #008080; text-decoration-color: #008080; font-weight: bold\">1.00</span>    <span style=\"color: #008080; text-decoration-color: #008080; font-weight: bold\">284315</span>\n",
       "   macro avg       <span style=\"color: #008080; text-decoration-color: #008080; font-weight: bold\">1.00</span>      <span style=\"color: #008080; text-decoration-color: #008080; font-weight: bold\">1.00</span>      <span style=\"color: #008080; text-decoration-color: #008080; font-weight: bold\">1.00</span>    <span style=\"color: #008080; text-decoration-color: #008080; font-weight: bold\">284315</span>\n",
       "weighted avg       <span style=\"color: #008080; text-decoration-color: #008080; font-weight: bold\">1.00</span>      <span style=\"color: #008080; text-decoration-color: #008080; font-weight: bold\">1.00</span>      <span style=\"color: #008080; text-decoration-color: #008080; font-weight: bold\">1.00</span>    <span style=\"color: #008080; text-decoration-color: #008080; font-weight: bold\">284315</span>\n",
       "\n",
       "</pre>\n"
      ],
      "text/plain": [
       "              precision    recall  f1-score   support\n",
       "\n",
       "           \u001b[1;36m0\u001b[0m       \u001b[1;36m1.00\u001b[0m      \u001b[1;36m1.00\u001b[0m      \u001b[1;36m1.00\u001b[0m    \u001b[1;36m142173\u001b[0m\n",
       "           \u001b[1;36m1\u001b[0m       \u001b[1;36m1.00\u001b[0m      \u001b[1;36m1.00\u001b[0m      \u001b[1;36m1.00\u001b[0m    \u001b[1;36m142142\u001b[0m\n",
       "\n",
       "    accuracy                           \u001b[1;36m1.00\u001b[0m    \u001b[1;36m284315\u001b[0m\n",
       "   macro avg       \u001b[1;36m1.00\u001b[0m      \u001b[1;36m1.00\u001b[0m      \u001b[1;36m1.00\u001b[0m    \u001b[1;36m284315\u001b[0m\n",
       "weighted avg       \u001b[1;36m1.00\u001b[0m      \u001b[1;36m1.00\u001b[0m      \u001b[1;36m1.00\u001b[0m    \u001b[1;36m284315\u001b[0m\n",
       "\n"
      ]
     },
     "metadata": {},
     "output_type": "display_data"
    },
    {
     "data": {
      "text/html": [
       "<pre style=\"white-space:pre;overflow-x:auto;line-height:normal;font-family:Menlo,'DejaVu Sans Mono',consolas,'Courier New',monospace\">Valid classification report:\n",
       "</pre>\n"
      ],
      "text/plain": [
       "Valid classification report:\n"
      ]
     },
     "metadata": {},
     "output_type": "display_data"
    },
    {
     "data": {
      "text/html": [
       "<pre style=\"white-space:pre;overflow-x:auto;line-height:normal;font-family:Menlo,'DejaVu Sans Mono',consolas,'Courier New',monospace\">              precision    recall  f1-score   support\n",
       "\n",
       "           <span style=\"color: #008080; text-decoration-color: #008080; font-weight: bold\">0</span>       <span style=\"color: #008080; text-decoration-color: #008080; font-weight: bold\">1.00</span>      <span style=\"color: #008080; text-decoration-color: #008080; font-weight: bold\">1.00</span>      <span style=\"color: #008080; text-decoration-color: #008080; font-weight: bold\">1.00</span>     <span style=\"color: #008080; text-decoration-color: #008080; font-weight: bold\">71126</span>\n",
       "           <span style=\"color: #008080; text-decoration-color: #008080; font-weight: bold\">1</span>       <span style=\"color: #008080; text-decoration-color: #008080; font-weight: bold\">1.00</span>      <span style=\"color: #008080; text-decoration-color: #008080; font-weight: bold\">1.00</span>      <span style=\"color: #008080; text-decoration-color: #008080; font-weight: bold\">1.00</span>     <span style=\"color: #008080; text-decoration-color: #008080; font-weight: bold\">71031</span>\n",
       "\n",
       "    accuracy                           <span style=\"color: #008080; text-decoration-color: #008080; font-weight: bold\">1.00</span>    <span style=\"color: #008080; text-decoration-color: #008080; font-weight: bold\">142157</span>\n",
       "   macro avg       <span style=\"color: #008080; text-decoration-color: #008080; font-weight: bold\">1.00</span>      <span style=\"color: #008080; text-decoration-color: #008080; font-weight: bold\">1.00</span>      <span style=\"color: #008080; text-decoration-color: #008080; font-weight: bold\">1.00</span>    <span style=\"color: #008080; text-decoration-color: #008080; font-weight: bold\">142157</span>\n",
       "weighted avg       <span style=\"color: #008080; text-decoration-color: #008080; font-weight: bold\">1.00</span>      <span style=\"color: #008080; text-decoration-color: #008080; font-weight: bold\">1.00</span>      <span style=\"color: #008080; text-decoration-color: #008080; font-weight: bold\">1.00</span>    <span style=\"color: #008080; text-decoration-color: #008080; font-weight: bold\">142157</span>\n",
       "\n",
       "</pre>\n"
      ],
      "text/plain": [
       "              precision    recall  f1-score   support\n",
       "\n",
       "           \u001b[1;36m0\u001b[0m       \u001b[1;36m1.00\u001b[0m      \u001b[1;36m1.00\u001b[0m      \u001b[1;36m1.00\u001b[0m     \u001b[1;36m71126\u001b[0m\n",
       "           \u001b[1;36m1\u001b[0m       \u001b[1;36m1.00\u001b[0m      \u001b[1;36m1.00\u001b[0m      \u001b[1;36m1.00\u001b[0m     \u001b[1;36m71031\u001b[0m\n",
       "\n",
       "    accuracy                           \u001b[1;36m1.00\u001b[0m    \u001b[1;36m142157\u001b[0m\n",
       "   macro avg       \u001b[1;36m1.00\u001b[0m      \u001b[1;36m1.00\u001b[0m      \u001b[1;36m1.00\u001b[0m    \u001b[1;36m142157\u001b[0m\n",
       "weighted avg       \u001b[1;36m1.00\u001b[0m      \u001b[1;36m1.00\u001b[0m      \u001b[1;36m1.00\u001b[0m    \u001b[1;36m142157\u001b[0m\n",
       "\n"
      ]
     },
     "metadata": {},
     "output_type": "display_data"
    }
   ],
   "source": [
    "print(\"Printing initial results\")\n",
    "\n",
    "predict_train = mlp.predict(features_train)\n",
    "predict_valid = mlp.predict(features_valid)\n",
    "\n",
    "print(\"Train accuracy: %.3f%%\" % (accuracy_score(target_train, predict_train) * 100))\n",
    "print(\"Valid accuracy: %.3f%%\" % (accuracy_score(target_valid, predict_valid) * 100))\n",
    "\n",
    "print(\"Train confusion matrix:\")\n",
    "print(confusion_matrix(target_train, predict_train))\n",
    "print(\"Valid confusion matrix:\")\n",
    "print(confusion_matrix(target_valid, predict_valid))\n",
    "\n",
    "print(\"Train classification report:\")\n",
    "print(classification_report(target_train, predict_train))\n",
    "print(\"Valid classification report:\")\n",
    "print(classification_report(target_valid, predict_valid))"
   ]
  },
  {
   "attachments": {},
   "cell_type": "markdown",
   "metadata": {},
   "source": [
    "En estos resultados iniciales se ve que MLP mejora respecto al Perceptrón en un 7,05% y un 7,026% para los conjuntos de entrenamiento y validación respectivamente. Lo que indica que eliminando la limitación de separabilidad lineal se consiguen mejoras tanto con el conjunto de entrenamiento como el de validación"
   ]
  },
  {
   "attachments": {},
   "cell_type": "markdown",
   "metadata": {},
   "source": [
    "#### Optimización arquitectura MLP"
   ]
  },
  {
   "cell_type": "code",
   "execution_count": 10,
   "metadata": {},
   "outputs": [
    {
     "data": {
      "text/html": [
       "<pre style=\"white-space:pre;overflow-x:auto;line-height:normal;font-family:Menlo,'DejaVu Sans Mono',consolas,'Courier New',monospace\">Learning rate optimization\n",
       "</pre>\n"
      ],
      "text/plain": [
       "Learning rate optimization\n"
      ]
     },
     "metadata": {},
     "output_type": "display_data"
    },
    {
     "data": {
      "text/html": [
       "<pre style=\"white-space:pre;overflow-x:auto;line-height:normal;font-family:Menlo,'DejaVu Sans Mono',consolas,'Courier New',monospace\">Number of seconds for training: <span style=\"color: #008080; text-decoration-color: #008080; font-weight: bold\">120</span>\n",
       "</pre>\n"
      ],
      "text/plain": [
       "Number of seconds for training: \u001b[1;36m120\u001b[0m\n"
      ]
     },
     "metadata": {},
     "output_type": "display_data"
    },
    {
     "data": {
      "text/html": [
       "<pre style=\"white-space:pre;overflow-x:auto;line-height:normal;font-family:Menlo,'DejaVu Sans Mono',consolas,'Courier New',monospace\">Visualizing the Cost Function Trajectory with different learning rates\n",
       "</pre>\n"
      ],
      "text/plain": [
       "Visualizing the Cost Function Trajectory with different learning rates\n"
      ]
     },
     "metadata": {},
     "output_type": "display_data"
    },
    {
     "data": {
      "image/png": "[encoded data removed]",
      "text/plain": [
       "<Figure size 640x480 with 1 Axes>"
      ]
     },
     "metadata": {},
     "output_type": "display_data"
    }
   ],
   "source": [
    "print(\"Learning rate optimization\")\n",
    "\n",
    "tests_learning_rate_init = [0.001, 0.005, 0.01, 0.05, 0.1]\n",
    "activation = 'relu'\n",
    "random_state = 0\n",
    "\n",
    "now = datetime.now()\n",
    "loss_curves =  []\n",
    "for lr in tests_learning_rate_init:\n",
    "    mlp = MLPClassifier(hidden_layer_sizes=(n_hidden,), learning_rate_init=lr, shuffle=False, random_state=random_state, verbose=False, activation=activation)\n",
    "    MLP_train_valid(mlp, features_train, target_train, features_valid, target_valid, max_iter, valid_cycles, False)\n",
    "\n",
    "    loss_curves.append(mlp.loss_curve_)\n",
    "\n",
    "print(\"Number of seconds for training: %d\" % (datetime.now() - now).total_seconds())\n",
    "\n",
    "print(\"Visualizing the Cost Function Trajectory with different learning rates\")\n",
    "for (lr, loss_curve) in zip(tests_learning_rate_init, loss_curves):\n",
    "    plt.plot(\n",
    "        range(1, len(loss_curve) + 1),\n",
    "        loss_curve,\n",
    "        label=f'learning rate = {str(lr)}',\n",
    "    )\n",
    "\n",
    "plt.xlabel('number of iterations')\n",
    "plt.ylabel('loss function')\n",
    "plt.legend(loc='upper right')\n",
    "plt.show()"
   ]
  },
  {
   "attachments": {},
   "cell_type": "markdown",
   "metadata": {},
   "source": [
    "Optimizamos la arquitectura del modelo de red neuronal de perceptrón multicapa, combinando distintos parámetros hasta encontrar la arquitectura que ofrezca la mejor precisión en la predicción."
   ]
  },
  {
   "cell_type": "code",
   "execution_count": 13,
   "metadata": {},
   "outputs": [
    {
     "data": {
      "text/html": [
       "<pre style=\"white-space:pre;overflow-x:auto;line-height:normal;font-family:Menlo,'DejaVu Sans Mono',consolas,'Courier New',monospace\">Architecture optimization\n",
       "</pre>\n"
      ],
      "text/plain": [
       "Architecture optimization\n"
      ]
     },
     "metadata": {},
     "output_type": "display_data"
    },
    {
     "data": {
      "text/html": [
       "<pre style=\"white-space:pre;overflow-x:auto;line-height:normal;font-family:Menlo,'DejaVu Sans Mono',consolas,'Courier New',monospace\">Seed = <span style=\"color: #008080; text-decoration-color: #008080; font-weight: bold\">0</span>, train acc = <span style=\"color: #008080; text-decoration-color: #008080; font-weight: bold\">0.99160790</span>, valid acc = <span style=\"color: #008080; text-decoration-color: #008080; font-weight: bold\">0.99098180</span>, iterations = <span style=\"color: #008080; text-decoration-color: #008080; font-weight: bold\">50</span>\n",
       "</pre>\n"
      ],
      "text/plain": [
       "Seed = \u001b[1;36m0\u001b[0m, train acc = \u001b[1;36m0.99160790\u001b[0m, valid acc = \u001b[1;36m0.99098180\u001b[0m, iterations = \u001b[1;36m50\u001b[0m\n"
      ]
     },
     "metadata": {},
     "output_type": "display_data"
    },
    {
     "data": {
      "text/html": [
       "<pre style=\"white-space:pre;overflow-x:auto;line-height:normal;font-family:Menlo,'DejaVu Sans Mono',consolas,'Courier New',monospace\">Seed = <span style=\"color: #008080; text-decoration-color: #008080; font-weight: bold\">1</span>, train acc = <span style=\"color: #008080; text-decoration-color: #008080; font-weight: bold\">0.99094314</span>, valid acc = <span style=\"color: #008080; text-decoration-color: #008080; font-weight: bold\">0.99039794</span>, iterations = <span style=\"color: #008080; text-decoration-color: #008080; font-weight: bold\">65</span>\n",
       "</pre>\n"
      ],
      "text/plain": [
       "Seed = \u001b[1;36m1\u001b[0m, train acc = \u001b[1;36m0.99094314\u001b[0m, valid acc = \u001b[1;36m0.99039794\u001b[0m, iterations = \u001b[1;36m65\u001b[0m\n"
      ]
     },
     "metadata": {},
     "output_type": "display_data"
    },
    {
     "data": {
      "text/html": [
       "<pre style=\"white-space:pre;overflow-x:auto;line-height:normal;font-family:Menlo,'DejaVu Sans Mono',consolas,'Courier New',monospace\">Seed = <span style=\"color: #008080; text-decoration-color: #008080; font-weight: bold\">2</span>, train acc = <span style=\"color: #008080; text-decoration-color: #008080; font-weight: bold\">0.99167121</span>, valid acc = <span style=\"color: #008080; text-decoration-color: #008080; font-weight: bold\">0.99137573</span>, iterations = <span style=\"color: #008080; text-decoration-color: #008080; font-weight: bold\">125</span>\n",
       "</pre>\n"
      ],
      "text/plain": [
       "Seed = \u001b[1;36m2\u001b[0m, train acc = \u001b[1;36m0.99167121\u001b[0m, valid acc = \u001b[1;36m0.99137573\u001b[0m, iterations = \u001b[1;36m125\u001b[0m\n"
      ]
     },
     "metadata": {},
     "output_type": "display_data"
    },
    {
     "data": {
      "text/html": [
       "<pre style=\"white-space:pre;overflow-x:auto;line-height:normal;font-family:Menlo,'DejaVu Sans Mono',consolas,'Courier New',monospace\">Seed = <span style=\"color: #008080; text-decoration-color: #008080; font-weight: bold\">3</span>, train acc = <span style=\"color: #008080; text-decoration-color: #008080; font-weight: bold\">0.99377451</span>, valid acc = <span style=\"color: #008080; text-decoration-color: #008080; font-weight: bold\">0.99301477</span>, iterations = <span style=\"color: #008080; text-decoration-color: #008080; font-weight: bold\">90</span>\n",
       "</pre>\n"
      ],
      "text/plain": [
       "Seed = \u001b[1;36m3\u001b[0m, train acc = \u001b[1;36m0.99377451\u001b[0m, valid acc = \u001b[1;36m0.99301477\u001b[0m, iterations = \u001b[1;36m90\u001b[0m\n"
      ]
     },
     "metadata": {},
     "output_type": "display_data"
    },
    {
     "data": {
      "text/html": [
       "<pre style=\"white-space:pre;overflow-x:auto;line-height:normal;font-family:Menlo,'DejaVu Sans Mono',consolas,'Courier New',monospace\">Seed = <span style=\"color: #008080; text-decoration-color: #008080; font-weight: bold\">4</span>, train acc = <span style=\"color: #008080; text-decoration-color: #008080; font-weight: bold\">0.99213900</span>, valid acc = <span style=\"color: #008080; text-decoration-color: #008080; font-weight: bold\">0.99172746</span>, iterations = <span style=\"color: #008080; text-decoration-color: #008080; font-weight: bold\">115</span>\n",
       "</pre>\n"
      ],
      "text/plain": [
       "Seed = \u001b[1;36m4\u001b[0m, train acc = \u001b[1;36m0.99213900\u001b[0m, valid acc = \u001b[1;36m0.99172746\u001b[0m, iterations = \u001b[1;36m115\u001b[0m\n"
      ]
     },
     "metadata": {},
     "output_type": "display_data"
    },
    {
     "data": {
      "text/html": [
       "<pre style=\"white-space:pre;overflow-x:auto;line-height:normal;font-family:Menlo,'DejaVu Sans Mono',consolas,'Courier New',monospace\">Number hidden units = <span style=\"color: #008080; text-decoration-color: #008080; font-weight: bold\">10</span>, train acc = <span style=\"color: #008080; text-decoration-color: #008080; font-weight: bold\">0.99377451</span>, max valid acc = <span style=\"color: #008080; text-decoration-color: #008080; font-weight: bold\">0.99301477</span>\n",
       "</pre>\n"
      ],
      "text/plain": [
       "Number hidden units = \u001b[1;36m10\u001b[0m, train acc = \u001b[1;36m0.99377451\u001b[0m, max valid acc = \u001b[1;36m0.99301477\u001b[0m\n"
      ]
     },
     "metadata": {},
     "output_type": "display_data"
    },
    {
     "data": {
      "text/html": [
       "<pre style=\"white-space:pre;overflow-x:auto;line-height:normal;font-family:Menlo,'DejaVu Sans Mono',consolas,'Courier New',monospace\">Seed = <span style=\"color: #008080; text-decoration-color: #008080; font-weight: bold\">0</span>, train acc = <span style=\"color: #008080; text-decoration-color: #008080; font-weight: bold\">0.99899759</span>, valid acc = <span style=\"color: #008080; text-decoration-color: #008080; font-weight: bold\">0.99871269</span>, iterations = <span style=\"color: #008080; text-decoration-color: #008080; font-weight: bold\">30</span>\n",
       "</pre>\n"
      ],
      "text/plain": [
       "Seed = \u001b[1;36m0\u001b[0m, train acc = \u001b[1;36m0.99899759\u001b[0m, valid acc = \u001b[1;36m0.99871269\u001b[0m, iterations = \u001b[1;36m30\u001b[0m\n"
      ]
     },
     "metadata": {},
     "output_type": "display_data"
    },
    {
     "data": {
      "text/html": [
       "<pre style=\"white-space:pre;overflow-x:auto;line-height:normal;font-family:Menlo,'DejaVu Sans Mono',consolas,'Courier New',monospace\">Seed = <span style=\"color: #008080; text-decoration-color: #008080; font-weight: bold\">1</span>, train acc = <span style=\"color: #008080; text-decoration-color: #008080; font-weight: bold\">0.99844539</span>, valid acc = <span style=\"color: #008080; text-decoration-color: #008080; font-weight: bold\">0.99791076</span>, iterations = <span style=\"color: #008080; text-decoration-color: #008080; font-weight: bold\">20</span>\n",
       "</pre>\n"
      ],
      "text/plain": [
       "Seed = \u001b[1;36m1\u001b[0m, train acc = \u001b[1;36m0.99844539\u001b[0m, valid acc = \u001b[1;36m0.99791076\u001b[0m, iterations = \u001b[1;36m20\u001b[0m\n"
      ]
     },
     "metadata": {},
     "output_type": "display_data"
    },
    {
     "data": {
      "text/html": [
       "<pre style=\"white-space:pre;overflow-x:auto;line-height:normal;font-family:Menlo,'DejaVu Sans Mono',consolas,'Courier New',monospace\">Seed = <span style=\"color: #008080; text-decoration-color: #008080; font-weight: bold\">2</span>, train acc = <span style=\"color: #008080; text-decoration-color: #008080; font-weight: bold\">0.99860014</span>, valid acc = <span style=\"color: #008080; text-decoration-color: #008080; font-weight: bold\">0.99815697</span>, iterations = <span style=\"color: #008080; text-decoration-color: #008080; font-weight: bold\">20</span>\n",
       "</pre>\n"
      ],
      "text/plain": [
       "Seed = \u001b[1;36m2\u001b[0m, train acc = \u001b[1;36m0.99860014\u001b[0m, valid acc = \u001b[1;36m0.99815697\u001b[0m, iterations = \u001b[1;36m20\u001b[0m\n"
      ]
     },
     "metadata": {},
     "output_type": "display_data"
    },
    {
     "data": {
      "text/html": [
       "<pre style=\"white-space:pre;overflow-x:auto;line-height:normal;font-family:Menlo,'DejaVu Sans Mono',consolas,'Courier New',monospace\">Seed = <span style=\"color: #008080; text-decoration-color: #008080; font-weight: bold\">3</span>, train acc = <span style=\"color: #008080; text-decoration-color: #008080; font-weight: bold\">0.99913476</span>, valid acc = <span style=\"color: #008080; text-decoration-color: #008080; font-weight: bold\">0.99869159</span>, iterations = <span style=\"color: #008080; text-decoration-color: #008080; font-weight: bold\">25</span>\n",
       "</pre>\n"
      ],
      "text/plain": [
       "Seed = \u001b[1;36m3\u001b[0m, train acc = \u001b[1;36m0.99913476\u001b[0m, valid acc = \u001b[1;36m0.99869159\u001b[0m, iterations = \u001b[1;36m25\u001b[0m\n"
      ]
     },
     "metadata": {},
     "output_type": "display_data"
    },
    {
     "data": {
      "text/html": [
       "<pre style=\"white-space:pre;overflow-x:auto;line-height:normal;font-family:Menlo,'DejaVu Sans Mono',consolas,'Courier New',monospace\">Seed = <span style=\"color: #008080; text-decoration-color: #008080; font-weight: bold\">4</span>, train acc = <span style=\"color: #008080; text-decoration-color: #008080; font-weight: bold\">0.99770325</span>, valid acc = <span style=\"color: #008080; text-decoration-color: #008080; font-weight: bold\">0.99735504</span>, iterations = <span style=\"color: #008080; text-decoration-color: #008080; font-weight: bold\">20</span>\n",
       "</pre>\n"
      ],
      "text/plain": [
       "Seed = \u001b[1;36m4\u001b[0m, train acc = \u001b[1;36m0.99770325\u001b[0m, valid acc = \u001b[1;36m0.99735504\u001b[0m, iterations = \u001b[1;36m20\u001b[0m\n"
      ]
     },
     "metadata": {},
     "output_type": "display_data"
    },
    {
     "data": {
      "text/html": [
       "<pre style=\"white-space:pre;overflow-x:auto;line-height:normal;font-family:Menlo,'DejaVu Sans Mono',consolas,'Courier New',monospace\">Number hidden units = <span style=\"color: #008080; text-decoration-color: #008080; font-weight: bold\">30</span>, train acc = <span style=\"color: #008080; text-decoration-color: #008080; font-weight: bold\">0.99899759</span>, max valid acc = <span style=\"color: #008080; text-decoration-color: #008080; font-weight: bold\">0.99871269</span>\n",
       "</pre>\n"
      ],
      "text/plain": [
       "Number hidden units = \u001b[1;36m30\u001b[0m, train acc = \u001b[1;36m0.99899759\u001b[0m, max valid acc = \u001b[1;36m0.99871269\u001b[0m\n"
      ]
     },
     "metadata": {},
     "output_type": "display_data"
    },
    {
     "data": {
      "text/html": [
       "<pre style=\"white-space:pre;overflow-x:auto;line-height:normal;font-family:Menlo,'DejaVu Sans Mono',consolas,'Courier New',monospace\">Seed = <span style=\"color: #008080; text-decoration-color: #008080; font-weight: bold\">0</span>, train acc = <span style=\"color: #008080; text-decoration-color: #008080; font-weight: bold\">0.99966586</span>, valid acc = <span style=\"color: #008080; text-decoration-color: #008080; font-weight: bold\">0.99928248</span>, iterations = <span style=\"color: #008080; text-decoration-color: #008080; font-weight: bold\">25</span>\n",
       "</pre>\n"
      ],
      "text/plain": [
       "Seed = \u001b[1;36m0\u001b[0m, train acc = \u001b[1;36m0.99966586\u001b[0m, valid acc = \u001b[1;36m0.99928248\u001b[0m, iterations = \u001b[1;36m25\u001b[0m\n"
      ]
     },
     "metadata": {},
     "output_type": "display_data"
    },
    {
     "data": {
      "text/html": [
       "<pre style=\"white-space:pre;overflow-x:auto;line-height:normal;font-family:Menlo,'DejaVu Sans Mono',consolas,'Courier New',monospace\">Seed = <span style=\"color: #008080; text-decoration-color: #008080; font-weight: bold\">1</span>, train acc = <span style=\"color: #008080; text-decoration-color: #008080; font-weight: bold\">0.99947945</span>, valid acc = <span style=\"color: #008080; text-decoration-color: #008080; font-weight: bold\">0.99895186</span>, iterations = <span style=\"color: #008080; text-decoration-color: #008080; font-weight: bold\">30</span>\n",
       "</pre>\n"
      ],
      "text/plain": [
       "Seed = \u001b[1;36m1\u001b[0m, train acc = \u001b[1;36m0.99947945\u001b[0m, valid acc = \u001b[1;36m0.99895186\u001b[0m, iterations = \u001b[1;36m30\u001b[0m\n"
      ]
     },
     "metadata": {},
     "output_type": "display_data"
    },
    {
     "data": {
      "text/html": [
       "<pre style=\"white-space:pre;overflow-x:auto;line-height:normal;font-family:Menlo,'DejaVu Sans Mono',consolas,'Courier New',monospace\">Seed = <span style=\"color: #008080; text-decoration-color: #008080; font-weight: bold\">2</span>, train acc = <span style=\"color: #008080; text-decoration-color: #008080; font-weight: bold\">0.99922269</span>, valid acc = <span style=\"color: #008080; text-decoration-color: #008080; font-weight: bold\">0.99869862</span>, iterations = <span style=\"color: #008080; text-decoration-color: #008080; font-weight: bold\">35</span>\n",
       "</pre>\n"
      ],
      "text/plain": [
       "Seed = \u001b[1;36m2\u001b[0m, train acc = \u001b[1;36m0.99922269\u001b[0m, valid acc = \u001b[1;36m0.99869862\u001b[0m, iterations = \u001b[1;36m35\u001b[0m\n"
      ]
     },
     "metadata": {},
     "output_type": "display_data"
    },
    {
     "data": {
      "text/html": [
       "<pre style=\"white-space:pre;overflow-x:auto;line-height:normal;font-family:Menlo,'DejaVu Sans Mono',consolas,'Courier New',monospace\">Seed = <span style=\"color: #008080; text-decoration-color: #008080; font-weight: bold\">3</span>, train acc = <span style=\"color: #008080; text-decoration-color: #008080; font-weight: bold\">0.99961311</span>, valid acc = <span style=\"color: #008080; text-decoration-color: #008080; font-weight: bold\">0.99909255</span>, iterations = <span style=\"color: #008080; text-decoration-color: #008080; font-weight: bold\">30</span>\n",
       "</pre>\n"
      ],
      "text/plain": [
       "Seed = \u001b[1;36m3\u001b[0m, train acc = \u001b[1;36m0.99961311\u001b[0m, valid acc = \u001b[1;36m0.99909255\u001b[0m, iterations = \u001b[1;36m30\u001b[0m\n"
      ]
     },
     "metadata": {},
     "output_type": "display_data"
    },
    {
     "data": {
      "text/html": [
       "<pre style=\"white-space:pre;overflow-x:auto;line-height:normal;font-family:Menlo,'DejaVu Sans Mono',consolas,'Courier New',monospace\">Seed = <span style=\"color: #008080; text-decoration-color: #008080; font-weight: bold\">4</span>, train acc = <span style=\"color: #008080; text-decoration-color: #008080; font-weight: bold\">0.99958497</span>, valid acc = <span style=\"color: #008080; text-decoration-color: #008080; font-weight: bold\">0.99930359</span>, iterations = <span style=\"color: #008080; text-decoration-color: #008080; font-weight: bold\">20</span>\n",
       "</pre>\n"
      ],
      "text/plain": [
       "Seed = \u001b[1;36m4\u001b[0m, train acc = \u001b[1;36m0.99958497\u001b[0m, valid acc = \u001b[1;36m0.99930359\u001b[0m, iterations = \u001b[1;36m20\u001b[0m\n"
      ]
     },
     "metadata": {},
     "output_type": "display_data"
    },
    {
     "data": {
      "text/html": [
       "<pre style=\"white-space:pre;overflow-x:auto;line-height:normal;font-family:Menlo,'DejaVu Sans Mono',consolas,'Courier New',monospace\">Number hidden units = <span style=\"color: #008080; text-decoration-color: #008080; font-weight: bold\">50</span>, train acc = <span style=\"color: #008080; text-decoration-color: #008080; font-weight: bold\">0.99958497</span>, max valid acc = <span style=\"color: #008080; text-decoration-color: #008080; font-weight: bold\">0.99930359</span>\n",
       "</pre>\n"
      ],
      "text/plain": [
       "Number hidden units = \u001b[1;36m50\u001b[0m, train acc = \u001b[1;36m0.99958497\u001b[0m, max valid acc = \u001b[1;36m0.99930359\u001b[0m\n"
      ]
     },
     "metadata": {},
     "output_type": "display_data"
    },
    {
     "data": {
      "text/html": [
       "<pre style=\"white-space:pre;overflow-x:auto;line-height:normal;font-family:Menlo,'DejaVu Sans Mono',consolas,'Courier New',monospace\">Seed = <span style=\"color: #008080; text-decoration-color: #008080; font-weight: bold\">0</span>, train acc = <span style=\"color: #008080; text-decoration-color: #008080; font-weight: bold\">0.99961662</span>, valid acc = <span style=\"color: #008080; text-decoration-color: #008080; font-weight: bold\">0.99917697</span>, iterations = <span style=\"color: #008080; text-decoration-color: #008080; font-weight: bold\">25</span>\n",
       "</pre>\n"
      ],
      "text/plain": [
       "Seed = \u001b[1;36m0\u001b[0m, train acc = \u001b[1;36m0.99961662\u001b[0m, valid acc = \u001b[1;36m0.99917697\u001b[0m, iterations = \u001b[1;36m25\u001b[0m\n"
      ]
     },
     "metadata": {},
     "output_type": "display_data"
    },
    {
     "data": {
      "text/html": [
       "<pre style=\"white-space:pre;overflow-x:auto;line-height:normal;font-family:Menlo,'DejaVu Sans Mono',consolas,'Courier New',monospace\">Seed = <span style=\"color: #008080; text-decoration-color: #008080; font-weight: bold\">1</span>, train acc = <span style=\"color: #008080; text-decoration-color: #008080; font-weight: bold\">0.99934228</span>, valid acc = <span style=\"color: #008080; text-decoration-color: #008080; font-weight: bold\">0.99903628</span>, iterations = <span style=\"color: #008080; text-decoration-color: #008080; font-weight: bold\">20</span>\n",
       "</pre>\n"
      ],
      "text/plain": [
       "Seed = \u001b[1;36m1\u001b[0m, train acc = \u001b[1;36m0.99934228\u001b[0m, valid acc = \u001b[1;36m0.99903628\u001b[0m, iterations = \u001b[1;36m20\u001b[0m\n"
      ]
     },
     "metadata": {},
     "output_type": "display_data"
    },
    {
     "data": {
      "text/html": [
       "<pre style=\"white-space:pre;overflow-x:auto;line-height:normal;font-family:Menlo,'DejaVu Sans Mono',consolas,'Courier New',monospace\">Seed = <span style=\"color: #008080; text-decoration-color: #008080; font-weight: bold\">2</span>, train acc = <span style=\"color: #008080; text-decoration-color: #008080; font-weight: bold\">0.99952869</span>, valid acc = <span style=\"color: #008080; text-decoration-color: #008080; font-weight: bold\">0.99918400</span>, iterations = <span style=\"color: #008080; text-decoration-color: #008080; font-weight: bold\">25</span>\n",
       "</pre>\n"
      ],
      "text/plain": [
       "Seed = \u001b[1;36m2\u001b[0m, train acc = \u001b[1;36m0.99952869\u001b[0m, valid acc = \u001b[1;36m0.99918400\u001b[0m, iterations = \u001b[1;36m25\u001b[0m\n"
      ]
     },
     "metadata": {},
     "output_type": "display_data"
    },
    {
     "data": {
      "text/html": [
       "<pre style=\"white-space:pre;overflow-x:auto;line-height:normal;font-family:Menlo,'DejaVu Sans Mono',consolas,'Courier New',monospace\">Seed = <span style=\"color: #008080; text-decoration-color: #008080; font-weight: bold\">3</span>, train acc = <span style=\"color: #008080; text-decoration-color: #008080; font-weight: bold\">0.99944076</span>, valid acc = <span style=\"color: #008080; text-decoration-color: #008080; font-weight: bold\">0.99909959</span>, iterations = <span style=\"color: #008080; text-decoration-color: #008080; font-weight: bold\">20</span>\n",
       "</pre>\n"
      ],
      "text/plain": [
       "Seed = \u001b[1;36m3\u001b[0m, train acc = \u001b[1;36m0.99944076\u001b[0m, valid acc = \u001b[1;36m0.99909959\u001b[0m, iterations = \u001b[1;36m20\u001b[0m\n"
      ]
     },
     "metadata": {},
     "output_type": "display_data"
    },
    {
     "data": {
      "text/html": [
       "<pre style=\"white-space:pre;overflow-x:auto;line-height:normal;font-family:Menlo,'DejaVu Sans Mono',consolas,'Courier New',monospace\">Seed = <span style=\"color: #008080; text-decoration-color: #008080; font-weight: bold\">4</span>, train acc = <span style=\"color: #008080; text-decoration-color: #008080; font-weight: bold\">0.99903980</span>, valid acc = <span style=\"color: #008080; text-decoration-color: #008080; font-weight: bold\">0.99885338</span>, iterations = <span style=\"color: #008080; text-decoration-color: #008080; font-weight: bold\">25</span>\n",
       "</pre>\n"
      ],
      "text/plain": [
       "Seed = \u001b[1;36m4\u001b[0m, train acc = \u001b[1;36m0.99903980\u001b[0m, valid acc = \u001b[1;36m0.99885338\u001b[0m, iterations = \u001b[1;36m25\u001b[0m\n"
      ]
     },
     "metadata": {},
     "output_type": "display_data"
    },
    {
     "data": {
      "text/html": [
       "<pre style=\"white-space:pre;overflow-x:auto;line-height:normal;font-family:Menlo,'DejaVu Sans Mono',consolas,'Courier New',monospace\">Number hidden units = <span style=\"color: #008080; text-decoration-color: #008080; font-weight: bold\">70</span>, train acc = <span style=\"color: #008080; text-decoration-color: #008080; font-weight: bold\">0.99952869</span>, max valid acc = <span style=\"color: #008080; text-decoration-color: #008080; font-weight: bold\">0.99918400</span>\n",
       "</pre>\n"
      ],
      "text/plain": [
       "Number hidden units = \u001b[1;36m70\u001b[0m, train acc = \u001b[1;36m0.99952869\u001b[0m, max valid acc = \u001b[1;36m0.99918400\u001b[0m\n"
      ]
     },
     "metadata": {},
     "output_type": "display_data"
    },
    {
     "data": {
      "text/html": [
       "<pre style=\"white-space:pre;overflow-x:auto;line-height:normal;font-family:Menlo,'DejaVu Sans Mono',consolas,'Courier New',monospace\">Seed = <span style=\"color: #008080; text-decoration-color: #008080; font-weight: bold\">0</span>, train acc = <span style=\"color: #008080; text-decoration-color: #008080; font-weight: bold\">0.99862828</span>, valid acc = <span style=\"color: #008080; text-decoration-color: #008080; font-weight: bold\">0.99820621</span>, iterations = <span style=\"color: #008080; text-decoration-color: #008080; font-weight: bold\">15</span>\n",
       "</pre>\n"
      ],
      "text/plain": [
       "Seed = \u001b[1;36m0\u001b[0m, train acc = \u001b[1;36m0.99862828\u001b[0m, valid acc = \u001b[1;36m0.99820621\u001b[0m, iterations = \u001b[1;36m15\u001b[0m\n"
      ]
     },
     "metadata": {},
     "output_type": "display_data"
    },
    {
     "data": {
      "text/html": [
       "<pre style=\"white-space:pre;overflow-x:auto;line-height:normal;font-family:Menlo,'DejaVu Sans Mono',consolas,'Courier New',monospace\">Seed = <span style=\"color: #008080; text-decoration-color: #008080; font-weight: bold\">1</span>, train acc = <span style=\"color: #008080; text-decoration-color: #008080; font-weight: bold\">0.99933173</span>, valid acc = <span style=\"color: #008080; text-decoration-color: #008080; font-weight: bold\">0.99891669</span>, iterations = <span style=\"color: #008080; text-decoration-color: #008080; font-weight: bold\">15</span>\n",
       "</pre>\n"
      ],
      "text/plain": [
       "Seed = \u001b[1;36m1\u001b[0m, train acc = \u001b[1;36m0.99933173\u001b[0m, valid acc = \u001b[1;36m0.99891669\u001b[0m, iterations = \u001b[1;36m15\u001b[0m\n"
      ]
     },
     "metadata": {},
     "output_type": "display_data"
    },
    {
     "data": {
      "text/html": [
       "<pre style=\"white-space:pre;overflow-x:auto;line-height:normal;font-family:Menlo,'DejaVu Sans Mono',consolas,'Courier New',monospace\">Seed = <span style=\"color: #008080; text-decoration-color: #008080; font-weight: bold\">2</span>, train acc = <span style=\"color: #008080; text-decoration-color: #008080; font-weight: bold\">0.99913476</span>, valid acc = <span style=\"color: #008080; text-decoration-color: #008080; font-weight: bold\">0.99895890</span>, iterations = <span style=\"color: #008080; text-decoration-color: #008080; font-weight: bold\">10</span>\n",
       "</pre>\n"
      ],
      "text/plain": [
       "Seed = \u001b[1;36m2\u001b[0m, train acc = \u001b[1;36m0.99913476\u001b[0m, valid acc = \u001b[1;36m0.99895890\u001b[0m, iterations = \u001b[1;36m10\u001b[0m\n"
      ]
     },
     "metadata": {},
     "output_type": "display_data"
    },
    {
     "data": {
      "text/html": [
       "<pre style=\"white-space:pre;overflow-x:auto;line-height:normal;font-family:Menlo,'DejaVu Sans Mono',consolas,'Courier New',monospace\">Seed = <span style=\"color: #008080; text-decoration-color: #008080; font-weight: bold\">3</span>, train acc = <span style=\"color: #008080; text-decoration-color: #008080; font-weight: bold\">0.99962014</span>, valid acc = <span style=\"color: #008080; text-decoration-color: #008080; font-weight: bold\">0.99928952</span>, iterations = <span style=\"color: #008080; text-decoration-color: #008080; font-weight: bold\">15</span>\n",
       "</pre>\n"
      ],
      "text/plain": [
       "Seed = \u001b[1;36m3\u001b[0m, train acc = \u001b[1;36m0.99962014\u001b[0m, valid acc = \u001b[1;36m0.99928952\u001b[0m, iterations = \u001b[1;36m15\u001b[0m\n"
      ]
     },
     "metadata": {},
     "output_type": "display_data"
    },
    {
     "data": {
      "text/html": [
       "<pre style=\"white-space:pre;overflow-x:auto;line-height:normal;font-family:Menlo,'DejaVu Sans Mono',consolas,'Courier New',monospace\">Seed = <span style=\"color: #008080; text-decoration-color: #008080; font-weight: bold\">4</span>, train acc = <span style=\"color: #008080; text-decoration-color: #008080; font-weight: bold\">0.99973973</span>, valid acc = <span style=\"color: #008080; text-decoration-color: #008080; font-weight: bold\">0.99946538</span>, iterations = <span style=\"color: #008080; text-decoration-color: #008080; font-weight: bold\">30</span>\n",
       "</pre>\n"
      ],
      "text/plain": [
       "Seed = \u001b[1;36m4\u001b[0m, train acc = \u001b[1;36m0.99973973\u001b[0m, valid acc = \u001b[1;36m0.99946538\u001b[0m, iterations = \u001b[1;36m30\u001b[0m\n"
      ]
     },
     "metadata": {},
     "output_type": "display_data"
    },
    {
     "data": {
      "text/html": [
       "<pre style=\"white-space:pre;overflow-x:auto;line-height:normal;font-family:Menlo,'DejaVu Sans Mono',consolas,'Courier New',monospace\">Number hidden units = <span style=\"color: #008080; text-decoration-color: #008080; font-weight: bold\">90</span>, train acc = <span style=\"color: #008080; text-decoration-color: #008080; font-weight: bold\">0.99973973</span>, max valid acc = <span style=\"color: #008080; text-decoration-color: #008080; font-weight: bold\">0.99946538</span>\n",
       "</pre>\n"
      ],
      "text/plain": [
       "Number hidden units = \u001b[1;36m90\u001b[0m, train acc = \u001b[1;36m0.99973973\u001b[0m, max valid acc = \u001b[1;36m0.99946538\u001b[0m\n"
      ]
     },
     "metadata": {},
     "output_type": "display_data"
    },
    {
     "data": {
      "text/html": [
       "<pre style=\"white-space:pre;overflow-x:auto;line-height:normal;font-family:Menlo,'DejaVu Sans Mono',consolas,'Courier New',monospace\">Seed = <span style=\"color: #008080; text-decoration-color: #008080; font-weight: bold\">0</span>, train acc = <span style=\"color: #008080; text-decoration-color: #008080; font-weight: bold\">0.99973621</span>, valid acc = <span style=\"color: #008080; text-decoration-color: #008080; font-weight: bold\">0.99938800</span>, iterations = <span style=\"color: #008080; text-decoration-color: #008080; font-weight: bold\">25</span>\n",
       "</pre>\n"
      ],
      "text/plain": [
       "Seed = \u001b[1;36m0\u001b[0m, train acc = \u001b[1;36m0.99973621\u001b[0m, valid acc = \u001b[1;36m0.99938800\u001b[0m, iterations = \u001b[1;36m25\u001b[0m\n"
      ]
     },
     "metadata": {},
     "output_type": "display_data"
    },
    {
     "data": {
      "text/html": [
       "<pre style=\"white-space:pre;overflow-x:auto;line-height:normal;font-family:Menlo,'DejaVu Sans Mono',consolas,'Courier New',monospace\">Seed = <span style=\"color: #008080; text-decoration-color: #008080; font-weight: bold\">1</span>, train acc = <span style=\"color: #008080; text-decoration-color: #008080; font-weight: bold\">0.99972214</span>, valid acc = <span style=\"color: #008080; text-decoration-color: #008080; font-weight: bold\">0.99926138</span>, iterations = <span style=\"color: #008080; text-decoration-color: #008080; font-weight: bold\">20</span>\n",
       "</pre>\n"
      ],
      "text/plain": [
       "Seed = \u001b[1;36m1\u001b[0m, train acc = \u001b[1;36m0.99972214\u001b[0m, valid acc = \u001b[1;36m0.99926138\u001b[0m, iterations = \u001b[1;36m20\u001b[0m\n"
      ]
     },
     "metadata": {},
     "output_type": "display_data"
    },
    {
     "data": {
      "text/html": [
       "<pre style=\"white-space:pre;overflow-x:auto;line-height:normal;font-family:Menlo,'DejaVu Sans Mono',consolas,'Courier New',monospace\">Seed = <span style=\"color: #008080; text-decoration-color: #008080; font-weight: bold\">2</span>, train acc = <span style=\"color: #008080; text-decoration-color: #008080; font-weight: bold\">0.99927193</span>, valid acc = <span style=\"color: #008080; text-decoration-color: #008080; font-weight: bold\">0.99894483</span>, iterations = <span style=\"color: #008080; text-decoration-color: #008080; font-weight: bold\">15</span>\n",
       "</pre>\n"
      ],
      "text/plain": [
       "Seed = \u001b[1;36m2\u001b[0m, train acc = \u001b[1;36m0.99927193\u001b[0m, valid acc = \u001b[1;36m0.99894483\u001b[0m, iterations = \u001b[1;36m15\u001b[0m\n"
      ]
     },
     "metadata": {},
     "output_type": "display_data"
    },
    {
     "data": {
      "text/html": [
       "<pre style=\"white-space:pre;overflow-x:auto;line-height:normal;font-family:Menlo,'DejaVu Sans Mono',consolas,'Courier New',monospace\">Seed = <span style=\"color: #008080; text-decoration-color: #008080; font-weight: bold\">3</span>, train acc = <span style=\"color: #008080; text-decoration-color: #008080; font-weight: bold\">0.99964476</span>, valid acc = <span style=\"color: #008080; text-decoration-color: #008080; font-weight: bold\">0.99924731</span>, iterations = <span style=\"color: #008080; text-decoration-color: #008080; font-weight: bold\">15</span>\n",
       "</pre>\n"
      ],
      "text/plain": [
       "Seed = \u001b[1;36m3\u001b[0m, train acc = \u001b[1;36m0.99964476\u001b[0m, valid acc = \u001b[1;36m0.99924731\u001b[0m, iterations = \u001b[1;36m15\u001b[0m\n"
      ]
     },
     "metadata": {},
     "output_type": "display_data"
    },
    {
     "data": {
      "text/html": [
       "<pre style=\"white-space:pre;overflow-x:auto;line-height:normal;font-family:Menlo,'DejaVu Sans Mono',consolas,'Courier New',monospace\">Seed = <span style=\"color: #008080; text-decoration-color: #008080; font-weight: bold\">4</span>, train acc = <span style=\"color: #008080; text-decoration-color: #008080; font-weight: bold\">0.99980304</span>, valid acc = <span style=\"color: #008080; text-decoration-color: #008080; font-weight: bold\">0.99957090</span>, iterations = <span style=\"color: #008080; text-decoration-color: #008080; font-weight: bold\">20</span>\n",
       "</pre>\n"
      ],
      "text/plain": [
       "Seed = \u001b[1;36m4\u001b[0m, train acc = \u001b[1;36m0.99980304\u001b[0m, valid acc = \u001b[1;36m0.99957090\u001b[0m, iterations = \u001b[1;36m20\u001b[0m\n"
      ]
     },
     "metadata": {},
     "output_type": "display_data"
    },
    {
     "data": {
      "text/html": [
       "<pre style=\"white-space:pre;overflow-x:auto;line-height:normal;font-family:Menlo,'DejaVu Sans Mono',consolas,'Courier New',monospace\">Number hidden units = <span style=\"color: #008080; text-decoration-color: #008080; font-weight: bold\">110</span>, train acc = <span style=\"color: #008080; text-decoration-color: #008080; font-weight: bold\">0.99980304</span>, max valid acc = <span style=\"color: #008080; text-decoration-color: #008080; font-weight: bold\">0.99957090</span>\n",
       "</pre>\n"
      ],
      "text/plain": [
       "Number hidden units = \u001b[1;36m110\u001b[0m, train acc = \u001b[1;36m0.99980304\u001b[0m, max valid acc = \u001b[1;36m0.99957090\u001b[0m\n"
      ]
     },
     "metadata": {},
     "output_type": "display_data"
    },
    {
     "data": {
      "text/html": [
       "<pre style=\"white-space:pre;overflow-x:auto;line-height:normal;font-family:Menlo,'DejaVu Sans Mono',consolas,'Courier New',monospace\">Seed = <span style=\"color: #008080; text-decoration-color: #008080; font-weight: bold\">0</span>, train acc = <span style=\"color: #008080; text-decoration-color: #008080; font-weight: bold\">0.99962366</span>, valid acc = <span style=\"color: #008080; text-decoration-color: #008080; font-weight: bold\">0.99916993</span>, iterations = <span style=\"color: #008080; text-decoration-color: #008080; font-weight: bold\">20</span>\n",
       "</pre>\n"
      ],
      "text/plain": [
       "Seed = \u001b[1;36m0\u001b[0m, train acc = \u001b[1;36m0.99962366\u001b[0m, valid acc = \u001b[1;36m0.99916993\u001b[0m, iterations = \u001b[1;36m20\u001b[0m\n"
      ]
     },
     "metadata": {},
     "output_type": "display_data"
    },
    {
     "data": {
      "text/html": [
       "<pre style=\"white-space:pre;overflow-x:auto;line-height:normal;font-family:Menlo,'DejaVu Sans Mono',consolas,'Courier New',monospace\">Seed = <span style=\"color: #008080; text-decoration-color: #008080; font-weight: bold\">1</span>, train acc = <span style=\"color: #008080; text-decoration-color: #008080; font-weight: bold\">0.99928249</span>, valid acc = <span style=\"color: #008080; text-decoration-color: #008080; font-weight: bold\">0.99878304</span>, iterations = <span style=\"color: #008080; text-decoration-color: #008080; font-weight: bold\">20</span>\n",
       "</pre>\n"
      ],
      "text/plain": [
       "Seed = \u001b[1;36m1\u001b[0m, train acc = \u001b[1;36m0.99928249\u001b[0m, valid acc = \u001b[1;36m0.99878304\u001b[0m, iterations = \u001b[1;36m20\u001b[0m\n"
      ]
     },
     "metadata": {},
     "output_type": "display_data"
    },
    {
     "data": {
      "text/html": [
       "<pre style=\"white-space:pre;overflow-x:auto;line-height:normal;font-family:Menlo,'DejaVu Sans Mono',consolas,'Courier New',monospace\">Seed = <span style=\"color: #008080; text-decoration-color: #008080; font-weight: bold\">2</span>, train acc = <span style=\"color: #008080; text-decoration-color: #008080; font-weight: bold\">0.99988041</span>, valid acc = <span style=\"color: #008080; text-decoration-color: #008080; font-weight: bold\">0.99967641</span>, iterations = <span style=\"color: #008080; text-decoration-color: #008080; font-weight: bold\">30</span>\n",
       "</pre>\n"
      ],
      "text/plain": [
       "Seed = \u001b[1;36m2\u001b[0m, train acc = \u001b[1;36m0.99988041\u001b[0m, valid acc = \u001b[1;36m0.99967641\u001b[0m, iterations = \u001b[1;36m30\u001b[0m\n"
      ]
     },
     "metadata": {},
     "output_type": "display_data"
    },
    {
     "data": {
      "text/html": [
       "<pre style=\"white-space:pre;overflow-x:auto;line-height:normal;font-family:Menlo,'DejaVu Sans Mono',consolas,'Courier New',monospace\">Seed = <span style=\"color: #008080; text-decoration-color: #008080; font-weight: bold\">3</span>, train acc = <span style=\"color: #008080; text-decoration-color: #008080; font-weight: bold\">0.99978545</span>, valid acc = <span style=\"color: #008080; text-decoration-color: #008080; font-weight: bold\">0.99948648</span>, iterations = <span style=\"color: #008080; text-decoration-color: #008080; font-weight: bold\">25</span>\n",
       "</pre>\n"
      ],
      "text/plain": [
       "Seed = \u001b[1;36m3\u001b[0m, train acc = \u001b[1;36m0.99978545\u001b[0m, valid acc = \u001b[1;36m0.99948648\u001b[0m, iterations = \u001b[1;36m25\u001b[0m\n"
      ]
     },
     "metadata": {},
     "output_type": "display_data"
    },
    {
     "data": {
      "text/html": [
       "<pre style=\"white-space:pre;overflow-x:auto;line-height:normal;font-family:Menlo,'DejaVu Sans Mono',consolas,'Courier New',monospace\">Seed = <span style=\"color: #008080; text-decoration-color: #008080; font-weight: bold\">4</span>, train acc = <span style=\"color: #008080; text-decoration-color: #008080; font-weight: bold\">0.99939152</span>, valid acc = <span style=\"color: #008080; text-decoration-color: #008080; font-weight: bold\">0.99895890</span>, iterations = <span style=\"color: #008080; text-decoration-color: #008080; font-weight: bold\">10</span>\n",
       "</pre>\n"
      ],
      "text/plain": [
       "Seed = \u001b[1;36m4\u001b[0m, train acc = \u001b[1;36m0.99939152\u001b[0m, valid acc = \u001b[1;36m0.99895890\u001b[0m, iterations = \u001b[1;36m10\u001b[0m\n"
      ]
     },
     "metadata": {},
     "output_type": "display_data"
    },
    {
     "data": {
      "text/html": [
       "<pre style=\"white-space:pre;overflow-x:auto;line-height:normal;font-family:Menlo,'DejaVu Sans Mono',consolas,'Courier New',monospace\">Number hidden units = <span style=\"color: #008080; text-decoration-color: #008080; font-weight: bold\">130</span>, train acc = <span style=\"color: #008080; text-decoration-color: #008080; font-weight: bold\">0.99988041</span>, max valid acc = <span style=\"color: #008080; text-decoration-color: #008080; font-weight: bold\">0.99967641</span>\n",
       "</pre>\n"
      ],
      "text/plain": [
       "Number hidden units = \u001b[1;36m130\u001b[0m, train acc = \u001b[1;36m0.99988041\u001b[0m, max valid acc = \u001b[1;36m0.99967641\u001b[0m\n"
      ]
     },
     "metadata": {},
     "output_type": "display_data"
    },
    {
     "data": {
      "text/html": [
       "<pre style=\"white-space:pre;overflow-x:auto;line-height:normal;font-family:Menlo,'DejaVu Sans Mono',consolas,'Courier New',monospace\">Seed = <span style=\"color: #008080; text-decoration-color: #008080; font-weight: bold\">0</span>, train acc = <span style=\"color: #008080; text-decoration-color: #008080; font-weight: bold\">0.99986635</span>, valid acc = <span style=\"color: #008080; text-decoration-color: #008080; font-weight: bold\">0.99959200</span>, iterations = <span style=\"color: #008080; text-decoration-color: #008080; font-weight: bold\">20</span>\n",
       "</pre>\n"
      ],
      "text/plain": [
       "Seed = \u001b[1;36m0\u001b[0m, train acc = \u001b[1;36m0.99986635\u001b[0m, valid acc = \u001b[1;36m0.99959200\u001b[0m, iterations = \u001b[1;36m20\u001b[0m\n"
      ]
     },
     "metadata": {},
     "output_type": "display_data"
    },
    {
     "data": {
      "text/html": [
       "<pre style=\"white-space:pre;overflow-x:auto;line-height:normal;font-family:Menlo,'DejaVu Sans Mono',consolas,'Courier New',monospace\">Seed = <span style=\"color: #008080; text-decoration-color: #008080; font-weight: bold\">1</span>, train acc = <span style=\"color: #008080; text-decoration-color: #008080; font-weight: bold\">0.99972566</span>, valid acc = <span style=\"color: #008080; text-decoration-color: #008080; font-weight: bold\">0.99940910</span>, iterations = <span style=\"color: #008080; text-decoration-color: #008080; font-weight: bold\">20</span>\n",
       "</pre>\n"
      ],
      "text/plain": [
       "Seed = \u001b[1;36m1\u001b[0m, train acc = \u001b[1;36m0.99972566\u001b[0m, valid acc = \u001b[1;36m0.99940910\u001b[0m, iterations = \u001b[1;36m20\u001b[0m\n"
      ]
     },
     "metadata": {},
     "output_type": "display_data"
    },
    {
     "data": {
      "text/html": [
       "<pre style=\"white-space:pre;overflow-x:auto;line-height:normal;font-family:Menlo,'DejaVu Sans Mono',consolas,'Courier New',monospace\">Seed = <span style=\"color: #008080; text-decoration-color: #008080; font-weight: bold\">2</span>, train acc = <span style=\"color: #008080; text-decoration-color: #008080; font-weight: bold\">0.99915587</span>, valid acc = <span style=\"color: #008080; text-decoration-color: #008080; font-weight: bold\">0.99858607</span>, iterations = <span style=\"color: #008080; text-decoration-color: #008080; font-weight: bold\">15</span>\n",
       "</pre>\n"
      ],
      "text/plain": [
       "Seed = \u001b[1;36m2\u001b[0m, train acc = \u001b[1;36m0.99915587\u001b[0m, valid acc = \u001b[1;36m0.99858607\u001b[0m, iterations = \u001b[1;36m15\u001b[0m\n"
      ]
     },
     "metadata": {},
     "output_type": "display_data"
    },
    {
     "data": {
      "text/html": [
       "<pre style=\"white-space:pre;overflow-x:auto;line-height:normal;font-family:Menlo,'DejaVu Sans Mono',consolas,'Courier New',monospace\">Seed = <span style=\"color: #008080; text-decoration-color: #008080; font-weight: bold\">3</span>, train acc = <span style=\"color: #008080; text-decoration-color: #008080; font-weight: bold\">0.99987690</span>, valid acc = <span style=\"color: #008080; text-decoration-color: #008080; font-weight: bold\">0.99964828</span>, iterations = <span style=\"color: #008080; text-decoration-color: #008080; font-weight: bold\">20</span>\n",
       "</pre>\n"
      ],
      "text/plain": [
       "Seed = \u001b[1;36m3\u001b[0m, train acc = \u001b[1;36m0.99987690\u001b[0m, valid acc = \u001b[1;36m0.99964828\u001b[0m, iterations = \u001b[1;36m20\u001b[0m\n"
      ]
     },
     "metadata": {},
     "output_type": "display_data"
    },
    {
     "data": {
      "text/html": [
       "<pre style=\"white-space:pre;overflow-x:auto;line-height:normal;font-family:Menlo,'DejaVu Sans Mono',consolas,'Courier New',monospace\">Seed = <span style=\"color: #008080; text-decoration-color: #008080; font-weight: bold\">4</span>, train acc = <span style=\"color: #008080; text-decoration-color: #008080; font-weight: bold\">0.99979952</span>, valid acc = <span style=\"color: #008080; text-decoration-color: #008080; font-weight: bold\">0.99954979</span>, iterations = <span style=\"color: #008080; text-decoration-color: #008080; font-weight: bold\">15</span>\n",
       "</pre>\n"
      ],
      "text/plain": [
       "Seed = \u001b[1;36m4\u001b[0m, train acc = \u001b[1;36m0.99979952\u001b[0m, valid acc = \u001b[1;36m0.99954979\u001b[0m, iterations = \u001b[1;36m15\u001b[0m\n"
      ]
     },
     "metadata": {},
     "output_type": "display_data"
    },
    {
     "data": {
      "text/html": [
       "<pre style=\"white-space:pre;overflow-x:auto;line-height:normal;font-family:Menlo,'DejaVu Sans Mono',consolas,'Courier New',monospace\">Number hidden units = <span style=\"color: #008080; text-decoration-color: #008080; font-weight: bold\">150</span>, train acc = <span style=\"color: #008080; text-decoration-color: #008080; font-weight: bold\">0.99987690</span>, max valid acc = <span style=\"color: #008080; text-decoration-color: #008080; font-weight: bold\">0.99964828</span>\n",
       "</pre>\n"
      ],
      "text/plain": [
       "Number hidden units = \u001b[1;36m150\u001b[0m, train acc = \u001b[1;36m0.99987690\u001b[0m, max valid acc = \u001b[1;36m0.99964828\u001b[0m\n"
      ]
     },
     "metadata": {},
     "output_type": "display_data"
    },
    {
     "data": {
      "text/html": [
       "<pre style=\"white-space:pre;overflow-x:auto;line-height:normal;font-family:Menlo,'DejaVu Sans Mono',consolas,'Courier New',monospace\">Seed = <span style=\"color: #008080; text-decoration-color: #008080; font-weight: bold\">0</span>, train acc = <span style=\"color: #008080; text-decoration-color: #008080; font-weight: bold\">0.99950055</span>, valid acc = <span style=\"color: #008080; text-decoration-color: #008080; font-weight: bold\">0.99918400</span>, iterations = <span style=\"color: #008080; text-decoration-color: #008080; font-weight: bold\">15</span>\n",
       "</pre>\n"
      ],
      "text/plain": [
       "Seed = \u001b[1;36m0\u001b[0m, train acc = \u001b[1;36m0.99950055\u001b[0m, valid acc = \u001b[1;36m0.99918400\u001b[0m, iterations = \u001b[1;36m15\u001b[0m\n"
      ]
     },
     "metadata": {},
     "output_type": "display_data"
    },
    {
     "data": {
      "text/html": [
       "<pre style=\"white-space:pre;overflow-x:auto;line-height:normal;font-family:Menlo,'DejaVu Sans Mono',consolas,'Courier New',monospace\">Seed = <span style=\"color: #008080; text-decoration-color: #008080; font-weight: bold\">1</span>, train acc = <span style=\"color: #008080; text-decoration-color: #008080; font-weight: bold\">0.99897297</span>, valid acc = <span style=\"color: #008080; text-decoration-color: #008080; font-weight: bold\">0.99861421</span>, iterations = <span style=\"color: #008080; text-decoration-color: #008080; font-weight: bold\">10</span>\n",
       "</pre>\n"
      ],
      "text/plain": [
       "Seed = \u001b[1;36m1\u001b[0m, train acc = \u001b[1;36m0.99897297\u001b[0m, valid acc = \u001b[1;36m0.99861421\u001b[0m, iterations = \u001b[1;36m10\u001b[0m\n"
      ]
     },
     "metadata": {},
     "output_type": "display_data"
    },
    {
     "data": {
      "text/html": [
       "<pre style=\"white-space:pre;overflow-x:auto;line-height:normal;font-family:Menlo,'DejaVu Sans Mono',consolas,'Courier New',monospace\">Seed = <span style=\"color: #008080; text-decoration-color: #008080; font-weight: bold\">2</span>, train acc = <span style=\"color: #008080; text-decoration-color: #008080; font-weight: bold\">0.99965179</span>, valid acc = <span style=\"color: #008080; text-decoration-color: #008080; font-weight: bold\">0.99950055</span>, iterations = <span style=\"color: #008080; text-decoration-color: #008080; font-weight: bold\">20</span>\n",
       "</pre>\n"
      ],
      "text/plain": [
       "Seed = \u001b[1;36m2\u001b[0m, train acc = \u001b[1;36m0.99965179\u001b[0m, valid acc = \u001b[1;36m0.99950055\u001b[0m, iterations = \u001b[1;36m20\u001b[0m\n"
      ]
     },
     "metadata": {},
     "output_type": "display_data"
    },
    {
     "data": {
      "text/html": [
       "<pre style=\"white-space:pre;overflow-x:auto;line-height:normal;font-family:Menlo,'DejaVu Sans Mono',consolas,'Courier New',monospace\">Seed = <span style=\"color: #008080; text-decoration-color: #008080; font-weight: bold\">3</span>, train acc = <span style=\"color: #008080; text-decoration-color: #008080; font-weight: bold\">0.99946538</span>, valid acc = <span style=\"color: #008080; text-decoration-color: #008080; font-weight: bold\">0.99906441</span>, iterations = <span style=\"color: #008080; text-decoration-color: #008080; font-weight: bold\">30</span>\n",
       "</pre>\n"
      ],
      "text/plain": [
       "Seed = \u001b[1;36m3\u001b[0m, train acc = \u001b[1;36m0.99946538\u001b[0m, valid acc = \u001b[1;36m0.99906441\u001b[0m, iterations = \u001b[1;36m30\u001b[0m\n"
      ]
     },
     "metadata": {},
     "output_type": "display_data"
    },
    {
     "data": {
      "text/html": [
       "<pre style=\"white-space:pre;overflow-x:auto;line-height:normal;font-family:Menlo,'DejaVu Sans Mono',consolas,'Courier New',monospace\">Seed = <span style=\"color: #008080; text-decoration-color: #008080; font-weight: bold\">4</span>, train acc = <span style=\"color: #008080; text-decoration-color: #008080; font-weight: bold\">0.99982062</span>, valid acc = <span style=\"color: #008080; text-decoration-color: #008080; font-weight: bold\">0.99957793</span>, iterations = <span style=\"color: #008080; text-decoration-color: #008080; font-weight: bold\">30</span>\n",
       "</pre>\n"
      ],
      "text/plain": [
       "Seed = \u001b[1;36m4\u001b[0m, train acc = \u001b[1;36m0.99982062\u001b[0m, valid acc = \u001b[1;36m0.99957793\u001b[0m, iterations = \u001b[1;36m30\u001b[0m\n"
      ]
     },
     "metadata": {},
     "output_type": "display_data"
    },
    {
     "data": {
      "text/html": [
       "<pre style=\"white-space:pre;overflow-x:auto;line-height:normal;font-family:Menlo,'DejaVu Sans Mono',consolas,'Courier New',monospace\">Number hidden units = <span style=\"color: #008080; text-decoration-color: #008080; font-weight: bold\">170</span>, train acc = <span style=\"color: #008080; text-decoration-color: #008080; font-weight: bold\">0.99982062</span>, max valid acc = <span style=\"color: #008080; text-decoration-color: #008080; font-weight: bold\">0.99957793</span>\n",
       "</pre>\n"
      ],
      "text/plain": [
       "Number hidden units = \u001b[1;36m170\u001b[0m, train acc = \u001b[1;36m0.99982062\u001b[0m, max valid acc = \u001b[1;36m0.99957793\u001b[0m\n"
      ]
     },
     "metadata": {},
     "output_type": "display_data"
    },
    {
     "data": {
      "text/html": [
       "<pre style=\"white-space:pre;overflow-x:auto;line-height:normal;font-family:Menlo,'DejaVu Sans Mono',consolas,'Courier New',monospace\">Seed = <span style=\"color: #008080; text-decoration-color: #008080; font-weight: bold\">0</span>, train acc = <span style=\"color: #008080; text-decoration-color: #008080; font-weight: bold\">0.99964828</span>, valid acc = <span style=\"color: #008080; text-decoration-color: #008080; font-weight: bold\">0.99936690</span>, iterations = <span style=\"color: #008080; text-decoration-color: #008080; font-weight: bold\">20</span>\n",
       "</pre>\n"
      ],
      "text/plain": [
       "Seed = \u001b[1;36m0\u001b[0m, train acc = \u001b[1;36m0.99964828\u001b[0m, valid acc = \u001b[1;36m0.99936690\u001b[0m, iterations = \u001b[1;36m20\u001b[0m\n"
      ]
     },
     "metadata": {},
     "output_type": "display_data"
    },
    {
     "data": {
      "text/html": [
       "<pre style=\"white-space:pre;overflow-x:auto;line-height:normal;font-family:Menlo,'DejaVu Sans Mono',consolas,'Courier New',monospace\">Seed = <span style=\"color: #008080; text-decoration-color: #008080; font-weight: bold\">1</span>, train acc = <span style=\"color: #008080; text-decoration-color: #008080; font-weight: bold\">0.99975028</span>, valid acc = <span style=\"color: #008080; text-decoration-color: #008080; font-weight: bold\">0.99945835</span>, iterations = <span style=\"color: #008080; text-decoration-color: #008080; font-weight: bold\">20</span>\n",
       "</pre>\n"
      ],
      "text/plain": [
       "Seed = \u001b[1;36m1\u001b[0m, train acc = \u001b[1;36m0.99975028\u001b[0m, valid acc = \u001b[1;36m0.99945835\u001b[0m, iterations = \u001b[1;36m20\u001b[0m\n"
      ]
     },
     "metadata": {},
     "output_type": "display_data"
    },
    {
     "data": {
      "text/html": [
       "<pre style=\"white-space:pre;overflow-x:auto;line-height:normal;font-family:Menlo,'DejaVu Sans Mono',consolas,'Courier New',monospace\">Seed = <span style=\"color: #008080; text-decoration-color: #008080; font-weight: bold\">2</span>, train acc = <span style=\"color: #008080; text-decoration-color: #008080; font-weight: bold\">0.99892021</span>, valid acc = <span style=\"color: #008080; text-decoration-color: #008080; font-weight: bold\">0.99842428</span>, iterations = <span style=\"color: #008080; text-decoration-color: #008080; font-weight: bold\">15</span>\n",
       "</pre>\n"
      ],
      "text/plain": [
       "Seed = \u001b[1;36m2\u001b[0m, train acc = \u001b[1;36m0.99892021\u001b[0m, valid acc = \u001b[1;36m0.99842428\u001b[0m, iterations = \u001b[1;36m15\u001b[0m\n"
      ]
     },
     "metadata": {},
     "output_type": "display_data"
    },
    {
     "data": {
      "text/html": [
       "<pre style=\"white-space:pre;overflow-x:auto;line-height:normal;font-family:Menlo,'DejaVu Sans Mono',consolas,'Courier New',monospace\">Seed = <span style=\"color: #008080; text-decoration-color: #008080; font-weight: bold\">3</span>, train acc = <span style=\"color: #008080; text-decoration-color: #008080; font-weight: bold\">0.99983821</span>, valid acc = <span style=\"color: #008080; text-decoration-color: #008080; font-weight: bold\">0.99945835</span>, iterations = <span style=\"color: #008080; text-decoration-color: #008080; font-weight: bold\">25</span>\n",
       "</pre>\n"
      ],
      "text/plain": [
       "Seed = \u001b[1;36m3\u001b[0m, train acc = \u001b[1;36m0.99983821\u001b[0m, valid acc = \u001b[1;36m0.99945835\u001b[0m, iterations = \u001b[1;36m25\u001b[0m\n"
      ]
     },
     "metadata": {},
     "output_type": "display_data"
    },
    {
     "data": {
      "text/html": [
       "<pre style=\"white-space:pre;overflow-x:auto;line-height:normal;font-family:Menlo,'DejaVu Sans Mono',consolas,'Courier New',monospace\">Seed = <span style=\"color: #008080; text-decoration-color: #008080; font-weight: bold\">4</span>, train acc = <span style=\"color: #008080; text-decoration-color: #008080; font-weight: bold\">0.99963421</span>, valid acc = <span style=\"color: #008080; text-decoration-color: #008080; font-weight: bold\">0.99940207</span>, iterations = <span style=\"color: #008080; text-decoration-color: #008080; font-weight: bold\">30</span>\n",
       "</pre>\n"
      ],
      "text/plain": [
       "Seed = \u001b[1;36m4\u001b[0m, train acc = \u001b[1;36m0.99963421\u001b[0m, valid acc = \u001b[1;36m0.99940207\u001b[0m, iterations = \u001b[1;36m30\u001b[0m\n"
      ]
     },
     "metadata": {},
     "output_type": "display_data"
    },
    {
     "data": {
      "text/html": [
       "<pre style=\"white-space:pre;overflow-x:auto;line-height:normal;font-family:Menlo,'DejaVu Sans Mono',consolas,'Courier New',monospace\">Number hidden units = <span style=\"color: #008080; text-decoration-color: #008080; font-weight: bold\">190</span>, train acc = <span style=\"color: #008080; text-decoration-color: #008080; font-weight: bold\">0.99975028</span>, max valid acc = <span style=\"color: #008080; text-decoration-color: #008080; font-weight: bold\">0.99945835</span>\n",
       "</pre>\n"
      ],
      "text/plain": [
       "Number hidden units = \u001b[1;36m190\u001b[0m, train acc = \u001b[1;36m0.99975028\u001b[0m, max valid acc = \u001b[1;36m0.99945835\u001b[0m\n"
      ]
     },
     "metadata": {},
     "output_type": "display_data"
    },
    {
     "data": {
      "text/html": [
       "<pre style=\"white-space:pre;overflow-x:auto;line-height:normal;font-family:Menlo,'DejaVu Sans Mono',consolas,'Courier New',monospace\">Seed = <span style=\"color: #008080; text-decoration-color: #008080; font-weight: bold\">0</span>, train acc = <span style=\"color: #008080; text-decoration-color: #008080; font-weight: bold\">0.99694353</span>, valid acc = <span style=\"color: #008080; text-decoration-color: #008080; font-weight: bold\">0.99638428</span>, iterations = <span style=\"color: #008080; text-decoration-color: #008080; font-weight: bold\">30</span>\n",
       "</pre>\n"
      ],
      "text/plain": [
       "Seed = \u001b[1;36m0\u001b[0m, train acc = \u001b[1;36m0.99694353\u001b[0m, valid acc = \u001b[1;36m0.99638428\u001b[0m, iterations = \u001b[1;36m30\u001b[0m\n"
      ]
     },
     "metadata": {},
     "output_type": "display_data"
    },
    {
     "data": {
      "text/html": [
       "<pre style=\"white-space:pre;overflow-x:auto;line-height:normal;font-family:Menlo,'DejaVu Sans Mono',consolas,'Courier New',monospace\">Seed = <span style=\"color: #008080; text-decoration-color: #008080; font-weight: bold\">1</span>, train acc = <span style=\"color: #008080; text-decoration-color: #008080; font-weight: bold\">0.99987338</span>, valid acc = <span style=\"color: #008080; text-decoration-color: #008080; font-weight: bold\">0.99962717</span>, iterations = <span style=\"color: #008080; text-decoration-color: #008080; font-weight: bold\">25</span>\n",
       "</pre>\n"
      ],
      "text/plain": [
       "Seed = \u001b[1;36m1\u001b[0m, train acc = \u001b[1;36m0.99987338\u001b[0m, valid acc = \u001b[1;36m0.99962717\u001b[0m, iterations = \u001b[1;36m25\u001b[0m\n"
      ]
     },
     "metadata": {},
     "output_type": "display_data"
    },
    {
     "data": {
      "text/html": [
       "<pre style=\"white-space:pre;overflow-x:auto;line-height:normal;font-family:Menlo,'DejaVu Sans Mono',consolas,'Courier New',monospace\">Seed = <span style=\"color: #008080; text-decoration-color: #008080; font-weight: bold\">2</span>, train acc = <span style=\"color: #008080; text-decoration-color: #008080; font-weight: bold\">0.99969048</span>, valid acc = <span style=\"color: #008080; text-decoration-color: #008080; font-weight: bold\">0.99916290</span>, iterations = <span style=\"color: #008080; text-decoration-color: #008080; font-weight: bold\">20</span>\n",
       "</pre>\n"
      ],
      "text/plain": [
       "Seed = \u001b[1;36m2\u001b[0m, train acc = \u001b[1;36m0.99969048\u001b[0m, valid acc = \u001b[1;36m0.99916290\u001b[0m, iterations = \u001b[1;36m20\u001b[0m\n"
      ]
     },
     "metadata": {},
     "output_type": "display_data"
    },
    {
     "data": {
      "text/html": [
       "<pre style=\"white-space:pre;overflow-x:auto;line-height:normal;font-family:Menlo,'DejaVu Sans Mono',consolas,'Courier New',monospace\">Seed = <span style=\"color: #008080; text-decoration-color: #008080; font-weight: bold\">3</span>, train acc = <span style=\"color: #008080; text-decoration-color: #008080; font-weight: bold\">0.99970807</span>, valid acc = <span style=\"color: #008080; text-decoration-color: #008080; font-weight: bold\">0.99926138</span>, iterations = <span style=\"color: #008080; text-decoration-color: #008080; font-weight: bold\">15</span>\n",
       "</pre>\n"
      ],
      "text/plain": [
       "Seed = \u001b[1;36m3\u001b[0m, train acc = \u001b[1;36m0.99970807\u001b[0m, valid acc = \u001b[1;36m0.99926138\u001b[0m, iterations = \u001b[1;36m15\u001b[0m\n"
      ]
     },
     "metadata": {},
     "output_type": "display_data"
    },
    {
     "data": {
      "text/html": [
       "<pre style=\"white-space:pre;overflow-x:auto;line-height:normal;font-family:Menlo,'DejaVu Sans Mono',consolas,'Courier New',monospace\">Seed = <span style=\"color: #008080; text-decoration-color: #008080; font-weight: bold\">4</span>, train acc = <span style=\"color: #008080; text-decoration-color: #008080; font-weight: bold\">0.99907497</span>, valid acc = <span style=\"color: #008080; text-decoration-color: #008080; font-weight: bold\">0.99864938</span>, iterations = <span style=\"color: #008080; text-decoration-color: #008080; font-weight: bold\">10</span>\n",
       "</pre>\n"
      ],
      "text/plain": [
       "Seed = \u001b[1;36m4\u001b[0m, train acc = \u001b[1;36m0.99907497\u001b[0m, valid acc = \u001b[1;36m0.99864938\u001b[0m, iterations = \u001b[1;36m10\u001b[0m\n"
      ]
     },
     "metadata": {},
     "output_type": "display_data"
    },
    {
     "data": {
      "text/html": [
       "<pre style=\"white-space:pre;overflow-x:auto;line-height:normal;font-family:Menlo,'DejaVu Sans Mono',consolas,'Courier New',monospace\">Number hidden units = <span style=\"color: #008080; text-decoration-color: #008080; font-weight: bold\">210</span>, train acc = <span style=\"color: #008080; text-decoration-color: #008080; font-weight: bold\">0.99987338</span>, max valid acc = <span style=\"color: #008080; text-decoration-color: #008080; font-weight: bold\">0.99962717</span>\n",
       "</pre>\n"
      ],
      "text/plain": [
       "Number hidden units = \u001b[1;36m210\u001b[0m, train acc = \u001b[1;36m0.99987338\u001b[0m, max valid acc = \u001b[1;36m0.99962717\u001b[0m\n"
      ]
     },
     "metadata": {},
     "output_type": "display_data"
    },
    {
     "data": {
      "text/html": [
       "<pre style=\"white-space:pre;overflow-x:auto;line-height:normal;font-family:Menlo,'DejaVu Sans Mono',consolas,'Courier New',monospace\">Seed = <span style=\"color: #008080; text-decoration-color: #008080; font-weight: bold\">0</span>, train acc = <span style=\"color: #008080; text-decoration-color: #008080; font-weight: bold\">0.99954628</span>, valid acc = <span style=\"color: #008080; text-decoration-color: #008080; font-weight: bold\">0.99920510</span>, iterations = <span style=\"color: #008080; text-decoration-color: #008080; font-weight: bold\">15</span>\n",
       "</pre>\n"
      ],
      "text/plain": [
       "Seed = \u001b[1;36m0\u001b[0m, train acc = \u001b[1;36m0.99954628\u001b[0m, valid acc = \u001b[1;36m0.99920510\u001b[0m, iterations = \u001b[1;36m15\u001b[0m\n"
      ]
     },
     "metadata": {},
     "output_type": "display_data"
    },
    {
     "data": {
      "text/html": [
       "<pre style=\"white-space:pre;overflow-x:auto;line-height:normal;font-family:Menlo,'DejaVu Sans Mono',consolas,'Courier New',monospace\">Seed = <span style=\"color: #008080; text-decoration-color: #008080; font-weight: bold\">1</span>, train acc = <span style=\"color: #008080; text-decoration-color: #008080; font-weight: bold\">0.99912421</span>, valid acc = <span style=\"color: #008080; text-decoration-color: #008080; font-weight: bold\">0.99857904</span>, iterations = <span style=\"color: #008080; text-decoration-color: #008080; font-weight: bold\">25</span>\n",
       "</pre>\n"
      ],
      "text/plain": [
       "Seed = \u001b[1;36m1\u001b[0m, train acc = \u001b[1;36m0.99912421\u001b[0m, valid acc = \u001b[1;36m0.99857904\u001b[0m, iterations = \u001b[1;36m25\u001b[0m\n"
      ]
     },
     "metadata": {},
     "output_type": "display_data"
    },
    {
     "data": {
      "text/html": [
       "<pre style=\"white-space:pre;overflow-x:auto;line-height:normal;font-family:Menlo,'DejaVu Sans Mono',consolas,'Courier New',monospace\">Seed = <span style=\"color: #008080; text-decoration-color: #008080; font-weight: bold\">2</span>, train acc = <span style=\"color: #008080; text-decoration-color: #008080; font-weight: bold\">0.99959904</span>, valid acc = <span style=\"color: #008080; text-decoration-color: #008080; font-weight: bold\">0.99917697</span>, iterations = <span style=\"color: #008080; text-decoration-color: #008080; font-weight: bold\">15</span>\n",
       "</pre>\n"
      ],
      "text/plain": [
       "Seed = \u001b[1;36m2\u001b[0m, train acc = \u001b[1;36m0.99959904\u001b[0m, valid acc = \u001b[1;36m0.99917697\u001b[0m, iterations = \u001b[1;36m15\u001b[0m\n"
      ]
     },
     "metadata": {},
     "output_type": "display_data"
    },
    {
     "data": {
      "text/html": [
       "<pre style=\"white-space:pre;overflow-x:auto;line-height:normal;font-family:Menlo,'DejaVu Sans Mono',consolas,'Courier New',monospace\">Seed = <span style=\"color: #008080; text-decoration-color: #008080; font-weight: bold\">3</span>, train acc = <span style=\"color: #008080; text-decoration-color: #008080; font-weight: bold\">0.99962717</span>, valid acc = <span style=\"color: #008080; text-decoration-color: #008080; font-weight: bold\">0.99928248</span>, iterations = <span style=\"color: #008080; text-decoration-color: #008080; font-weight: bold\">15</span>\n",
       "</pre>\n"
      ],
      "text/plain": [
       "Seed = \u001b[1;36m3\u001b[0m, train acc = \u001b[1;36m0.99962717\u001b[0m, valid acc = \u001b[1;36m0.99928248\u001b[0m, iterations = \u001b[1;36m15\u001b[0m\n"
      ]
     },
     "metadata": {},
     "output_type": "display_data"
    },
    {
     "data": {
      "text/html": [
       "<pre style=\"white-space:pre;overflow-x:auto;line-height:normal;font-family:Menlo,'DejaVu Sans Mono',consolas,'Courier New',monospace\">Seed = <span style=\"color: #008080; text-decoration-color: #008080; font-weight: bold\">4</span>, train acc = <span style=\"color: #008080; text-decoration-color: #008080; font-weight: bold\">0.99716160</span>, valid acc = <span style=\"color: #008080; text-decoration-color: #008080; font-weight: bold\">0.99672193</span>, iterations = <span style=\"color: #008080; text-decoration-color: #008080; font-weight: bold\">10</span>\n",
       "</pre>\n"
      ],
      "text/plain": [
       "Seed = \u001b[1;36m4\u001b[0m, train acc = \u001b[1;36m0.99716160\u001b[0m, valid acc = \u001b[1;36m0.99672193\u001b[0m, iterations = \u001b[1;36m10\u001b[0m\n"
      ]
     },
     "metadata": {},
     "output_type": "display_data"
    },
    {
     "data": {
      "text/html": [
       "<pre style=\"white-space:pre;overflow-x:auto;line-height:normal;font-family:Menlo,'DejaVu Sans Mono',consolas,'Courier New',monospace\">Number hidden units = <span style=\"color: #008080; text-decoration-color: #008080; font-weight: bold\">230</span>, train acc = <span style=\"color: #008080; text-decoration-color: #008080; font-weight: bold\">0.99962717</span>, max valid acc = <span style=\"color: #008080; text-decoration-color: #008080; font-weight: bold\">0.99928248</span>\n",
       "</pre>\n"
      ],
      "text/plain": [
       "Number hidden units = \u001b[1;36m230\u001b[0m, train acc = \u001b[1;36m0.99962717\u001b[0m, max valid acc = \u001b[1;36m0.99928248\u001b[0m\n"
      ]
     },
     "metadata": {},
     "output_type": "display_data"
    },
    {
     "data": {
      "text/html": [
       "<pre style=\"white-space:pre;overflow-x:auto;line-height:normal;font-family:Menlo,'DejaVu Sans Mono',consolas,'Courier New',monospace\">Seed = <span style=\"color: #008080; text-decoration-color: #008080; font-weight: bold\">0</span>, train acc = <span style=\"color: #008080; text-decoration-color: #008080; font-weight: bold\">0.99949704</span>, valid acc = <span style=\"color: #008080; text-decoration-color: #008080; font-weight: bold\">0.99903628</span>, iterations = <span style=\"color: #008080; text-decoration-color: #008080; font-weight: bold\">25</span>\n",
       "</pre>\n"
      ],
      "text/plain": [
       "Seed = \u001b[1;36m0\u001b[0m, train acc = \u001b[1;36m0.99949704\u001b[0m, valid acc = \u001b[1;36m0.99903628\u001b[0m, iterations = \u001b[1;36m25\u001b[0m\n"
      ]
     },
     "metadata": {},
     "output_type": "display_data"
    },
    {
     "data": {
      "text/html": [
       "<pre style=\"white-space:pre;overflow-x:auto;line-height:normal;font-family:Menlo,'DejaVu Sans Mono',consolas,'Courier New',monospace\">Seed = <span style=\"color: #008080; text-decoration-color: #008080; font-weight: bold\">1</span>, train acc = <span style=\"color: #008080; text-decoration-color: #008080; font-weight: bold\">0.99983117</span>, valid acc = <span style=\"color: #008080; text-decoration-color: #008080; font-weight: bold\">0.99954979</span>, iterations = <span style=\"color: #008080; text-decoration-color: #008080; font-weight: bold\">20</span>\n",
       "</pre>\n"
      ],
      "text/plain": [
       "Seed = \u001b[1;36m1\u001b[0m, train acc = \u001b[1;36m0.99983117\u001b[0m, valid acc = \u001b[1;36m0.99954979\u001b[0m, iterations = \u001b[1;36m20\u001b[0m\n"
      ]
     },
     "metadata": {},
     "output_type": "display_data"
    },
    {
     "data": {
      "text/html": [
       "<pre style=\"white-space:pre;overflow-x:auto;line-height:normal;font-family:Menlo,'DejaVu Sans Mono',consolas,'Courier New',monospace\">Seed = <span style=\"color: #008080; text-decoration-color: #008080; font-weight: bold\">2</span>, train acc = <span style=\"color: #008080; text-decoration-color: #008080; font-weight: bold\">0.99972917</span>, valid acc = <span style=\"color: #008080; text-decoration-color: #008080; font-weight: bold\">0.99944428</span>, iterations = <span style=\"color: #008080; text-decoration-color: #008080; font-weight: bold\">15</span>\n",
       "</pre>\n"
      ],
      "text/plain": [
       "Seed = \u001b[1;36m2\u001b[0m, train acc = \u001b[1;36m0.99972917\u001b[0m, valid acc = \u001b[1;36m0.99944428\u001b[0m, iterations = \u001b[1;36m15\u001b[0m\n"
      ]
     },
     "metadata": {},
     "output_type": "display_data"
    },
    {
     "data": {
      "text/html": [
       "<pre style=\"white-space:pre;overflow-x:auto;line-height:normal;font-family:Menlo,'DejaVu Sans Mono',consolas,'Courier New',monospace\">Seed = <span style=\"color: #008080; text-decoration-color: #008080; font-weight: bold\">3</span>, train acc = <span style=\"color: #008080; text-decoration-color: #008080; font-weight: bold\">0.99959904</span>, valid acc = <span style=\"color: #008080; text-decoration-color: #008080; font-weight: bold\">0.99918400</span>, iterations = <span style=\"color: #008080; text-decoration-color: #008080; font-weight: bold\">20</span>\n",
       "</pre>\n"
      ],
      "text/plain": [
       "Seed = \u001b[1;36m3\u001b[0m, train acc = \u001b[1;36m0.99959904\u001b[0m, valid acc = \u001b[1;36m0.99918400\u001b[0m, iterations = \u001b[1;36m20\u001b[0m\n"
      ]
     },
     "metadata": {},
     "output_type": "display_data"
    },
    {
     "data": {
      "text/html": [
       "<pre style=\"white-space:pre;overflow-x:auto;line-height:normal;font-family:Menlo,'DejaVu Sans Mono',consolas,'Courier New',monospace\">Seed = <span style=\"color: #008080; text-decoration-color: #008080; font-weight: bold\">4</span>, train acc = <span style=\"color: #008080; text-decoration-color: #008080; font-weight: bold\">0.99874787</span>, valid acc = <span style=\"color: #008080; text-decoration-color: #008080; font-weight: bold\">0.99834690</span>, iterations = <span style=\"color: #008080; text-decoration-color: #008080; font-weight: bold\">15</span>\n",
       "</pre>\n"
      ],
      "text/plain": [
       "Seed = \u001b[1;36m4\u001b[0m, train acc = \u001b[1;36m0.99874787\u001b[0m, valid acc = \u001b[1;36m0.99834690\u001b[0m, iterations = \u001b[1;36m15\u001b[0m\n"
      ]
     },
     "metadata": {},
     "output_type": "display_data"
    },
    {
     "data": {
      "text/html": [
       "<pre style=\"white-space:pre;overflow-x:auto;line-height:normal;font-family:Menlo,'DejaVu Sans Mono',consolas,'Courier New',monospace\">Number hidden units = <span style=\"color: #008080; text-decoration-color: #008080; font-weight: bold\">250</span>, train acc = <span style=\"color: #008080; text-decoration-color: #008080; font-weight: bold\">0.99983117</span>, max valid acc = <span style=\"color: #008080; text-decoration-color: #008080; font-weight: bold\">0.99954979</span>\n",
       "</pre>\n"
      ],
      "text/plain": [
       "Number hidden units = \u001b[1;36m250\u001b[0m, train acc = \u001b[1;36m0.99983117\u001b[0m, max valid acc = \u001b[1;36m0.99954979\u001b[0m\n"
      ]
     },
     "metadata": {},
     "output_type": "display_data"
    },
    {
     "data": {
      "text/html": [
       "<pre style=\"white-space:pre;overflow-x:auto;line-height:normal;font-family:Menlo,'DejaVu Sans Mono',consolas,'Courier New',monospace\">Number of seconds for training: <span style=\"color: #008080; text-decoration-color: #008080; font-weight: bold\">1623</span>\n",
       "</pre>\n"
      ],
      "text/plain": [
       "Number of seconds for training: \u001b[1;36m1623\u001b[0m\n"
      ]
     },
     "metadata": {},
     "output_type": "display_data"
    },
    {
     "data": {
      "text/html": [
       "<pre style=\"white-space:pre;overflow-x:auto;line-height:normal;font-family:Menlo,'DejaVu Sans Mono',consolas,'Courier New',monospace\">Best MLP valid accuracy: <span style=\"color: #008080; text-decoration-color: #008080; font-weight: bold\">99.96764141</span>%\n",
       "</pre>\n"
      ],
      "text/plain": [
       "Best MLP valid accuracy: \u001b[1;36m99.96764141\u001b[0m%\n"
      ]
     },
     "metadata": {},
     "output_type": "display_data"
    },
    {
     "data": {
      "text/html": [
       "<pre style=\"white-space:pre;overflow-x:auto;line-height:normal;font-family:Menlo,'DejaVu Sans Mono',consolas,'Courier New',monospace\">Best MLP:  <span style=\"color: #800080; text-decoration-color: #800080; font-weight: bold\">MLPClassifier</span><span style=\"font-weight: bold\">(</span><span style=\"color: #808000; text-decoration-color: #808000\">hidden_layer_sizes</span>=<span style=\"font-weight: bold\">(</span><span style=\"color: #008080; text-decoration-color: #008080; font-weight: bold\">130</span>,<span style=\"font-weight: bold\">)</span>, <span style=\"color: #808000; text-decoration-color: #808000\">learning_rate_init</span>=<span style=\"color: #008080; text-decoration-color: #008080; font-weight: bold\">0.005</span>,\n",
       "              <span style=\"color: #808000; text-decoration-color: #808000\">random_state</span>=<span style=\"color: #008080; text-decoration-color: #008080; font-weight: bold\">2</span>, <span style=\"color: #808000; text-decoration-color: #808000\">shuffle</span>=<span style=\"color: #ff0000; text-decoration-color: #ff0000; font-style: italic\">False</span><span style=\"font-weight: bold\">)</span>\n",
       "</pre>\n"
      ],
      "text/plain": [
       "Best MLP:  \u001b[1;35mMLPClassifier\u001b[0m\u001b[1m(\u001b[0m\u001b[33mhidden_layer_sizes\u001b[0m=\u001b[1m(\u001b[0m\u001b[1;36m130\u001b[0m,\u001b[1m)\u001b[0m, \u001b[33mlearning_rate_init\u001b[0m=\u001b[1;36m0\u001b[0m\u001b[1;36m.005\u001b[0m,\n",
       "              \u001b[33mrandom_state\u001b[0m=\u001b[1;36m2\u001b[0m, \u001b[33mshuffle\u001b[0m=\u001b[3;91mFalse\u001b[0m\u001b[1m)\u001b[0m\n"
      ]
     },
     "metadata": {},
     "output_type": "display_data"
    }
   ],
   "source": [
    "print(\"Architecture optimization\")\n",
    "\n",
    "tests_n_hidden = [10, 30, 50, 70, 90, 110, 130, 150, 170, 190, 210, 230, 250]\n",
    "n_reps = 5\n",
    "# n_reps = 10\n",
    "# n_reps = 15\n",
    "\n",
    "activation = 'relu'\n",
    "learning_rate_init = 0.005\n",
    "\n",
    "now = datetime.now()\n",
    "best_mlp = []\n",
    "best_acc = 0.0\n",
    "accs_train = []\n",
    "accs_valid = []\n",
    "for n_hidden in tests_n_hidden:\n",
    "    max_acc_train = max_acc_valid = 0.0\n",
    "    for random_state in range(n_reps):\n",
    "        mlp = MLPClassifier(hidden_layer_sizes=(n_hidden,), learning_rate_init=learning_rate_init, shuffle=False, random_state=random_state, verbose=False, activation=activation)\n",
    "        MLP_train_valid(mlp, features_train, target_train, features_valid, target_valid, max_iter, valid_cycles, False)\n",
    "        \n",
    "        acc_train = accuracy_score(target_train, mlp.predict(features_train))\n",
    "        acc_valid = accuracy_score(target_valid, mlp.predict(features_valid))\n",
    "        print(\"Seed = %d, train acc = %.8f, valid acc = %.8f, iterations = %d\" % (random_state, acc_train, acc_valid, len(mlp.loss_curve_)))\n",
    "        if (max_acc_valid < acc_valid):\n",
    "            max_acc_valid = acc_valid\n",
    "            max_acc_train = acc_train\n",
    "            if (acc_valid > best_acc):\n",
    "                best_acc = acc_valid\n",
    "                best_mlp = mlp\n",
    "    accs_train.append(max_acc_train)\n",
    "    accs_valid.append(max_acc_valid)\n",
    "    print(\"Number hidden units = %i, train acc = %.8f, max valid acc = %.8f\" % (n_hidden, max_acc_train, max_acc_valid))\n",
    "\n",
    "print(\"Number of seconds for training: %d\" % (datetime.now() - now).total_seconds())\n",
    "print(\"Best MLP valid accuracy: %.8f%%\" % (best_acc * 100))\n",
    "print(\"Best MLP: \", best_mlp)"
   ]
  },
  {
   "cell_type": "code",
   "execution_count": 15,
   "metadata": {},
   "outputs": [
    {
     "data": {
      "image/png": "[encoded data removed]",
      "text/plain": [
       "<Figure size 640x480 with 1 Axes>"
      ]
     },
     "metadata": {},
     "output_type": "display_data"
    }
   ],
   "source": [
    "\n",
    "width = 4\n",
    "plt.bar(np.array(tests_n_hidden) - width, 100 *(1- np.array(accs_train)), color='g', width=width, label='Train error')\n",
    "plt.bar(np.array(tests_n_hidden), 100 *(1- np.array(accs_valid)), width=width, label='Min valid error')\n",
    "plt.xlabel('number of hidden units')\n",
    "plt.ylabel('error (%)')\n",
    "plt.xticks(np.array(tests_n_hidden), tests_n_hidden)\n",
    "plt.legend(loc='upper right')\n",
    "plt.show()"
   ]
  },
  {
   "attachments": {},
   "cell_type": "markdown",
   "metadata": {},
   "source": [
    "En esta gráfica vemos como el error se va estabilizando según van aunmentando el número de hidden units. Sobre el valor 110 obvervamos que el error se empieza a estabilizar"
   ]
  },
  {
   "cell_type": "code",
   "execution_count": 16,
   "metadata": {},
   "outputs": [
    {
     "data": {
      "text/html": [
       "<pre style=\"white-space:pre;overflow-x:auto;line-height:normal;font-family:Menlo,'DejaVu Sans Mono',consolas,'Courier New',monospace\">Printing final results\n",
       "</pre>\n"
      ],
      "text/plain": [
       "Printing final results\n"
      ]
     },
     "metadata": {},
     "output_type": "display_data"
    },
    {
     "data": {
      "text/html": [
       "<pre style=\"white-space:pre;overflow-x:auto;line-height:normal;font-family:Menlo,'DejaVu Sans Mono',consolas,'Courier New',monospace\">Train accuracy: <span style=\"color: #008080; text-decoration-color: #008080; font-weight: bold\">99.988</span>%\n",
       "</pre>\n"
      ],
      "text/plain": [
       "Train accuracy: \u001b[1;36m99.988\u001b[0m%\n"
      ]
     },
     "metadata": {},
     "output_type": "display_data"
    },
    {
     "data": {
      "text/html": [
       "<pre style=\"white-space:pre;overflow-x:auto;line-height:normal;font-family:Menlo,'DejaVu Sans Mono',consolas,'Courier New',monospace\">Valid accuracy: <span style=\"color: #008080; text-decoration-color: #008080; font-weight: bold\">99.968</span>%\n",
       "</pre>\n"
      ],
      "text/plain": [
       "Valid accuracy: \u001b[1;36m99.968\u001b[0m%\n"
      ]
     },
     "metadata": {},
     "output_type": "display_data"
    },
    {
     "data": {
      "text/html": [
       "<pre style=\"white-space:pre;overflow-x:auto;line-height:normal;font-family:Menlo,'DejaVu Sans Mono',consolas,'Courier New',monospace\">Test accuracy: <span style=\"color: #008080; text-decoration-color: #008080; font-weight: bold\">99.962</span>%\n",
       "</pre>\n"
      ],
      "text/plain": [
       "Test accuracy: \u001b[1;36m99.962\u001b[0m%\n"
      ]
     },
     "metadata": {},
     "output_type": "display_data"
    },
    {
     "data": {
      "text/html": [
       "<pre style=\"white-space:pre;overflow-x:auto;line-height:normal;font-family:Menlo,'DejaVu Sans Mono',consolas,'Courier New',monospace\">Train confusion matrix:\n",
       "</pre>\n"
      ],
      "text/plain": [
       "Train confusion matrix:\n"
      ]
     },
     "metadata": {},
     "output_type": "display_data"
    },
    {
     "data": {
      "text/html": [
       "<pre style=\"white-space:pre;overflow-x:auto;line-height:normal;font-family:Menlo,'DejaVu Sans Mono',consolas,'Courier New',monospace\"><span style=\"font-weight: bold\">[[</span><span style=\"color: #008080; text-decoration-color: #008080; font-weight: bold\">142149</span>     <span style=\"color: #008080; text-decoration-color: #008080; font-weight: bold\">24</span><span style=\"font-weight: bold\">]</span>\n",
       " <span style=\"font-weight: bold\">[</span>    <span style=\"color: #008080; text-decoration-color: #008080; font-weight: bold\">10</span> <span style=\"color: #008080; text-decoration-color: #008080; font-weight: bold\">142132</span><span style=\"font-weight: bold\">]]</span>\n",
       "</pre>\n"
      ],
      "text/plain": [
       "\u001b[1m[\u001b[0m\u001b[1m[\u001b[0m\u001b[1;36m142149\u001b[0m     \u001b[1;36m24\u001b[0m\u001b[1m]\u001b[0m\n",
       " \u001b[1m[\u001b[0m    \u001b[1;36m10\u001b[0m \u001b[1;36m142132\u001b[0m\u001b[1m]\u001b[0m\u001b[1m]\u001b[0m\n"
      ]
     },
     "metadata": {},
     "output_type": "display_data"
    },
    {
     "data": {
      "text/html": [
       "<pre style=\"white-space:pre;overflow-x:auto;line-height:normal;font-family:Menlo,'DejaVu Sans Mono',consolas,'Courier New',monospace\">Valid confusion matrix:\n",
       "</pre>\n"
      ],
      "text/plain": [
       "Valid confusion matrix:\n"
      ]
     },
     "metadata": {},
     "output_type": "display_data"
    },
    {
     "data": {
      "text/html": [
       "<pre style=\"white-space:pre;overflow-x:auto;line-height:normal;font-family:Menlo,'DejaVu Sans Mono',consolas,'Courier New',monospace\"><span style=\"font-weight: bold\">[[</span><span style=\"color: #008080; text-decoration-color: #008080; font-weight: bold\">71089</span>    <span style=\"color: #008080; text-decoration-color: #008080; font-weight: bold\">37</span><span style=\"font-weight: bold\">]</span>\n",
       " <span style=\"font-weight: bold\">[</span>    <span style=\"color: #008080; text-decoration-color: #008080; font-weight: bold\">9</span> <span style=\"color: #008080; text-decoration-color: #008080; font-weight: bold\">71022</span><span style=\"font-weight: bold\">]]</span>\n",
       "</pre>\n"
      ],
      "text/plain": [
       "\u001b[1m[\u001b[0m\u001b[1m[\u001b[0m\u001b[1;36m71089\u001b[0m    \u001b[1;36m37\u001b[0m\u001b[1m]\u001b[0m\n",
       " \u001b[1m[\u001b[0m    \u001b[1;36m9\u001b[0m \u001b[1;36m71022\u001b[0m\u001b[1m]\u001b[0m\u001b[1m]\u001b[0m\n"
      ]
     },
     "metadata": {},
     "output_type": "display_data"
    },
    {
     "data": {
      "text/html": [
       "<pre style=\"white-space:pre;overflow-x:auto;line-height:normal;font-family:Menlo,'DejaVu Sans Mono',consolas,'Courier New',monospace\">Test confusion matrix:\n",
       "</pre>\n"
      ],
      "text/plain": [
       "Test confusion matrix:\n"
      ]
     },
     "metadata": {},
     "output_type": "display_data"
    },
    {
     "data": {
      "text/html": [
       "<pre style=\"white-space:pre;overflow-x:auto;line-height:normal;font-family:Menlo,'DejaVu Sans Mono',consolas,'Courier New',monospace\"><span style=\"font-weight: bold\">[[</span><span style=\"color: #008080; text-decoration-color: #008080; font-weight: bold\">70974</span>    <span style=\"color: #008080; text-decoration-color: #008080; font-weight: bold\">42</span><span style=\"font-weight: bold\">]</span>\n",
       " <span style=\"font-weight: bold\">[</span>   <span style=\"color: #008080; text-decoration-color: #008080; font-weight: bold\">12</span> <span style=\"color: #008080; text-decoration-color: #008080; font-weight: bold\">71130</span><span style=\"font-weight: bold\">]]</span>\n",
       "</pre>\n"
      ],
      "text/plain": [
       "\u001b[1m[\u001b[0m\u001b[1m[\u001b[0m\u001b[1;36m70974\u001b[0m    \u001b[1;36m42\u001b[0m\u001b[1m]\u001b[0m\n",
       " \u001b[1m[\u001b[0m   \u001b[1;36m12\u001b[0m \u001b[1;36m71130\u001b[0m\u001b[1m]\u001b[0m\u001b[1m]\u001b[0m\n"
      ]
     },
     "metadata": {},
     "output_type": "display_data"
    },
    {
     "data": {
      "text/html": [
       "<pre style=\"white-space:pre;overflow-x:auto;line-height:normal;font-family:Menlo,'DejaVu Sans Mono',consolas,'Courier New',monospace\">Train classification report:\n",
       "</pre>\n"
      ],
      "text/plain": [
       "Train classification report:\n"
      ]
     },
     "metadata": {},
     "output_type": "display_data"
    },
    {
     "data": {
      "text/html": [
       "<pre style=\"white-space:pre;overflow-x:auto;line-height:normal;font-family:Menlo,'DejaVu Sans Mono',consolas,'Courier New',monospace\">              precision    recall  f1-score   support\n",
       "\n",
       "           <span style=\"color: #008080; text-decoration-color: #008080; font-weight: bold\">0</span>       <span style=\"color: #008080; text-decoration-color: #008080; font-weight: bold\">1.00</span>      <span style=\"color: #008080; text-decoration-color: #008080; font-weight: bold\">1.00</span>      <span style=\"color: #008080; text-decoration-color: #008080; font-weight: bold\">1.00</span>    <span style=\"color: #008080; text-decoration-color: #008080; font-weight: bold\">142173</span>\n",
       "           <span style=\"color: #008080; text-decoration-color: #008080; font-weight: bold\">1</span>       <span style=\"color: #008080; text-decoration-color: #008080; font-weight: bold\">1.00</span>      <span style=\"color: #008080; text-decoration-color: #008080; font-weight: bold\">1.00</span>      <span style=\"color: #008080; text-decoration-color: #008080; font-weight: bold\">1.00</span>    <span style=\"color: #008080; text-decoration-color: #008080; font-weight: bold\">142142</span>\n",
       "\n",
       "    accuracy                           <span style=\"color: #008080; text-decoration-color: #008080; font-weight: bold\">1.00</span>    <span style=\"color: #008080; text-decoration-color: #008080; font-weight: bold\">284315</span>\n",
       "   macro avg       <span style=\"color: #008080; text-decoration-color: #008080; font-weight: bold\">1.00</span>      <span style=\"color: #008080; text-decoration-color: #008080; font-weight: bold\">1.00</span>      <span style=\"color: #008080; text-decoration-color: #008080; font-weight: bold\">1.00</span>    <span style=\"color: #008080; text-decoration-color: #008080; font-weight: bold\">284315</span>\n",
       "weighted avg       <span style=\"color: #008080; text-decoration-color: #008080; font-weight: bold\">1.00</span>      <span style=\"color: #008080; text-decoration-color: #008080; font-weight: bold\">1.00</span>      <span style=\"color: #008080; text-decoration-color: #008080; font-weight: bold\">1.00</span>    <span style=\"color: #008080; text-decoration-color: #008080; font-weight: bold\">284315</span>\n",
       "\n",
       "</pre>\n"
      ],
      "text/plain": [
       "              precision    recall  f1-score   support\n",
       "\n",
       "           \u001b[1;36m0\u001b[0m       \u001b[1;36m1.00\u001b[0m      \u001b[1;36m1.00\u001b[0m      \u001b[1;36m1.00\u001b[0m    \u001b[1;36m142173\u001b[0m\n",
       "           \u001b[1;36m1\u001b[0m       \u001b[1;36m1.00\u001b[0m      \u001b[1;36m1.00\u001b[0m      \u001b[1;36m1.00\u001b[0m    \u001b[1;36m142142\u001b[0m\n",
       "\n",
       "    accuracy                           \u001b[1;36m1.00\u001b[0m    \u001b[1;36m284315\u001b[0m\n",
       "   macro avg       \u001b[1;36m1.00\u001b[0m      \u001b[1;36m1.00\u001b[0m      \u001b[1;36m1.00\u001b[0m    \u001b[1;36m284315\u001b[0m\n",
       "weighted avg       \u001b[1;36m1.00\u001b[0m      \u001b[1;36m1.00\u001b[0m      \u001b[1;36m1.00\u001b[0m    \u001b[1;36m284315\u001b[0m\n",
       "\n"
      ]
     },
     "metadata": {},
     "output_type": "display_data"
    },
    {
     "data": {
      "text/html": [
       "<pre style=\"white-space:pre;overflow-x:auto;line-height:normal;font-family:Menlo,'DejaVu Sans Mono',consolas,'Courier New',monospace\">Valid classification report:\n",
       "</pre>\n"
      ],
      "text/plain": [
       "Valid classification report:\n"
      ]
     },
     "metadata": {},
     "output_type": "display_data"
    },
    {
     "data": {
      "text/html": [
       "<pre style=\"white-space:pre;overflow-x:auto;line-height:normal;font-family:Menlo,'DejaVu Sans Mono',consolas,'Courier New',monospace\">              precision    recall  f1-score   support\n",
       "\n",
       "           <span style=\"color: #008080; text-decoration-color: #008080; font-weight: bold\">0</span>       <span style=\"color: #008080; text-decoration-color: #008080; font-weight: bold\">1.00</span>      <span style=\"color: #008080; text-decoration-color: #008080; font-weight: bold\">1.00</span>      <span style=\"color: #008080; text-decoration-color: #008080; font-weight: bold\">1.00</span>     <span style=\"color: #008080; text-decoration-color: #008080; font-weight: bold\">71126</span>\n",
       "           <span style=\"color: #008080; text-decoration-color: #008080; font-weight: bold\">1</span>       <span style=\"color: #008080; text-decoration-color: #008080; font-weight: bold\">1.00</span>      <span style=\"color: #008080; text-decoration-color: #008080; font-weight: bold\">1.00</span>      <span style=\"color: #008080; text-decoration-color: #008080; font-weight: bold\">1.00</span>     <span style=\"color: #008080; text-decoration-color: #008080; font-weight: bold\">71031</span>\n",
       "\n",
       "    accuracy                           <span style=\"color: #008080; text-decoration-color: #008080; font-weight: bold\">1.00</span>    <span style=\"color: #008080; text-decoration-color: #008080; font-weight: bold\">142157</span>\n",
       "   macro avg       <span style=\"color: #008080; text-decoration-color: #008080; font-weight: bold\">1.00</span>      <span style=\"color: #008080; text-decoration-color: #008080; font-weight: bold\">1.00</span>      <span style=\"color: #008080; text-decoration-color: #008080; font-weight: bold\">1.00</span>    <span style=\"color: #008080; text-decoration-color: #008080; font-weight: bold\">142157</span>\n",
       "weighted avg       <span style=\"color: #008080; text-decoration-color: #008080; font-weight: bold\">1.00</span>      <span style=\"color: #008080; text-decoration-color: #008080; font-weight: bold\">1.00</span>      <span style=\"color: #008080; text-decoration-color: #008080; font-weight: bold\">1.00</span>    <span style=\"color: #008080; text-decoration-color: #008080; font-weight: bold\">142157</span>\n",
       "\n",
       "</pre>\n"
      ],
      "text/plain": [
       "              precision    recall  f1-score   support\n",
       "\n",
       "           \u001b[1;36m0\u001b[0m       \u001b[1;36m1.00\u001b[0m      \u001b[1;36m1.00\u001b[0m      \u001b[1;36m1.00\u001b[0m     \u001b[1;36m71126\u001b[0m\n",
       "           \u001b[1;36m1\u001b[0m       \u001b[1;36m1.00\u001b[0m      \u001b[1;36m1.00\u001b[0m      \u001b[1;36m1.00\u001b[0m     \u001b[1;36m71031\u001b[0m\n",
       "\n",
       "    accuracy                           \u001b[1;36m1.00\u001b[0m    \u001b[1;36m142157\u001b[0m\n",
       "   macro avg       \u001b[1;36m1.00\u001b[0m      \u001b[1;36m1.00\u001b[0m      \u001b[1;36m1.00\u001b[0m    \u001b[1;36m142157\u001b[0m\n",
       "weighted avg       \u001b[1;36m1.00\u001b[0m      \u001b[1;36m1.00\u001b[0m      \u001b[1;36m1.00\u001b[0m    \u001b[1;36m142157\u001b[0m\n",
       "\n"
      ]
     },
     "metadata": {},
     "output_type": "display_data"
    },
    {
     "data": {
      "text/html": [
       "<pre style=\"white-space:pre;overflow-x:auto;line-height:normal;font-family:Menlo,'DejaVu Sans Mono',consolas,'Courier New',monospace\">Test classification report:\n",
       "</pre>\n"
      ],
      "text/plain": [
       "Test classification report:\n"
      ]
     },
     "metadata": {},
     "output_type": "display_data"
    },
    {
     "data": {
      "text/html": [
       "<pre style=\"white-space:pre;overflow-x:auto;line-height:normal;font-family:Menlo,'DejaVu Sans Mono',consolas,'Courier New',monospace\">              precision    recall  f1-score   support\n",
       "\n",
       "           <span style=\"color: #008080; text-decoration-color: #008080; font-weight: bold\">0</span>       <span style=\"color: #008080; text-decoration-color: #008080; font-weight: bold\">1.00</span>      <span style=\"color: #008080; text-decoration-color: #008080; font-weight: bold\">1.00</span>      <span style=\"color: #008080; text-decoration-color: #008080; font-weight: bold\">1.00</span>     <span style=\"color: #008080; text-decoration-color: #008080; font-weight: bold\">71016</span>\n",
       "           <span style=\"color: #008080; text-decoration-color: #008080; font-weight: bold\">1</span>       <span style=\"color: #008080; text-decoration-color: #008080; font-weight: bold\">1.00</span>      <span style=\"color: #008080; text-decoration-color: #008080; font-weight: bold\">1.00</span>      <span style=\"color: #008080; text-decoration-color: #008080; font-weight: bold\">1.00</span>     <span style=\"color: #008080; text-decoration-color: #008080; font-weight: bold\">71142</span>\n",
       "\n",
       "    accuracy                           <span style=\"color: #008080; text-decoration-color: #008080; font-weight: bold\">1.00</span>    <span style=\"color: #008080; text-decoration-color: #008080; font-weight: bold\">142158</span>\n",
       "   macro avg       <span style=\"color: #008080; text-decoration-color: #008080; font-weight: bold\">1.00</span>      <span style=\"color: #008080; text-decoration-color: #008080; font-weight: bold\">1.00</span>      <span style=\"color: #008080; text-decoration-color: #008080; font-weight: bold\">1.00</span>    <span style=\"color: #008080; text-decoration-color: #008080; font-weight: bold\">142158</span>\n",
       "weighted avg       <span style=\"color: #008080; text-decoration-color: #008080; font-weight: bold\">1.00</span>      <span style=\"color: #008080; text-decoration-color: #008080; font-weight: bold\">1.00</span>      <span style=\"color: #008080; text-decoration-color: #008080; font-weight: bold\">1.00</span>    <span style=\"color: #008080; text-decoration-color: #008080; font-weight: bold\">142158</span>\n",
       "\n",
       "</pre>\n"
      ],
      "text/plain": [
       "              precision    recall  f1-score   support\n",
       "\n",
       "           \u001b[1;36m0\u001b[0m       \u001b[1;36m1.00\u001b[0m      \u001b[1;36m1.00\u001b[0m      \u001b[1;36m1.00\u001b[0m     \u001b[1;36m71016\u001b[0m\n",
       "           \u001b[1;36m1\u001b[0m       \u001b[1;36m1.00\u001b[0m      \u001b[1;36m1.00\u001b[0m      \u001b[1;36m1.00\u001b[0m     \u001b[1;36m71142\u001b[0m\n",
       "\n",
       "    accuracy                           \u001b[1;36m1.00\u001b[0m    \u001b[1;36m142158\u001b[0m\n",
       "   macro avg       \u001b[1;36m1.00\u001b[0m      \u001b[1;36m1.00\u001b[0m      \u001b[1;36m1.00\u001b[0m    \u001b[1;36m142158\u001b[0m\n",
       "weighted avg       \u001b[1;36m1.00\u001b[0m      \u001b[1;36m1.00\u001b[0m      \u001b[1;36m1.00\u001b[0m    \u001b[1;36m142158\u001b[0m\n",
       "\n"
      ]
     },
     "metadata": {},
     "output_type": "display_data"
    }
   ],
   "source": [
    "print(\"Printing final results\")\n",
    "\n",
    "predict_train = best_mlp.predict(features_train)\n",
    "predict_valid = best_mlp.predict(features_valid)\n",
    "predict_test = best_mlp.predict(features_test)\n",
    "\n",
    "print(\"Train accuracy: %.3f%%\" % (accuracy_score(target_train, predict_train) * 100))\n",
    "print(\"Valid accuracy: %.3f%%\" % (accuracy_score(target_valid, predict_valid) * 100))\n",
    "print(\"Test accuracy: %.3f%%\" % (accuracy_score(target_test, predict_test) * 100))\n",
    "\n",
    "print(\"Train confusion matrix:\")\n",
    "print(confusion_matrix(target_train, predict_train))\n",
    "print(\"Valid confusion matrix:\")\n",
    "print(confusion_matrix(target_valid, predict_valid))\n",
    "print(\"Test confusion matrix:\")\n",
    "print(confusion_matrix(target_test, predict_test))\n",
    "\n",
    "print(\"Train classification report:\")\n",
    "print(classification_report(target_train, predict_train))\n",
    "print(\"Valid classification report:\")\n",
    "print(classification_report(target_valid, predict_valid))\n",
    "print(\"Test classification report:\")\n",
    "print(classification_report(target_test, predict_test))"
   ]
  },
  {
   "attachments": {},
   "cell_type": "markdown",
   "metadata": {},
   "source": [
    "Los resultados muestran que el modelo tiene un alto rendimiento en la clasificación de transacciones, con una precisión del 99.968% en el conjunto de validación y del 99.962% en el conjunto de prueba. Además, el modelo tiene un alto recall, lo que indica que es bueno para detectar transacciones fraudulentas (clase 1).\n",
    "\n",
    "En particular, en el conjunto de entrenamiento, el modelo clasifica correctamente el 99.99% de las transacciones no fraudulentas (clase 0) y el 99.99% de las transacciones fraudulentas (clase 1), lo que indica que el modelo está haciendo un excelente trabajo en aprender a distinguir entre las dos clases. En el conjunto de validación y prueba, la precisión y el recall también son muy altos para ambas clases, lo que indica que el modelo generaliza bien a nuevos datos."
   ]
  },
  {
   "attachments": {},
   "cell_type": "markdown",
   "metadata": {},
   "source": [
    "A continuación, representaremos la distribución de curvas de los true positive y los true negatives (ROC curve)"
   ]
  },
  {
   "cell_type": "code",
   "execution_count": 17,
   "metadata": {},
   "outputs": [
    {
     "data": {
      "text/html": [
       "<pre style=\"white-space:pre;overflow-x:auto;line-height:normal;font-family:Menlo,'DejaVu Sans Mono',consolas,'Courier New',monospace\">Printing ROC curves of test set\n",
       "</pre>\n"
      ],
      "text/plain": [
       "Printing ROC curves of test set\n"
      ]
     },
     "metadata": {},
     "output_type": "display_data"
    },
    {
     "data": {
      "image/png": "[encoded data removed]",
      "text/plain": [
       "<Figure size 640x480 with 1 Axes>"
      ]
     },
     "metadata": {},
     "output_type": "display_data"
    }
   ],
   "source": [
    "mlp_probs = mlp.predict_proba(features_test)\n",
    "classes  = np.unique(target_train)\n",
    "mlp_auc = []\n",
    "mlp_fpr = []\n",
    "mlp_tpr = []\n",
    "for cla in classes:\n",
    "    mlp_auc.append(roc_auc_score(target_test==cla, mlp_probs[:,cla]))\n",
    "    fpr, tpr, _ = roc_curve(target_test==cla, mlp_probs[:,cla])\n",
    "    mlp_fpr.append(fpr)\n",
    "    mlp_tpr.append(tpr)\n",
    "\n",
    "print(\"Printing ROC curves of test set\")\n",
    "\n",
    "\n",
    "for cla in classes:\n",
    "    plt.plot(mlp_fpr[cla], mlp_tpr[cla], marker='.', label='Class %d (AUC: %.5f)' % (cla, mlp_auc[cla]))\n",
    "\n",
    "plt.plot([0, 1], [0, 1], color='navy', linestyle='--')\n",
    "plt.xlabel('False Positive Rate')\n",
    "plt.ylabel('True Positive Rate')\n",
    "plt.legend()\n",
    "plt.show()"
   ]
  },
  {
   "attachments": {},
   "cell_type": "markdown",
   "metadata": {},
   "source": [
    "AUC:\n",
    "- Class 0: 0.99996\n",
    "- Class 1: 0.99996\n",
    "\n",
    "A partir de estos resultados vemos que ambas curvas prácticamente no se superponen (tiene una medida ideal de separabilidad), por lo que podemos afirmar que nuestro modelo es capaz de distinguir casi a la pefección entre la clase positiva y la negativa, que en nuestro caso representarían las transacciones no fraudulentas y  fraudulentas."
   ]
  },
  {
   "cell_type": "code",
   "execution_count": 18,
   "metadata": {},
   "outputs": [
    {
     "data": {
      "text/html": [
       "<pre style=\"white-space:pre;overflow-x:auto;line-height:normal;font-family:Menlo,'DejaVu Sans Mono',consolas,'Courier New',monospace\"><span style=\"font-weight: bold\">[</span><span style=\"color: #008080; text-decoration-color: #008080; font-weight: bold\">0</span> <span style=\"color: #008080; text-decoration-color: #008080; font-weight: bold\">0</span> <span style=\"color: #008080; text-decoration-color: #008080; font-weight: bold\">0</span> <span style=\"color: #808000; text-decoration-color: #808000\">...</span> <span style=\"color: #008080; text-decoration-color: #008080; font-weight: bold\">0</span> <span style=\"color: #008080; text-decoration-color: #008080; font-weight: bold\">0</span> <span style=\"color: #008080; text-decoration-color: #008080; font-weight: bold\">1</span><span style=\"font-weight: bold\">]</span>\n",
       "</pre>\n"
      ],
      "text/plain": [
       "\u001b[1m[\u001b[0m\u001b[1;36m0\u001b[0m \u001b[1;36m0\u001b[0m \u001b[1;36m0\u001b[0m \u001b[33m...\u001b[0m \u001b[1;36m0\u001b[0m \u001b[1;36m0\u001b[0m \u001b[1;36m1\u001b[0m\u001b[1m]\u001b[0m\n"
      ]
     },
     "metadata": {},
     "output_type": "display_data"
    },
    {
     "data": {
      "text/html": [
       "<pre style=\"white-space:pre;overflow-x:auto;line-height:normal;font-family:Menlo,'DejaVu Sans Mono',consolas,'Courier New',monospace\">Fila: <span style=\"color: #008080; text-decoration-color: #008080; font-weight: bold\">3365</span> Predicción: <span style=\"color: #008080; text-decoration-color: #008080; font-weight: bold\">1</span> Real: <span style=\"color: #008080; text-decoration-color: #008080; font-weight: bold\">0</span>\n",
       "</pre>\n"
      ],
      "text/plain": [
       "Fila: \u001b[1;36m3365\u001b[0m Predicción: \u001b[1;36m1\u001b[0m Real: \u001b[1;36m0\u001b[0m\n"
      ]
     },
     "metadata": {},
     "output_type": "display_data"
    },
    {
     "data": {
      "text/html": [
       "<pre style=\"white-space:pre;overflow-x:auto;line-height:normal;font-family:Menlo,'DejaVu Sans Mono',consolas,'Courier New',monospace\">Fila: <span style=\"color: #008080; text-decoration-color: #008080; font-weight: bold\">4498</span> Predicción: <span style=\"color: #008080; text-decoration-color: #008080; font-weight: bold\">1</span> Real: <span style=\"color: #008080; text-decoration-color: #008080; font-weight: bold\">0</span>\n",
       "</pre>\n"
      ],
      "text/plain": [
       "Fila: \u001b[1;36m4498\u001b[0m Predicción: \u001b[1;36m1\u001b[0m Real: \u001b[1;36m0\u001b[0m\n"
      ]
     },
     "metadata": {},
     "output_type": "display_data"
    },
    {
     "data": {
      "text/html": [
       "<pre style=\"white-space:pre;overflow-x:auto;line-height:normal;font-family:Menlo,'DejaVu Sans Mono',consolas,'Courier New',monospace\">Fila: <span style=\"color: #008080; text-decoration-color: #008080; font-weight: bold\">8446</span> Predicción: <span style=\"color: #008080; text-decoration-color: #008080; font-weight: bold\">1</span> Real: <span style=\"color: #008080; text-decoration-color: #008080; font-weight: bold\">0</span>\n",
       "</pre>\n"
      ],
      "text/plain": [
       "Fila: \u001b[1;36m8446\u001b[0m Predicción: \u001b[1;36m1\u001b[0m Real: \u001b[1;36m0\u001b[0m\n"
      ]
     },
     "metadata": {},
     "output_type": "display_data"
    },
    {
     "data": {
      "text/html": [
       "<pre style=\"white-space:pre;overflow-x:auto;line-height:normal;font-family:Menlo,'DejaVu Sans Mono',consolas,'Courier New',monospace\">Fila: <span style=\"color: #008080; text-decoration-color: #008080; font-weight: bold\">14445</span> Predicción: <span style=\"color: #008080; text-decoration-color: #008080; font-weight: bold\">1</span> Real: <span style=\"color: #008080; text-decoration-color: #008080; font-weight: bold\">0</span>\n",
       "</pre>\n"
      ],
      "text/plain": [
       "Fila: \u001b[1;36m14445\u001b[0m Predicción: \u001b[1;36m1\u001b[0m Real: \u001b[1;36m0\u001b[0m\n"
      ]
     },
     "metadata": {},
     "output_type": "display_data"
    },
    {
     "data": {
      "text/html": [
       "<pre style=\"white-space:pre;overflow-x:auto;line-height:normal;font-family:Menlo,'DejaVu Sans Mono',consolas,'Courier New',monospace\">Fila: <span style=\"color: #008080; text-decoration-color: #008080; font-weight: bold\">18720</span> Predicción: <span style=\"color: #008080; text-decoration-color: #008080; font-weight: bold\">0</span> Real: <span style=\"color: #008080; text-decoration-color: #008080; font-weight: bold\">1</span>\n",
       "</pre>\n"
      ],
      "text/plain": [
       "Fila: \u001b[1;36m18720\u001b[0m Predicción: \u001b[1;36m0\u001b[0m Real: \u001b[1;36m1\u001b[0m\n"
      ]
     },
     "metadata": {},
     "output_type": "display_data"
    },
    {
     "data": {
      "text/html": [
       "<pre style=\"white-space:pre;overflow-x:auto;line-height:normal;font-family:Menlo,'DejaVu Sans Mono',consolas,'Courier New',monospace\">Fila: <span style=\"color: #008080; text-decoration-color: #008080; font-weight: bold\">20286</span> Predicción: <span style=\"color: #008080; text-decoration-color: #008080; font-weight: bold\">1</span> Real: <span style=\"color: #008080; text-decoration-color: #008080; font-weight: bold\">0</span>\n",
       "</pre>\n"
      ],
      "text/plain": [
       "Fila: \u001b[1;36m20286\u001b[0m Predicción: \u001b[1;36m1\u001b[0m Real: \u001b[1;36m0\u001b[0m\n"
      ]
     },
     "metadata": {},
     "output_type": "display_data"
    },
    {
     "data": {
      "text/html": [
       "<pre style=\"white-space:pre;overflow-x:auto;line-height:normal;font-family:Menlo,'DejaVu Sans Mono',consolas,'Courier New',monospace\">Fila: <span style=\"color: #008080; text-decoration-color: #008080; font-weight: bold\">22084</span> Predicción: <span style=\"color: #008080; text-decoration-color: #008080; font-weight: bold\">1</span> Real: <span style=\"color: #008080; text-decoration-color: #008080; font-weight: bold\">0</span>\n",
       "</pre>\n"
      ],
      "text/plain": [
       "Fila: \u001b[1;36m22084\u001b[0m Predicción: \u001b[1;36m1\u001b[0m Real: \u001b[1;36m0\u001b[0m\n"
      ]
     },
     "metadata": {},
     "output_type": "display_data"
    },
    {
     "data": {
      "text/html": [
       "<pre style=\"white-space:pre;overflow-x:auto;line-height:normal;font-family:Menlo,'DejaVu Sans Mono',consolas,'Courier New',monospace\">Fila: <span style=\"color: #008080; text-decoration-color: #008080; font-weight: bold\">25552</span> Predicción: <span style=\"color: #008080; text-decoration-color: #008080; font-weight: bold\">0</span> Real: <span style=\"color: #008080; text-decoration-color: #008080; font-weight: bold\">1</span>\n",
       "</pre>\n"
      ],
      "text/plain": [
       "Fila: \u001b[1;36m25552\u001b[0m Predicción: \u001b[1;36m0\u001b[0m Real: \u001b[1;36m1\u001b[0m\n"
      ]
     },
     "metadata": {},
     "output_type": "display_data"
    },
    {
     "data": {
      "text/html": [
       "<pre style=\"white-space:pre;overflow-x:auto;line-height:normal;font-family:Menlo,'DejaVu Sans Mono',consolas,'Courier New',monospace\">Fila: <span style=\"color: #008080; text-decoration-color: #008080; font-weight: bold\">28185</span> Predicción: <span style=\"color: #008080; text-decoration-color: #008080; font-weight: bold\">1</span> Real: <span style=\"color: #008080; text-decoration-color: #008080; font-weight: bold\">0</span>\n",
       "</pre>\n"
      ],
      "text/plain": [
       "Fila: \u001b[1;36m28185\u001b[0m Predicción: \u001b[1;36m1\u001b[0m Real: \u001b[1;36m0\u001b[0m\n"
      ]
     },
     "metadata": {},
     "output_type": "display_data"
    },
    {
     "data": {
      "text/html": [
       "<pre style=\"white-space:pre;overflow-x:auto;line-height:normal;font-family:Menlo,'DejaVu Sans Mono',consolas,'Courier New',monospace\">Fila: <span style=\"color: #008080; text-decoration-color: #008080; font-weight: bold\">29510</span> Predicción: <span style=\"color: #008080; text-decoration-color: #008080; font-weight: bold\">1</span> Real: <span style=\"color: #008080; text-decoration-color: #008080; font-weight: bold\">0</span>\n",
       "</pre>\n"
      ],
      "text/plain": [
       "Fila: \u001b[1;36m29510\u001b[0m Predicción: \u001b[1;36m1\u001b[0m Real: \u001b[1;36m0\u001b[0m\n"
      ]
     },
     "metadata": {},
     "output_type": "display_data"
    },
    {
     "data": {
      "text/html": [
       "<pre style=\"white-space:pre;overflow-x:auto;line-height:normal;font-family:Menlo,'DejaVu Sans Mono',consolas,'Courier New',monospace\">Fila: <span style=\"color: #008080; text-decoration-color: #008080; font-weight: bold\">29831</span> Predicción: <span style=\"color: #008080; text-decoration-color: #008080; font-weight: bold\">1</span> Real: <span style=\"color: #008080; text-decoration-color: #008080; font-weight: bold\">0</span>\n",
       "</pre>\n"
      ],
      "text/plain": [
       "Fila: \u001b[1;36m29831\u001b[0m Predicción: \u001b[1;36m1\u001b[0m Real: \u001b[1;36m0\u001b[0m\n"
      ]
     },
     "metadata": {},
     "output_type": "display_data"
    },
    {
     "data": {
      "text/html": [
       "<pre style=\"white-space:pre;overflow-x:auto;line-height:normal;font-family:Menlo,'DejaVu Sans Mono',consolas,'Courier New',monospace\">Fila: <span style=\"color: #008080; text-decoration-color: #008080; font-weight: bold\">32098</span> Predicción: <span style=\"color: #008080; text-decoration-color: #008080; font-weight: bold\">1</span> Real: <span style=\"color: #008080; text-decoration-color: #008080; font-weight: bold\">0</span>\n",
       "</pre>\n"
      ],
      "text/plain": [
       "Fila: \u001b[1;36m32098\u001b[0m Predicción: \u001b[1;36m1\u001b[0m Real: \u001b[1;36m0\u001b[0m\n"
      ]
     },
     "metadata": {},
     "output_type": "display_data"
    },
    {
     "data": {
      "text/html": [
       "<pre style=\"white-space:pre;overflow-x:auto;line-height:normal;font-family:Menlo,'DejaVu Sans Mono',consolas,'Courier New',monospace\">Fila: <span style=\"color: #008080; text-decoration-color: #008080; font-weight: bold\">32445</span> Predicción: <span style=\"color: #008080; text-decoration-color: #008080; font-weight: bold\">1</span> Real: <span style=\"color: #008080; text-decoration-color: #008080; font-weight: bold\">0</span>\n",
       "</pre>\n"
      ],
      "text/plain": [
       "Fila: \u001b[1;36m32445\u001b[0m Predicción: \u001b[1;36m1\u001b[0m Real: \u001b[1;36m0\u001b[0m\n"
      ]
     },
     "metadata": {},
     "output_type": "display_data"
    },
    {
     "data": {
      "text/html": [
       "<pre style=\"white-space:pre;overflow-x:auto;line-height:normal;font-family:Menlo,'DejaVu Sans Mono',consolas,'Courier New',monospace\">Fila: <span style=\"color: #008080; text-decoration-color: #008080; font-weight: bold\">32641</span> Predicción: <span style=\"color: #008080; text-decoration-color: #008080; font-weight: bold\">0</span> Real: <span style=\"color: #008080; text-decoration-color: #008080; font-weight: bold\">1</span>\n",
       "</pre>\n"
      ],
      "text/plain": [
       "Fila: \u001b[1;36m32641\u001b[0m Predicción: \u001b[1;36m0\u001b[0m Real: \u001b[1;36m1\u001b[0m\n"
      ]
     },
     "metadata": {},
     "output_type": "display_data"
    },
    {
     "data": {
      "text/html": [
       "<pre style=\"white-space:pre;overflow-x:auto;line-height:normal;font-family:Menlo,'DejaVu Sans Mono',consolas,'Courier New',monospace\">Fila: <span style=\"color: #008080; text-decoration-color: #008080; font-weight: bold\">36852</span> Predicción: <span style=\"color: #008080; text-decoration-color: #008080; font-weight: bold\">1</span> Real: <span style=\"color: #008080; text-decoration-color: #008080; font-weight: bold\">0</span>\n",
       "</pre>\n"
      ],
      "text/plain": [
       "Fila: \u001b[1;36m36852\u001b[0m Predicción: \u001b[1;36m1\u001b[0m Real: \u001b[1;36m0\u001b[0m\n"
      ]
     },
     "metadata": {},
     "output_type": "display_data"
    },
    {
     "data": {
      "text/html": [
       "<pre style=\"white-space:pre;overflow-x:auto;line-height:normal;font-family:Menlo,'DejaVu Sans Mono',consolas,'Courier New',monospace\">Fila: <span style=\"color: #008080; text-decoration-color: #008080; font-weight: bold\">40551</span> Predicción: <span style=\"color: #008080; text-decoration-color: #008080; font-weight: bold\">0</span> Real: <span style=\"color: #008080; text-decoration-color: #008080; font-weight: bold\">1</span>\n",
       "</pre>\n"
      ],
      "text/plain": [
       "Fila: \u001b[1;36m40551\u001b[0m Predicción: \u001b[1;36m0\u001b[0m Real: \u001b[1;36m1\u001b[0m\n"
      ]
     },
     "metadata": {},
     "output_type": "display_data"
    },
    {
     "data": {
      "text/html": [
       "<pre style=\"white-space:pre;overflow-x:auto;line-height:normal;font-family:Menlo,'DejaVu Sans Mono',consolas,'Courier New',monospace\">Fila: <span style=\"color: #008080; text-decoration-color: #008080; font-weight: bold\">40842</span> Predicción: <span style=\"color: #008080; text-decoration-color: #008080; font-weight: bold\">1</span> Real: <span style=\"color: #008080; text-decoration-color: #008080; font-weight: bold\">0</span>\n",
       "</pre>\n"
      ],
      "text/plain": [
       "Fila: \u001b[1;36m40842\u001b[0m Predicción: \u001b[1;36m1\u001b[0m Real: \u001b[1;36m0\u001b[0m\n"
      ]
     },
     "metadata": {},
     "output_type": "display_data"
    },
    {
     "data": {
      "text/html": [
       "<pre style=\"white-space:pre;overflow-x:auto;line-height:normal;font-family:Menlo,'DejaVu Sans Mono',consolas,'Courier New',monospace\">Fila: <span style=\"color: #008080; text-decoration-color: #008080; font-weight: bold\">42674</span> Predicción: <span style=\"color: #008080; text-decoration-color: #008080; font-weight: bold\">1</span> Real: <span style=\"color: #008080; text-decoration-color: #008080; font-weight: bold\">0</span>\n",
       "</pre>\n"
      ],
      "text/plain": [
       "Fila: \u001b[1;36m42674\u001b[0m Predicción: \u001b[1;36m1\u001b[0m Real: \u001b[1;36m0\u001b[0m\n"
      ]
     },
     "metadata": {},
     "output_type": "display_data"
    },
    {
     "data": {
      "text/html": [
       "<pre style=\"white-space:pre;overflow-x:auto;line-height:normal;font-family:Menlo,'DejaVu Sans Mono',consolas,'Courier New',monospace\">Fila: <span style=\"color: #008080; text-decoration-color: #008080; font-weight: bold\">44621</span> Predicción: <span style=\"color: #008080; text-decoration-color: #008080; font-weight: bold\">1</span> Real: <span style=\"color: #008080; text-decoration-color: #008080; font-weight: bold\">0</span>\n",
       "</pre>\n"
      ],
      "text/plain": [
       "Fila: \u001b[1;36m44621\u001b[0m Predicción: \u001b[1;36m1\u001b[0m Real: \u001b[1;36m0\u001b[0m\n"
      ]
     },
     "metadata": {},
     "output_type": "display_data"
    },
    {
     "data": {
      "text/html": [
       "<pre style=\"white-space:pre;overflow-x:auto;line-height:normal;font-family:Menlo,'DejaVu Sans Mono',consolas,'Courier New',monospace\">Fila: <span style=\"color: #008080; text-decoration-color: #008080; font-weight: bold\">46259</span> Predicción: <span style=\"color: #008080; text-decoration-color: #008080; font-weight: bold\">1</span> Real: <span style=\"color: #008080; text-decoration-color: #008080; font-weight: bold\">0</span>\n",
       "</pre>\n"
      ],
      "text/plain": [
       "Fila: \u001b[1;36m46259\u001b[0m Predicción: \u001b[1;36m1\u001b[0m Real: \u001b[1;36m0\u001b[0m\n"
      ]
     },
     "metadata": {},
     "output_type": "display_data"
    },
    {
     "data": {
      "text/html": [
       "<pre style=\"white-space:pre;overflow-x:auto;line-height:normal;font-family:Menlo,'DejaVu Sans Mono',consolas,'Courier New',monospace\">Fila: <span style=\"color: #008080; text-decoration-color: #008080; font-weight: bold\">47853</span> Predicción: <span style=\"color: #008080; text-decoration-color: #008080; font-weight: bold\">1</span> Real: <span style=\"color: #008080; text-decoration-color: #008080; font-weight: bold\">0</span>\n",
       "</pre>\n"
      ],
      "text/plain": [
       "Fila: \u001b[1;36m47853\u001b[0m Predicción: \u001b[1;36m1\u001b[0m Real: \u001b[1;36m0\u001b[0m\n"
      ]
     },
     "metadata": {},
     "output_type": "display_data"
    },
    {
     "data": {
      "text/html": [
       "<pre style=\"white-space:pre;overflow-x:auto;line-height:normal;font-family:Menlo,'DejaVu Sans Mono',consolas,'Courier New',monospace\">Fila: <span style=\"color: #008080; text-decoration-color: #008080; font-weight: bold\">48922</span> Predicción: <span style=\"color: #008080; text-decoration-color: #008080; font-weight: bold\">1</span> Real: <span style=\"color: #008080; text-decoration-color: #008080; font-weight: bold\">0</span>\n",
       "</pre>\n"
      ],
      "text/plain": [
       "Fila: \u001b[1;36m48922\u001b[0m Predicción: \u001b[1;36m1\u001b[0m Real: \u001b[1;36m0\u001b[0m\n"
      ]
     },
     "metadata": {},
     "output_type": "display_data"
    },
    {
     "data": {
      "text/html": [
       "<pre style=\"white-space:pre;overflow-x:auto;line-height:normal;font-family:Menlo,'DejaVu Sans Mono',consolas,'Courier New',monospace\">Fila: <span style=\"color: #008080; text-decoration-color: #008080; font-weight: bold\">49523</span> Predicción: <span style=\"color: #008080; text-decoration-color: #008080; font-weight: bold\">0</span> Real: <span style=\"color: #008080; text-decoration-color: #008080; font-weight: bold\">1</span>\n",
       "</pre>\n"
      ],
      "text/plain": [
       "Fila: \u001b[1;36m49523\u001b[0m Predicción: \u001b[1;36m0\u001b[0m Real: \u001b[1;36m1\u001b[0m\n"
      ]
     },
     "metadata": {},
     "output_type": "display_data"
    },
    {
     "data": {
      "text/html": [
       "<pre style=\"white-space:pre;overflow-x:auto;line-height:normal;font-family:Menlo,'DejaVu Sans Mono',consolas,'Courier New',monospace\">Fila: <span style=\"color: #008080; text-decoration-color: #008080; font-weight: bold\">50963</span> Predicción: <span style=\"color: #008080; text-decoration-color: #008080; font-weight: bold\">1</span> Real: <span style=\"color: #008080; text-decoration-color: #008080; font-weight: bold\">0</span>\n",
       "</pre>\n"
      ],
      "text/plain": [
       "Fila: \u001b[1;36m50963\u001b[0m Predicción: \u001b[1;36m1\u001b[0m Real: \u001b[1;36m0\u001b[0m\n"
      ]
     },
     "metadata": {},
     "output_type": "display_data"
    },
    {
     "data": {
      "text/html": [
       "<pre style=\"white-space:pre;overflow-x:auto;line-height:normal;font-family:Menlo,'DejaVu Sans Mono',consolas,'Courier New',monospace\">Fila: <span style=\"color: #008080; text-decoration-color: #008080; font-weight: bold\">51109</span> Predicción: <span style=\"color: #008080; text-decoration-color: #008080; font-weight: bold\">1</span> Real: <span style=\"color: #008080; text-decoration-color: #008080; font-weight: bold\">0</span>\n",
       "</pre>\n"
      ],
      "text/plain": [
       "Fila: \u001b[1;36m51109\u001b[0m Predicción: \u001b[1;36m1\u001b[0m Real: \u001b[1;36m0\u001b[0m\n"
      ]
     },
     "metadata": {},
     "output_type": "display_data"
    },
    {
     "data": {
      "text/html": [
       "<pre style=\"white-space:pre;overflow-x:auto;line-height:normal;font-family:Menlo,'DejaVu Sans Mono',consolas,'Courier New',monospace\">Fila: <span style=\"color: #008080; text-decoration-color: #008080; font-weight: bold\">51241</span> Predicción: <span style=\"color: #008080; text-decoration-color: #008080; font-weight: bold\">1</span> Real: <span style=\"color: #008080; text-decoration-color: #008080; font-weight: bold\">0</span>\n",
       "</pre>\n"
      ],
      "text/plain": [
       "Fila: \u001b[1;36m51241\u001b[0m Predicción: \u001b[1;36m1\u001b[0m Real: \u001b[1;36m0\u001b[0m\n"
      ]
     },
     "metadata": {},
     "output_type": "display_data"
    },
    {
     "data": {
      "text/html": [
       "<pre style=\"white-space:pre;overflow-x:auto;line-height:normal;font-family:Menlo,'DejaVu Sans Mono',consolas,'Courier New',monospace\">Fila: <span style=\"color: #008080; text-decoration-color: #008080; font-weight: bold\">55092</span> Predicción: <span style=\"color: #008080; text-decoration-color: #008080; font-weight: bold\">1</span> Real: <span style=\"color: #008080; text-decoration-color: #008080; font-weight: bold\">0</span>\n",
       "</pre>\n"
      ],
      "text/plain": [
       "Fila: \u001b[1;36m55092\u001b[0m Predicción: \u001b[1;36m1\u001b[0m Real: \u001b[1;36m0\u001b[0m\n"
      ]
     },
     "metadata": {},
     "output_type": "display_data"
    },
    {
     "data": {
      "text/html": [
       "<pre style=\"white-space:pre;overflow-x:auto;line-height:normal;font-family:Menlo,'DejaVu Sans Mono',consolas,'Courier New',monospace\">Fila: <span style=\"color: #008080; text-decoration-color: #008080; font-weight: bold\">56169</span> Predicción: <span style=\"color: #008080; text-decoration-color: #008080; font-weight: bold\">1</span> Real: <span style=\"color: #008080; text-decoration-color: #008080; font-weight: bold\">0</span>\n",
       "</pre>\n"
      ],
      "text/plain": [
       "Fila: \u001b[1;36m56169\u001b[0m Predicción: \u001b[1;36m1\u001b[0m Real: \u001b[1;36m0\u001b[0m\n"
      ]
     },
     "metadata": {},
     "output_type": "display_data"
    },
    {
     "data": {
      "text/html": [
       "<pre style=\"white-space:pre;overflow-x:auto;line-height:normal;font-family:Menlo,'DejaVu Sans Mono',consolas,'Courier New',monospace\">Fila: <span style=\"color: #008080; text-decoration-color: #008080; font-weight: bold\">63578</span> Predicción: <span style=\"color: #008080; text-decoration-color: #008080; font-weight: bold\">0</span> Real: <span style=\"color: #008080; text-decoration-color: #008080; font-weight: bold\">1</span>\n",
       "</pre>\n"
      ],
      "text/plain": [
       "Fila: \u001b[1;36m63578\u001b[0m Predicción: \u001b[1;36m0\u001b[0m Real: \u001b[1;36m1\u001b[0m\n"
      ]
     },
     "metadata": {},
     "output_type": "display_data"
    },
    {
     "data": {
      "text/html": [
       "<pre style=\"white-space:pre;overflow-x:auto;line-height:normal;font-family:Menlo,'DejaVu Sans Mono',consolas,'Courier New',monospace\">Fila: <span style=\"color: #008080; text-decoration-color: #008080; font-weight: bold\">66862</span> Predicción: <span style=\"color: #008080; text-decoration-color: #008080; font-weight: bold\">0</span> Real: <span style=\"color: #008080; text-decoration-color: #008080; font-weight: bold\">1</span>\n",
       "</pre>\n"
      ],
      "text/plain": [
       "Fila: \u001b[1;36m66862\u001b[0m Predicción: \u001b[1;36m0\u001b[0m Real: \u001b[1;36m1\u001b[0m\n"
      ]
     },
     "metadata": {},
     "output_type": "display_data"
    },
    {
     "data": {
      "text/html": [
       "<pre style=\"white-space:pre;overflow-x:auto;line-height:normal;font-family:Menlo,'DejaVu Sans Mono',consolas,'Courier New',monospace\">Fila: <span style=\"color: #008080; text-decoration-color: #008080; font-weight: bold\">67234</span> Predicción: <span style=\"color: #008080; text-decoration-color: #008080; font-weight: bold\">1</span> Real: <span style=\"color: #008080; text-decoration-color: #008080; font-weight: bold\">0</span>\n",
       "</pre>\n"
      ],
      "text/plain": [
       "Fila: \u001b[1;36m67234\u001b[0m Predicción: \u001b[1;36m1\u001b[0m Real: \u001b[1;36m0\u001b[0m\n"
      ]
     },
     "metadata": {},
     "output_type": "display_data"
    },
    {
     "data": {
      "text/html": [
       "<pre style=\"white-space:pre;overflow-x:auto;line-height:normal;font-family:Menlo,'DejaVu Sans Mono',consolas,'Courier New',monospace\">Fila: <span style=\"color: #008080; text-decoration-color: #008080; font-weight: bold\">67975</span> Predicción: <span style=\"color: #008080; text-decoration-color: #008080; font-weight: bold\">1</span> Real: <span style=\"color: #008080; text-decoration-color: #008080; font-weight: bold\">0</span>\n",
       "</pre>\n"
      ],
      "text/plain": [
       "Fila: \u001b[1;36m67975\u001b[0m Predicción: \u001b[1;36m1\u001b[0m Real: \u001b[1;36m0\u001b[0m\n"
      ]
     },
     "metadata": {},
     "output_type": "display_data"
    },
    {
     "data": {
      "text/html": [
       "<pre style=\"white-space:pre;overflow-x:auto;line-height:normal;font-family:Menlo,'DejaVu Sans Mono',consolas,'Courier New',monospace\">Fila: <span style=\"color: #008080; text-decoration-color: #008080; font-weight: bold\">71715</span> Predicción: <span style=\"color: #008080; text-decoration-color: #008080; font-weight: bold\">0</span> Real: <span style=\"color: #008080; text-decoration-color: #008080; font-weight: bold\">1</span>\n",
       "</pre>\n"
      ],
      "text/plain": [
       "Fila: \u001b[1;36m71715\u001b[0m Predicción: \u001b[1;36m0\u001b[0m Real: \u001b[1;36m1\u001b[0m\n"
      ]
     },
     "metadata": {},
     "output_type": "display_data"
    },
    {
     "data": {
      "text/html": [
       "<pre style=\"white-space:pre;overflow-x:auto;line-height:normal;font-family:Menlo,'DejaVu Sans Mono',consolas,'Courier New',monospace\">Fila: <span style=\"color: #008080; text-decoration-color: #008080; font-weight: bold\">73428</span> Predicción: <span style=\"color: #008080; text-decoration-color: #008080; font-weight: bold\">0</span> Real: <span style=\"color: #008080; text-decoration-color: #008080; font-weight: bold\">1</span>\n",
       "</pre>\n"
      ],
      "text/plain": [
       "Fila: \u001b[1;36m73428\u001b[0m Predicción: \u001b[1;36m0\u001b[0m Real: \u001b[1;36m1\u001b[0m\n"
      ]
     },
     "metadata": {},
     "output_type": "display_data"
    },
    {
     "data": {
      "text/html": [
       "<pre style=\"white-space:pre;overflow-x:auto;line-height:normal;font-family:Menlo,'DejaVu Sans Mono',consolas,'Courier New',monospace\">Fila: <span style=\"color: #008080; text-decoration-color: #008080; font-weight: bold\">74835</span> Predicción: <span style=\"color: #008080; text-decoration-color: #008080; font-weight: bold\">1</span> Real: <span style=\"color: #008080; text-decoration-color: #008080; font-weight: bold\">0</span>\n",
       "</pre>\n"
      ],
      "text/plain": [
       "Fila: \u001b[1;36m74835\u001b[0m Predicción: \u001b[1;36m1\u001b[0m Real: \u001b[1;36m0\u001b[0m\n"
      ]
     },
     "metadata": {},
     "output_type": "display_data"
    },
    {
     "data": {
      "text/html": [
       "<pre style=\"white-space:pre;overflow-x:auto;line-height:normal;font-family:Menlo,'DejaVu Sans Mono',consolas,'Courier New',monospace\">Fila: <span style=\"color: #008080; text-decoration-color: #008080; font-weight: bold\">76351</span> Predicción: <span style=\"color: #008080; text-decoration-color: #008080; font-weight: bold\">0</span> Real: <span style=\"color: #008080; text-decoration-color: #008080; font-weight: bold\">1</span>\n",
       "</pre>\n"
      ],
      "text/plain": [
       "Fila: \u001b[1;36m76351\u001b[0m Predicción: \u001b[1;36m0\u001b[0m Real: \u001b[1;36m1\u001b[0m\n"
      ]
     },
     "metadata": {},
     "output_type": "display_data"
    },
    {
     "data": {
      "text/html": [
       "<pre style=\"white-space:pre;overflow-x:auto;line-height:normal;font-family:Menlo,'DejaVu Sans Mono',consolas,'Courier New',monospace\">Fila: <span style=\"color: #008080; text-decoration-color: #008080; font-weight: bold\">79043</span> Predicción: <span style=\"color: #008080; text-decoration-color: #008080; font-weight: bold\">1</span> Real: <span style=\"color: #008080; text-decoration-color: #008080; font-weight: bold\">0</span>\n",
       "</pre>\n"
      ],
      "text/plain": [
       "Fila: \u001b[1;36m79043\u001b[0m Predicción: \u001b[1;36m1\u001b[0m Real: \u001b[1;36m0\u001b[0m\n"
      ]
     },
     "metadata": {},
     "output_type": "display_data"
    },
    {
     "data": {
      "text/html": [
       "<pre style=\"white-space:pre;overflow-x:auto;line-height:normal;font-family:Menlo,'DejaVu Sans Mono',consolas,'Courier New',monospace\">Fila: <span style=\"color: #008080; text-decoration-color: #008080; font-weight: bold\">82390</span> Predicción: <span style=\"color: #008080; text-decoration-color: #008080; font-weight: bold\">1</span> Real: <span style=\"color: #008080; text-decoration-color: #008080; font-weight: bold\">0</span>\n",
       "</pre>\n"
      ],
      "text/plain": [
       "Fila: \u001b[1;36m82390\u001b[0m Predicción: \u001b[1;36m1\u001b[0m Real: \u001b[1;36m0\u001b[0m\n"
      ]
     },
     "metadata": {},
     "output_type": "display_data"
    },
    {
     "data": {
      "text/html": [
       "<pre style=\"white-space:pre;overflow-x:auto;line-height:normal;font-family:Menlo,'DejaVu Sans Mono',consolas,'Courier New',monospace\">Fila: <span style=\"color: #008080; text-decoration-color: #008080; font-weight: bold\">84785</span> Predicción: <span style=\"color: #008080; text-decoration-color: #008080; font-weight: bold\">1</span> Real: <span style=\"color: #008080; text-decoration-color: #008080; font-weight: bold\">0</span>\n",
       "</pre>\n"
      ],
      "text/plain": [
       "Fila: \u001b[1;36m84785\u001b[0m Predicción: \u001b[1;36m1\u001b[0m Real: \u001b[1;36m0\u001b[0m\n"
      ]
     },
     "metadata": {},
     "output_type": "display_data"
    },
    {
     "data": {
      "text/html": [
       "<pre style=\"white-space:pre;overflow-x:auto;line-height:normal;font-family:Menlo,'DejaVu Sans Mono',consolas,'Courier New',monospace\">Fila: <span style=\"color: #008080; text-decoration-color: #008080; font-weight: bold\">87694</span> Predicción: <span style=\"color: #008080; text-decoration-color: #008080; font-weight: bold\">1</span> Real: <span style=\"color: #008080; text-decoration-color: #008080; font-weight: bold\">0</span>\n",
       "</pre>\n"
      ],
      "text/plain": [
       "Fila: \u001b[1;36m87694\u001b[0m Predicción: \u001b[1;36m1\u001b[0m Real: \u001b[1;36m0\u001b[0m\n"
      ]
     },
     "metadata": {},
     "output_type": "display_data"
    },
    {
     "data": {
      "text/html": [
       "<pre style=\"white-space:pre;overflow-x:auto;line-height:normal;font-family:Menlo,'DejaVu Sans Mono',consolas,'Courier New',monospace\">Fila: <span style=\"color: #008080; text-decoration-color: #008080; font-weight: bold\">100730</span> Predicción: <span style=\"color: #008080; text-decoration-color: #008080; font-weight: bold\">1</span> Real: <span style=\"color: #008080; text-decoration-color: #008080; font-weight: bold\">0</span>\n",
       "</pre>\n"
      ],
      "text/plain": [
       "Fila: \u001b[1;36m100730\u001b[0m Predicción: \u001b[1;36m1\u001b[0m Real: \u001b[1;36m0\u001b[0m\n"
      ]
     },
     "metadata": {},
     "output_type": "display_data"
    },
    {
     "data": {
      "text/html": [
       "<pre style=\"white-space:pre;overflow-x:auto;line-height:normal;font-family:Menlo,'DejaVu Sans Mono',consolas,'Courier New',monospace\">Fila: <span style=\"color: #008080; text-decoration-color: #008080; font-weight: bold\">105603</span> Predicción: <span style=\"color: #008080; text-decoration-color: #008080; font-weight: bold\">0</span> Real: <span style=\"color: #008080; text-decoration-color: #008080; font-weight: bold\">1</span>\n",
       "</pre>\n"
      ],
      "text/plain": [
       "Fila: \u001b[1;36m105603\u001b[0m Predicción: \u001b[1;36m0\u001b[0m Real: \u001b[1;36m1\u001b[0m\n"
      ]
     },
     "metadata": {},
     "output_type": "display_data"
    },
    {
     "data": {
      "text/html": [
       "<pre style=\"white-space:pre;overflow-x:auto;line-height:normal;font-family:Menlo,'DejaVu Sans Mono',consolas,'Courier New',monospace\">Fila: <span style=\"color: #008080; text-decoration-color: #008080; font-weight: bold\">106924</span> Predicción: <span style=\"color: #008080; text-decoration-color: #008080; font-weight: bold\">1</span> Real: <span style=\"color: #008080; text-decoration-color: #008080; font-weight: bold\">0</span>\n",
       "</pre>\n"
      ],
      "text/plain": [
       "Fila: \u001b[1;36m106924\u001b[0m Predicción: \u001b[1;36m1\u001b[0m Real: \u001b[1;36m0\u001b[0m\n"
      ]
     },
     "metadata": {},
     "output_type": "display_data"
    },
    {
     "data": {
      "text/html": [
       "<pre style=\"white-space:pre;overflow-x:auto;line-height:normal;font-family:Menlo,'DejaVu Sans Mono',consolas,'Courier New',monospace\">Fila: <span style=\"color: #008080; text-decoration-color: #008080; font-weight: bold\">109447</span> Predicción: <span style=\"color: #008080; text-decoration-color: #008080; font-weight: bold\">1</span> Real: <span style=\"color: #008080; text-decoration-color: #008080; font-weight: bold\">0</span>\n",
       "</pre>\n"
      ],
      "text/plain": [
       "Fila: \u001b[1;36m109447\u001b[0m Predicción: \u001b[1;36m1\u001b[0m Real: \u001b[1;36m0\u001b[0m\n"
      ]
     },
     "metadata": {},
     "output_type": "display_data"
    },
    {
     "data": {
      "text/html": [
       "<pre style=\"white-space:pre;overflow-x:auto;line-height:normal;font-family:Menlo,'DejaVu Sans Mono',consolas,'Courier New',monospace\">Fila: <span style=\"color: #008080; text-decoration-color: #008080; font-weight: bold\">109923</span> Predicción: <span style=\"color: #008080; text-decoration-color: #008080; font-weight: bold\">1</span> Real: <span style=\"color: #008080; text-decoration-color: #008080; font-weight: bold\">0</span>\n",
       "</pre>\n"
      ],
      "text/plain": [
       "Fila: \u001b[1;36m109923\u001b[0m Predicción: \u001b[1;36m1\u001b[0m Real: \u001b[1;36m0\u001b[0m\n"
      ]
     },
     "metadata": {},
     "output_type": "display_data"
    },
    {
     "data": {
      "text/html": [
       "<pre style=\"white-space:pre;overflow-x:auto;line-height:normal;font-family:Menlo,'DejaVu Sans Mono',consolas,'Courier New',monospace\">Fila: <span style=\"color: #008080; text-decoration-color: #008080; font-weight: bold\">113415</span> Predicción: <span style=\"color: #008080; text-decoration-color: #008080; font-weight: bold\">1</span> Real: <span style=\"color: #008080; text-decoration-color: #008080; font-weight: bold\">0</span>\n",
       "</pre>\n"
      ],
      "text/plain": [
       "Fila: \u001b[1;36m113415\u001b[0m Predicción: \u001b[1;36m1\u001b[0m Real: \u001b[1;36m0\u001b[0m\n"
      ]
     },
     "metadata": {},
     "output_type": "display_data"
    },
    {
     "data": {
      "text/html": [
       "<pre style=\"white-space:pre;overflow-x:auto;line-height:normal;font-family:Menlo,'DejaVu Sans Mono',consolas,'Courier New',monospace\">Fila: <span style=\"color: #008080; text-decoration-color: #008080; font-weight: bold\">113718</span> Predicción: <span style=\"color: #008080; text-decoration-color: #008080; font-weight: bold\">1</span> Real: <span style=\"color: #008080; text-decoration-color: #008080; font-weight: bold\">0</span>\n",
       "</pre>\n"
      ],
      "text/plain": [
       "Fila: \u001b[1;36m113718\u001b[0m Predicción: \u001b[1;36m1\u001b[0m Real: \u001b[1;36m0\u001b[0m\n"
      ]
     },
     "metadata": {},
     "output_type": "display_data"
    },
    {
     "data": {
      "text/html": [
       "<pre style=\"white-space:pre;overflow-x:auto;line-height:normal;font-family:Menlo,'DejaVu Sans Mono',consolas,'Courier New',monospace\">Fila: <span style=\"color: #008080; text-decoration-color: #008080; font-weight: bold\">114452</span> Predicción: <span style=\"color: #008080; text-decoration-color: #008080; font-weight: bold\">1</span> Real: <span style=\"color: #008080; text-decoration-color: #008080; font-weight: bold\">0</span>\n",
       "</pre>\n"
      ],
      "text/plain": [
       "Fila: \u001b[1;36m114452\u001b[0m Predicción: \u001b[1;36m1\u001b[0m Real: \u001b[1;36m0\u001b[0m\n"
      ]
     },
     "metadata": {},
     "output_type": "display_data"
    },
    {
     "data": {
      "text/html": [
       "<pre style=\"white-space:pre;overflow-x:auto;line-height:normal;font-family:Menlo,'DejaVu Sans Mono',consolas,'Courier New',monospace\">Fila: <span style=\"color: #008080; text-decoration-color: #008080; font-weight: bold\">114810</span> Predicción: <span style=\"color: #008080; text-decoration-color: #008080; font-weight: bold\">1</span> Real: <span style=\"color: #008080; text-decoration-color: #008080; font-weight: bold\">0</span>\n",
       "</pre>\n"
      ],
      "text/plain": [
       "Fila: \u001b[1;36m114810\u001b[0m Predicción: \u001b[1;36m1\u001b[0m Real: \u001b[1;36m0\u001b[0m\n"
      ]
     },
     "metadata": {},
     "output_type": "display_data"
    },
    {
     "data": {
      "text/html": [
       "<pre style=\"white-space:pre;overflow-x:auto;line-height:normal;font-family:Menlo,'DejaVu Sans Mono',consolas,'Courier New',monospace\">Fila: <span style=\"color: #008080; text-decoration-color: #008080; font-weight: bold\">116820</span> Predicción: <span style=\"color: #008080; text-decoration-color: #008080; font-weight: bold\">1</span> Real: <span style=\"color: #008080; text-decoration-color: #008080; font-weight: bold\">0</span>\n",
       "</pre>\n"
      ],
      "text/plain": [
       "Fila: \u001b[1;36m116820\u001b[0m Predicción: \u001b[1;36m1\u001b[0m Real: \u001b[1;36m0\u001b[0m\n"
      ]
     },
     "metadata": {},
     "output_type": "display_data"
    },
    {
     "data": {
      "text/html": [
       "<pre style=\"white-space:pre;overflow-x:auto;line-height:normal;font-family:Menlo,'DejaVu Sans Mono',consolas,'Courier New',monospace\">Fila: <span style=\"color: #008080; text-decoration-color: #008080; font-weight: bold\">124653</span> Predicción: <span style=\"color: #008080; text-decoration-color: #008080; font-weight: bold\">1</span> Real: <span style=\"color: #008080; text-decoration-color: #008080; font-weight: bold\">0</span>\n",
       "</pre>\n"
      ],
      "text/plain": [
       "Fila: \u001b[1;36m124653\u001b[0m Predicción: \u001b[1;36m1\u001b[0m Real: \u001b[1;36m0\u001b[0m\n"
      ]
     },
     "metadata": {},
     "output_type": "display_data"
    },
    {
     "data": {
      "text/html": [
       "<pre style=\"white-space:pre;overflow-x:auto;line-height:normal;font-family:Menlo,'DejaVu Sans Mono',consolas,'Courier New',monospace\">Fila: <span style=\"color: #008080; text-decoration-color: #008080; font-weight: bold\">129655</span> Predicción: <span style=\"color: #008080; text-decoration-color: #008080; font-weight: bold\">1</span> Real: <span style=\"color: #008080; text-decoration-color: #008080; font-weight: bold\">0</span>\n",
       "</pre>\n"
      ],
      "text/plain": [
       "Fila: \u001b[1;36m129655\u001b[0m Predicción: \u001b[1;36m1\u001b[0m Real: \u001b[1;36m0\u001b[0m\n"
      ]
     },
     "metadata": {},
     "output_type": "display_data"
    },
    {
     "data": {
      "text/html": [
       "<pre style=\"white-space:pre;overflow-x:auto;line-height:normal;font-family:Menlo,'DejaVu Sans Mono',consolas,'Courier New',monospace\">Fila: <span style=\"color: #008080; text-decoration-color: #008080; font-weight: bold\">131868</span> Predicción: <span style=\"color: #008080; text-decoration-color: #008080; font-weight: bold\">1</span> Real: <span style=\"color: #008080; text-decoration-color: #008080; font-weight: bold\">0</span>\n",
       "</pre>\n"
      ],
      "text/plain": [
       "Fila: \u001b[1;36m131868\u001b[0m Predicción: \u001b[1;36m1\u001b[0m Real: \u001b[1;36m0\u001b[0m\n"
      ]
     },
     "metadata": {},
     "output_type": "display_data"
    },
    {
     "data": {
      "text/html": [
       "<pre style=\"white-space:pre;overflow-x:auto;line-height:normal;font-family:Menlo,'DejaVu Sans Mono',consolas,'Courier New',monospace\">Fila: <span style=\"color: #008080; text-decoration-color: #008080; font-weight: bold\">140303</span> Predicción: <span style=\"color: #008080; text-decoration-color: #008080; font-weight: bold\">0</span> Real: <span style=\"color: #008080; text-decoration-color: #008080; font-weight: bold\">1</span>\n",
       "</pre>\n"
      ],
      "text/plain": [
       "Fila: \u001b[1;36m140303\u001b[0m Predicción: \u001b[1;36m0\u001b[0m Real: \u001b[1;36m1\u001b[0m\n"
      ]
     },
     "metadata": {},
     "output_type": "display_data"
    }
   ],
   "source": [
    "indxs_err = np.where(predict_test != target_test)[0]\n",
    "\n",
    "count = [0, 0]\n",
    "\n",
    "for idx in indxs_err:\n",
    "    pred = predict_test[idx]\n",
    "    real = target_test.iloc[idx]\n",
    "    count[pred] += 1\n",
    "    print(\"Fila: %d Predicción: %d Real: %d\" % (idx, pred, real))"
   ]
  },
  {
   "attachments": {},
   "cell_type": "markdown",
   "metadata": {},
   "source": [
    "#### Conclusiones"
   ]
  },
  {
   "attachments": {},
   "cell_type": "markdown",
   "metadata": {},
   "source": [
    "Analizando la grafica que nos muestra el % de error y el numero de unidades ocultas, observamos que no obtenemos menor error tras las 130 unidades (por lo que no tiene sentido emplear un modelo que utilize más de estos).\n",
    "\n",
    "Estos errores son menos de un 0.04% de nuestros conjuntos, con esto concluimos que nuestro modelo tiene un alto grado de certeza. Los resultados exactos son los siguientes: precisión del 99.988% en el conjunto de entrenamiento, precisión del 99.968% en el conjunto de validación y precisión del 99.962% en el conjunto de prueba. \n",
    "Uno de los aspectos más importantes a tener en cuenta a la hora de analizar nuestro dataset es la importancia de no identificar las transacciones fraudulentas incorrectamente y, como podemos ver tanto con los niveles de precisión obtenidos como con las matrices de correlación, hemos logrado este objetivo."
   ]
  }
 ],
 "metadata": {
  "kernelspec": {
   "display_name": "TID-grupo02",
   "language": "python",
   "name": "python3"
  },
  "language_info": {
   "codemirror_mode": {
    "name": "ipython",
    "version": 3
   },
   "file_extension": ".py",
   "mimetype": "text/x-python",
   "name": "python",
   "nbconvert_exporter": "python",
   "pygments_lexer": "ipython3",
   "version": "3.10.6"
  },
  "orig_nbformat": 4
 },
 "nbformat": 4,
 "nbformat_minor": 2
}
